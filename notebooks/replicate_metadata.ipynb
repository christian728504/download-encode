{
 "cells": [
  {
   "cell_type": "code",
   "execution_count": null,
   "metadata": {},
   "outputs": [],
   "source": [
    "import polars as pl\n",
    "from IPython.display import display"
   ]
  },
  {
   "cell_type": "code",
   "execution_count": null,
   "metadata": {},
   "outputs": [],
   "source": [
    "clean_encode_files = pl.read_parquet(\"../output/encode_matrix_by_accession/clean_encode_files.parquet\")\n",
    "display(clean_encode_files)"
   ]
  },
  {
   "cell_type": "code",
   "execution_count": null,
   "metadata": {},
   "outputs": [],
   "source": [
    "output_type_list = ['plus strand signal of unique reads', 'minus strand signal of unique reads', 'signal of unique reads']\n",
    "filter_by_assay = clean_encode_files.filter(pl.col(\"assay_title\").is_in([\"total RNA-seq\", \"RAMPAGE\", \"CAGE\", \"BruChase-seq\", \"PRO-cap\", \"BruUV-seq\", \"Bru-seq\"]))\n",
    "filter_by_biosample = filter_by_assay.filter(pl.col(\"biosample\").eq(\"K562\"))\n",
    "filter_by_assembly = filter_by_biosample.filter(pl.col(\"assembly\").str.contains(\"GRCh38\"))\n",
    "filter_by_file_type = filter_by_assembly.filter(pl.col(\"file_type\").str.contains(\"bigWig\"))\n",
    "filter_by_output_type = filter_by_file_type.filter(pl.col(\"output_type\").is_in(output_type_list))\n",
    "\n",
    "display(filter_by_output_type)"
   ]
  },
  {
   "cell_type": "code",
   "execution_count": null,
   "metadata": {},
   "outputs": [],
   "source": [
    "import json\n",
    "import requests\n",
    "import sys\n",
    "import gc\n",
    "\n",
    "# Example of how directly accessing the file JSON via an accession retruns MORE data than by querying the search API\n",
    "\n",
    "by_accession = requests.get(\"https://www.encodeproject.org/files/ENCFF000AAW/?format=json\")\n",
    "by_accession = by_accession.json()\n",
    "by_search = requests.get(\"https://www.encodeproject.org/files/?accession=ENCFF000AAW&format=json\")\n",
    "by_search = by_search.json().get('@graph')[0]\n",
    "\n",
    "assert(sys.getsizeof(by_accession) > sys.getsizeof(by_search))"
   ]
  },
  {
   "cell_type": "code",
   "execution_count": null,
   "metadata": {},
   "outputs": [],
   "source": []
  }
 ],
 "metadata": {
  "kernelspec": {
   "display_name": ".venv",
   "language": "python",
   "name": "python3"
  },
  "language_info": {
   "codemirror_mode": {
    "name": "ipython",
    "version": 3
   },
   "file_extension": ".py",
   "mimetype": "text/x-python",
   "name": "python",
   "nbconvert_exporter": "python",
   "pygments_lexer": "ipython3",
   "version": "3.10.12"
  }
 },
 "nbformat": 4,
 "nbformat_minor": 2
}
