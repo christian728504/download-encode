{
 "cells": [
  {
   "cell_type": "code",
   "execution_count": 1,
   "metadata": {},
   "outputs": [],
   "source": [
    "import polars as pl\n",
    "from IPython.display import display"
   ]
  },
  {
   "cell_type": "code",
   "execution_count": null,
   "metadata": {},
   "outputs": [],
   "source": [
    "encode_experiments = pl.read_parquet(\"../encode_experiments.parquet\")\n",
    "display(encode_experiments)"
   ]
  },
  {
   "cell_type": "code",
   "execution_count": null,
   "metadata": {},
   "outputs": [],
   "source": [
    "files_col_to_list = encode_experiments.with_columns(pl.col(\"files\").str.json_decode())\n",
    "files_col_exploded = files_col_to_list.explode(\"files\")\n",
    "unpacked_files = files_col_exploded.with_columns(pl.col(\"files\").struct.field(\"*\").alias(\"@id\"))\n",
    "unpacked_files_shortened = unpacked_files.select(\"@id\", \"assay_title\", \"biosample_summary\", \"dbxrefs\", \"description\")\n",
    "display(unpacked_files_shortened)"
   ]
  },
  {
   "cell_type": "code",
   "execution_count": null,
   "metadata": {},
   "outputs": [],
   "source": [
    "encode = pl.read_parquet(\"../encode_files.parquet\")\n",
    "display(encode)"
   ]
  },
  {
   "cell_type": "code",
   "execution_count": null,
   "metadata": {},
   "outputs": [],
   "source": [
    "only_experiments = encode.filter(pl.col(\"dataset\").str.starts_with(\"/experiments/\").alias(\"files\"))\n",
    "display(only_experiments)"
   ]
  },
  {
   "cell_type": "code",
   "execution_count": null,
   "metadata": {},
   "outputs": [],
   "source": [
    "joined = only_experiments.join(unpacked_files_shortened, on='@id', how='inner')\n",
    "display(joined)"
   ]
  },
  {
   "cell_type": "code",
   "execution_count": null,
   "metadata": {},
   "outputs": [],
   "source": [
    "output_type_list = ['plus strand signal of unique reads', 'minus strand signal of unique reads', 'signal of unique reads']\n",
    "filter_by_assay = joined.filter(pl.col(\"assay_term_name\").is_in([\"RNA-seq\", \"RAMPAGE\", \"CAGE\", \"BruChase-seq\", \"PRO-cap\", \"BruUV-seq\", \"Bru-seq\"]))\n",
    "filter_by_biosample = filter_by_assay.filter(pl.col(\"biosample_ontology\").str.json_path_match(\"$.term_name\").str.contains(\"K562\"))\n",
    "filter_by_assembly = filter_by_biosample.filter(pl.col(\"assembly\").str.contains(\"GRCh38\"))\n",
    "filter_by_status = filter_by_assembly.filter(pl.col(\"status\").str.contains(\"released\"))\n",
    "filter_by_file_type = filter_by_status.filter(pl.col(\"file_type\").str.contains(\"bigWig\"))\n",
    "# filter_by_output_type = filter_by_file_type.filter(pl.col(\"output_type\").is_in(output_type_list))\n",
    "filter_by_output_type = filter_by_file_type.fitler(pl.col(\"output_type\").)\n",
    "\n",
    "display(filter_by_output_type.sort(\"dataset\"))"
   ]
  },
  {
   "cell_type": "code",
   "execution_count": null,
   "metadata": {},
   "outputs": [],
   "source": [
    "print(filter_by_output_type[\"assay_title\"].sort().value_counts())"
   ]
  },
  {
   "cell_type": "code",
   "execution_count": null,
   "metadata": {},
   "outputs": [],
   "source": [
    "# Counts output of assay column of /zata/zippy/andrewsg/transcription-vae/data/tabular_data/encode_metadata.tsv\n",
    "\n",
    "\"\"\"\n",
    "shape: (8, 2)\n",
    "┌───────────────────┬───────┐\n",
    "│ assay             ┆ count │\n",
    "│ ---               ┆ ---   │\n",
    "│ str               ┆ u32   │\n",
    "╞═══════════════════╪═══════╡\n",
    "│ BruUV-seq         ┆ 4     │\n",
    "│ RAMPAGE           ┆ 4     │\n",
    "│ Bru-seq           ┆ 8     │\n",
    "│ CAGE              ┆ 12    │\n",
    "│ PRO-cap           ┆ 40    │\n",
    "│ RNA-seq           ┆ 190   │\n",
    "│ BruChase-seq      ┆ 8     │\n",
    "│ long read RNA-seq ┆ 7     │\n",
    "└───────────────────┴───────┘\n",
    "\"\"\""
   ]
  }
 ],
 "metadata": {
  "kernelspec": {
   "display_name": ".venv",
   "language": "python",
   "name": "python3"
  },
  "language_info": {
   "codemirror_mode": {
    "name": "ipython",
    "version": 3
   },
   "file_extension": ".py",
   "mimetype": "text/x-python",
   "name": "python",
   "nbconvert_exporter": "python",
   "pygments_lexer": "ipython3",
   "version": "3.10.12"
  }
 },
 "nbformat": 4,
 "nbformat_minor": 2
}
