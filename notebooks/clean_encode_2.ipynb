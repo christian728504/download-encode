{
 "cells": [
  {
   "cell_type": "code",
   "execution_count": null,
   "metadata": {},
   "outputs": [],
   "source": [
    "import polars as pl"
   ]
  },
  {
   "cell_type": "code",
   "execution_count": null,
   "metadata": {},
   "outputs": [],
   "source": [
    "encode_files = pl.read_parquet('../encode_files.parquet')\n",
    "display(encode_files)"
   ]
  },
  {
   "cell_type": "code",
   "execution_count": null,
   "metadata": {},
   "outputs": [],
   "source": [
    "drop_cols = encode_files.drop(\"@type\", \"audit\", \"quality_metrics\", \"replicate\")\n",
    "\n",
    "only_experiments = drop_cols.filter(pl.col(\"dataset\").str.starts_with(\"/experiments\"))\n",
    "filter_status_released = only_experiments.filter(pl.col(\"status\") == \"released\")\n",
    "\n",
    "bio_reps_to_list = filter_status_released.with_columns(pl.col(\"biological_replicates\").str.json_decode(dtype=pl.List(pl.Int64)))\n",
    "technical_reps_to_list = bio_reps_to_list.with_columns(pl.col(\"technical_replicates\").str.json_decode(dtype=pl.List(pl.Utf8)))\n",
    "origin_batches_to_list = technical_reps_to_list.with_columns(pl.col(\"origin_batches\").str.json_decode(dtype=pl.List(pl.Utf8)))\n",
    "derived_from_to_list = origin_batches_to_list.with_columns(pl.col(\"derived_from\").str.json_decode(dtype=pl.List(pl.Utf8)))\n",
    "\n",
    "clean_label = derived_from_to_list.with_columns(pl.col(\"target\").str.json_path_match(\"$.label\").alias(\"label\"))\n",
    "clean_biosample = clean_label.with_columns(pl.col(\"biosample_ontology\").str.json_path_match(\"$.term_name\").alias(\"biosample\"))\n",
    "clean_organ_slims = clean_biosample.with_columns(pl.col(\"biosample_ontology\").str.json_path_match(\"$.organ_slims\").str.json_decode(dtype=pl.List(pl.Utf8)).alias(\"organ_slims\"))\n",
    "index_of_to_list = clean_organ_slims.with_columns(pl.col(\"index_of\").str.json_decode(dtype=pl.List(pl.Utf8)).alias(\"index_of\"))\n",
    "drop_biosample_ontology = index_of_to_list.drop(\"biosample_ontology\")\n",
    "clean_award = drop_biosample_ontology.with_columns(pl.col(\"award\").str.json_path_match(\"$.project\").alias(\"award\"))\n",
    "\n",
    "clean_dataset = clean_award.with_columns(pl.col(\"dataset\").str.split(\"/\").list[2].alias(\"experiments\"))\n",
    "drop_dataset = clean_dataset.drop(\"dataset\")\n",
    "\n",
    "clean_id = drop_dataset.with_columns(pl.col(\"@id\").str.split(\"/\").list[2].alias(\"id\"))\n",
    "drop_old_id = clean_id.drop(\"@id\")\n",
    "\n",
    "formatted_date = drop_old_id.with_columns(pl.col(\"date_created\").cast(pl.Datetime))\n",
    "\n",
    "file_size_mb = formatted_date.with_columns((pl.col(\"file_size\") / (1024**2)).round().cast(pl.Int64).alias(\"file_size_mb\"))\n",
    "\n",
    "href_to_download_link = file_size_mb.with_columns((\"https://www.encodeproject.org\" + pl.col(\"href\")).alias(\"download_link\"))\n",
    "drop_href = href_to_download_link.drop(\"href\")\n",
    "\n",
    "analysis_step_version_extracted = drop_href.with_columns(pl.col(\"analysis_step_version\").str.json_decode(infer_schema_length=None).alias(\"analysis_step_version\"))\n",
    "software = analysis_step_version_extracted.with_columns(\n",
    "    pl.col(\"analysis_step_version\").struct.field(\"software_versions\").list.eval(\n",
    "        pl.element().struct.field(\"software\").struct.field(\"name\") +\n",
    "        pl.lit(\":\") +\n",
    "        pl.element().struct.field(\"version\")).alias(\"software\"))\n",
    "drop_analysis_step_version = software.drop(\"analysis_step_version\")\n",
    "\n",
    "clean_lab = drop_analysis_step_version.with_columns(pl.col(\"lab\").str.json_path_match(\"$.title\").alias(\"lab\"))\n",
    "clean_step_run = clean_lab.with_columns(pl.col(\"step_run\").str.json_path_match(\"$.analysis_step_version\").str.split(\"/\").list[2].alias(\"step_run\"))\n",
    "\n",
    "clean_encode_files = clean_step_run"
   ]
  },
  {
   "cell_type": "code",
   "execution_count": null,
   "metadata": {},
   "outputs": [],
   "source": [
    "display(clean_encode_files)"
   ]
  },
  {
   "cell_type": "code",
   "execution_count": null,
   "metadata": {},
   "outputs": [],
   "source": []
  }
 ],
 "metadata": {
  "kernelspec": {
   "display_name": ".venv",
   "language": "python",
   "name": "python3"
  },
  "language_info": {
   "codemirror_mode": {
    "name": "ipython",
    "version": 3
   },
   "file_extension": ".py",
   "mimetype": "text/x-python",
   "name": "python",
   "nbconvert_exporter": "python",
   "pygments_lexer": "ipython3",
   "version": "3.10.12"
  }
 },
 "nbformat": 4,
 "nbformat_minor": 2
}
