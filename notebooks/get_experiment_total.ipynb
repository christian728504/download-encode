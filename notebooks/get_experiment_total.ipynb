{
 "cells": [
  {
   "cell_type": "code",
   "execution_count": null,
   "metadata": {},
   "outputs": [],
   "source": [
    "import requests\n",
    "import polars as pl\n",
    "import json\n",
    "from box import Box\n",
    "from IPython.display import display"
   ]
  },
  {
   "cell_type": "code",
   "execution_count": null,
   "metadata": {},
   "outputs": [],
   "source": [
    "def get_size_of_encode():\n",
    "    url = 'https://www.encodeproject.org/search/?type=Experiment&format=json&limit=all'\n",
    "    headers = {'accept': 'application/json'}\n",
    "    \n",
    "    response = requests.get(url, headers=headers)\n",
    "    data = response.json()\n",
    "    experiment_graph = data.get('@graph', [])\n",
    "    number_of_experiments = len(experiment_graph)\n",
    "    number_of_files = 0\n",
    "    \n",
    "    for experiment in experiment_graph:\n",
    "        experiment_files = experiment.get('files', [])\n",
    "        experiment_file_count = len(experiment_files)\n",
    "        number_of_files += experiment_file_count\n",
    "    \n",
    "    return number_of_experiments, number_of_files"
   ]
  },
  {
   "cell_type": "code",
   "execution_count": null,
   "metadata": {},
   "outputs": [],
   "source": [
    "number_of_experiments, number_of_files = get_size_of_encode()\n",
    "print(f\"Total number of experiments on ENCODE: {number_of_experiments}\")\n",
    "print(f\"Total number of files ENCODE: {number_of_files}\")"
   ]
  },
  {
   "cell_type": "code",
   "execution_count": null,
   "metadata": {},
   "outputs": [],
   "source": [
    "## Le broken ...\n",
    "\n",
    "def all_files_to_static_json():\n",
    "    url = 'https://www.encodeproject.org/files/?format=json&limit=all'\n",
    "    headers = {'accept': 'application/json'}\n",
    "    response = requests.get(url, headers=headers)\n",
    "    data = response.json()\n",
    "    file_graph = data.get('@graph', [])\n",
    "    with open('encode.json', 'w') as f:\n",
    "        json.dump(file_graph, f, indent=4)\n",
    "        \n",
    "    print('File graph saved to encode.json')"
   ]
  },
  {
   "cell_type": "code",
   "execution_count": null,
   "metadata": {},
   "outputs": [],
   "source": [
    "all_files_to_static_json()"
   ]
  },
  {
   "cell_type": "code",
   "execution_count": null,
   "metadata": {},
   "outputs": [
    {
     "ename": "ModuleNotFoundError",
     "evalue": "No module named 'download_encode'",
     "output_type": "error",
     "traceback": [
      "\u001b[0;31m---------------------------------------------------------------------------\u001b[0m",
      "\u001b[0;31mModuleNotFoundError\u001b[0m                       Traceback (most recent call last)",
      "Cell \u001b[0;32mIn[12], line 3\u001b[0m\n\u001b[1;32m      1\u001b[0m \u001b[38;5;28;01mimport\u001b[39;00m\u001b[38;5;250m \u001b[39m\u001b[38;5;21;01mjson\u001b[39;00m\n\u001b[1;32m      2\u001b[0m \u001b[38;5;28;01mimport\u001b[39;00m\u001b[38;5;250m \u001b[39m\u001b[38;5;21;01mpolars\u001b[39;00m\u001b[38;5;250m \u001b[39m\u001b[38;5;28;01mas\u001b[39;00m\u001b[38;5;250m \u001b[39m\u001b[38;5;21;01mpl\u001b[39;00m\n\u001b[0;32m----> 3\u001b[0m \u001b[38;5;28;01mfrom\u001b[39;00m\u001b[38;5;250m \u001b[39m\u001b[38;5;21;01mdownload_encode\u001b[39;00m\u001b[38;5;21;01m.\u001b[39;00m\u001b[38;5;21;01mconstants\u001b[39;00m\u001b[38;5;250m \u001b[39m\u001b[38;5;28;01mimport\u001b[39;00m schema\n\u001b[1;32m      5\u001b[0m \u001b[38;5;28;01mwith\u001b[39;00m \u001b[38;5;28mopen\u001b[39m(\u001b[38;5;124m'\u001b[39m\u001b[38;5;124m../encode.json\u001b[39m\u001b[38;5;124m'\u001b[39m) \u001b[38;5;28;01mas\u001b[39;00m f:\n\u001b[1;32m      6\u001b[0m     data \u001b[38;5;241m=\u001b[39m json\u001b[38;5;241m.\u001b[39mload(f)\n",
      "\u001b[0;31mModuleNotFoundError\u001b[0m: No module named 'download_encode'"
     ]
    }
   ],
   "source": [
    "import json\n",
    "import polars as pl\n",
    "from download-encode.constants import schema\n",
    "\n",
    "with open('../encode.json') as f:\n",
    "    data = json.load(f)\n",
    "    \n",
    "pl.from_dicts(data, strict=False, schema=schema).write_parquet('encode.parquet')"
   ]
  },
  {
   "cell_type": "code",
   "execution_count": null,
   "metadata": {},
   "outputs": [],
   "source": [
    "import pickle\n",
    "\n",
    "with open('../accessions.pkl', 'rb') as f:\n",
    "    accessions = pickle.load(f)\n",
    "    \n",
    "print(len(accessions))"
   ]
  },
  {
   "cell_type": "code",
   "execution_count": null,
   "metadata": {},
   "outputs": [],
   "source": [
    "encode = pl.read_parquet('../clean_encode.parquet')\n",
    "display(encode)\n",
    "# print(encode.select(\"biological_replicates\"))\n",
    "# display(encode)\n",
    "for column in encode.iter_columns():\n",
    "    display(encode.select(column).unique())\n",
    "    \n",
    "print(encode.select(\"output_type\").unique().to_list())\n"
   ]
  },
  {
   "cell_type": "code",
   "execution_count": null,
   "metadata": {},
   "outputs": [],
   "source": [
    "encode = pl.read_parquet('../clean_encode.parquet')"
   ]
  },
  {
   "cell_type": "code",
   "execution_count": null,
   "metadata": {},
   "outputs": [],
   "source": [
    "display(encode)"
   ]
  },
  {
   "cell_type": "code",
   "execution_count": null,
   "metadata": {},
   "outputs": [],
   "source": [
    "import json\n",
    "\n",
    "json_objects = []\n",
    "\n",
    "with open('../encode.jsonl') as f:\n",
    "    for line in f:\n",
    "        file = json.loads(line)\n",
    "        json_objects.append(file)\n",
    "\n",
    "json_string = json.dumps(json_objects)\n",
    "\n",
    "from io import StringIO\n",
    "json_file_obj = StringIO(json_string)\n",
    "\n",
    "encode_json = pl.read_json(json_file_obj)"
   ]
  },
  {
   "cell_type": "code",
   "execution_count": null,
   "metadata": {},
   "outputs": [],
   "source": [
    "import json \n",
    "\n",
    "url = \"https://www.encodeproject.org/experiments/?format=json&limit=1\"\n",
    "response = requests.get(url)\n",
    "data = response.json()\n",
    "experiment = data['@graph'][0]\n",
    "with open('encode_experiment_example.json', 'w') as outfile:\n",
    "    json.dump(experiment, outfile, indent=4)\n"
   ]
  },
  {
   "cell_type": "code",
   "execution_count": null,
   "metadata": {},
   "outputs": [],
   "source": [
    "\"/experiments/ENCSR220XSM/\".split('/')"
   ]
  },
  {
   "cell_type": "code",
   "execution_count": null,
   "metadata": {},
   "outputs": [],
   "source": []
  }
 ],
 "metadata": {
  "kernelspec": {
   "display_name": ".venv",
   "language": "python",
   "name": "python3"
  },
  "language_info": {
   "codemirror_mode": {
    "name": "ipython",
    "version": 3
   },
   "file_extension": ".py",
   "mimetype": "text/x-python",
   "name": "python",
   "nbconvert_exporter": "python",
   "pygments_lexer": "ipython3",
   "version": "3.10.12"
  }
 },
 "nbformat": 4,
 "nbformat_minor": 2
}
