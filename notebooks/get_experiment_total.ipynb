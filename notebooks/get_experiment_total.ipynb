{
 "cells": [
  {
   "cell_type": "code",
   "execution_count": null,
   "metadata": {},
   "outputs": [],
   "source": [
    "import requests\n",
    "import polars as pl\n",
    "import json\n",
    "from box import Box\n",
    "from IPython.display import display"
   ]
  },
  {
   "cell_type": "code",
   "execution_count": null,
   "metadata": {},
   "outputs": [],
   "source": [
    "def get_size_of_encode():\n",
    "    url = 'https://www.encodeproject.org/search/?type=Experiment&format=json&limit=all'\n",
    "    headers = {'accept': 'application/json'}\n",
    "    \n",
    "    response = requests.get(url, headers=headers)\n",
    "    data = response.json()\n",
    "    experiment_graph = data.get('@graph', [])\n",
    "    number_of_experiments = len(experiment_graph)\n",
    "    number_of_files = 0\n",
    "    \n",
    "    for experiment in experiment_graph:\n",
    "        experiment_files = experiment.get('files', [])\n",
    "        experiment_file_count = len(experiment_files)\n",
    "        number_of_files += experiment_file_count\n",
    "    \n",
    "    return number_of_experiments, number_of_files"
   ]
  },
  {
   "cell_type": "code",
   "execution_count": null,
   "metadata": {},
   "outputs": [],
   "source": [
    "number_of_experiments, number_of_files = get_size_of_encode()\n",
    "print(f\"Total number of experiments on ENCODE: {number_of_experiments}\")\n",
    "print(f\"Total number of files ENCODE: {number_of_files}\")"
   ]
  },
  {
   "cell_type": "code",
   "execution_count": null,
   "metadata": {},
   "outputs": [],
   "source": [
    "## Le broken ...\n",
    "\n",
    "def all_files_to_static_json():\n",
    "    url = 'https://www.encodeproject.org/search/?type=File&format=json&limit=all'\n",
    "    headers = {'accept': 'application/json'}\n",
    "    response = requests.get(url, headers=headers)\n",
    "    data = response.json()\n",
    "    file_graph = data.get('@graph', [])\n",
    "    with open('encode_files.json', 'w') as f:\n",
    "        json.dump(file_graph, f)\n",
    "        \n",
    "    print('File graph saved to encode_files.json')"
   ]
  },
  {
   "cell_type": "code",
   "execution_count": null,
   "metadata": {},
   "outputs": [],
   "source": [
    "import pickle\n",
    "\n",
    "with open('../accessions.pkl', 'rb') as f:\n",
    "    accessions = pickle.load(f)\n",
    "    \n",
    "print(len(accessions))"
   ]
  },
  {
   "cell_type": "code",
   "execution_count": null,
   "metadata": {},
   "outputs": [
    {
     "data": {
      "text/html": [
       "<div><style>\n",
       ".dataframe > thead > tr,\n",
       ".dataframe > tbody > tr {\n",
       "  text-align: right;\n",
       "  white-space: pre-wrap;\n",
       "}\n",
       "</style>\n",
       "<small>shape: (762_008, 45)</small><table border=\"1\" class=\"dataframe\"><thead><tr><th>title</th><th>accession</th><th>dataset</th><th>assembly</th><th>technical_replicates</th><th>biological_replicates</th><th>file_format</th><th>file_type</th><th>file_format_type</th><th>file_size</th><th>assay_term_name</th><th>term_name</th><th>organ_slims</th><th>simple_biosample_summary</th><th>origin_batches</th><th>label</th><th>download_url</th><th>derived_from</th><th>genome_annotation</th><th>paired_end</th><th>paired_with</th><th>preferred_default</th><th>run_type</th><th>read_length</th><th>mapped_read_length</th><th>cropped_read_length</th><th>cropped_read_length_tolerance</th><th>mapped_run_type</th><th>read_length_units</th><th>output_category</th><th>output_type</th><th>index_of</th><th>quality_metrics</th><th>lab_title</th><th>project</th><th>step_run</th><th>date_created</th><th>analysis_step_version</th><th>restricted</th><th>submitter_comment</th><th>status</th><th>annotation_type</th><th>annotation_subtype</th><th>biochemical_inputs</th><th>encyclopedia_version</th></tr><tr><td>str</td><td>str</td><td>str</td><td>str</td><td>str</td><td>str</td><td>str</td><td>str</td><td>str</td><td>str</td><td>str</td><td>str</td><td>str</td><td>str</td><td>str</td><td>str</td><td>str</td><td>str</td><td>str</td><td>str</td><td>str</td><td>str</td><td>str</td><td>str</td><td>str</td><td>str</td><td>str</td><td>str</td><td>str</td><td>str</td><td>str</td><td>str</td><td>str</td><td>str</td><td>str</td><td>str</td><td>str</td><td>str</td><td>str</td><td>str</td><td>str</td><td>str</td><td>str</td><td>str</td><td>str</td></tr></thead><tbody><tr><td>&quot;ENCFF566NGG&quot;</td><td>&quot;ENCFF566NGG&quot;</td><td>&quot;/experiments/ENCSR369MDF/&quot;</td><td>&quot;GRCh38&quot;</td><td>&quot;[&#x27;1_1&#x27;]&quot;</td><td>&quot;[1]&quot;</td><td>&quot;bam&quot;</td><td>&quot;bam&quot;</td><td>&quot;NA&quot;</td><td>&quot;3936091129&quot;</td><td>&quot;RNA-seq&quot;</td><td>&quot;K562&quot;</td><td>&quot;[&#x27;blood&#x27;, &#x27;bodily fluid&#x27;]&quot;</td><td>&quot;treated with 5 μM JQ1 for 4 ho…</td><td>&quot;[&#x27;/biosamples/ENCBS291NHT/&#x27;]&quot;</td><td>&quot;NA&quot;</td><td>&quot;https://encodeproject.org/file…</td><td>&quot;[&#x27;/files/ENCFF598IDH/&#x27;, &#x27;/file…</td><td>&quot;V29&quot;</td><td>&quot;NA&quot;</td><td>&quot;NA&quot;</td><td>&quot;NA&quot;</td><td>&quot;NA&quot;</td><td>&quot;NA&quot;</td><td>&quot;150&quot;</td><td>&quot;NA&quot;</td><td>&quot;NA&quot;</td><td>&quot;paired-ended&quot;</td><td>&quot;nt&quot;</td><td>&quot;alignment&quot;</td><td>&quot;transcriptome alignments&quot;</td><td>&quot;NA&quot;</td><td>&quot;[{&#x27;assay_term_name&#x27;: &#x27;RNA-seq&#x27;…</td><td>&quot;ENCODE Processing Pipeline&quot;</td><td>&quot;ENCODE&quot;</td><td>&quot;{&#x27;status&#x27;: &#x27;released&#x27;, &#x27;lab&#x27;: …</td><td>&quot;2021-12-31T08:51:07.433754+00:…</td><td>&quot;{&#x27;software_versions&#x27;: [{&#x27;submi…</td><td>&quot;NA&quot;</td><td>&quot;NA&quot;</td><td>&quot;released&quot;</td><td>&quot;NA&quot;</td><td>&quot;NA&quot;</td><td>&quot;NA&quot;</td><td>&quot;NA&quot;</td></tr><tr><td>&quot;ENCFF642UFR&quot;</td><td>&quot;ENCFF642UFR&quot;</td><td>&quot;/experiments/ENCSR250SCW/&quot;</td><td>&quot;mm10&quot;</td><td>&quot;[&#x27;2_1&#x27;]&quot;</td><td>&quot;[2]&quot;</td><td>&quot;tar&quot;</td><td>&quot;tar&quot;</td><td>&quot;NA&quot;</td><td>&quot;4117922&quot;</td><td>&quot;single-cell RNA sequencing ass…</td><td>&quot;left cerebral cortex&quot;</td><td>&quot;[&#x27;brain&#x27;]&quot;</td><td>&quot;male adult (2 months) strain B…</td><td>&quot;NA&quot;</td><td>&quot;NA&quot;</td><td>&quot;https://encodeproject.org/file…</td><td>&quot;[&#x27;/files/ENCFF723SJO/&#x27;, &#x27;/file…</td><td>&quot;M21&quot;</td><td>&quot;NA&quot;</td><td>&quot;NA&quot;</td><td>&quot;True&quot;</td><td>&quot;NA&quot;</td><td>&quot;NA&quot;</td><td>&quot;NA&quot;</td><td>&quot;NA&quot;</td><td>&quot;NA&quot;</td><td>&quot;NA&quot;</td><td>&quot;NA&quot;</td><td>&quot;quantification&quot;</td><td>&quot;unfiltered sparse gene count m…</td><td>&quot;NA&quot;</td><td>&quot;[{&#x27;assay_term_name&#x27;: &#x27;single-c…</td><td>&quot;Barbara Wold, Caltech&quot;</td><td>&quot;ENCODE&quot;</td><td>&quot;{&#x27;status&#x27;: &#x27;released&#x27;, &#x27;date_c…</td><td>&quot;2022-01-30T04:31:33.614985+00:…</td><td>&quot;{&#x27;date_created&#x27;: &#x27;2021-12-14T2…</td><td>&quot;NA&quot;</td><td>&quot;NA&quot;</td><td>&quot;released&quot;</td><td>&quot;NA&quot;</td><td>&quot;NA&quot;</td><td>&quot;NA&quot;</td><td>&quot;NA&quot;</td></tr><tr><td>&quot;ENCFF094MID&quot;</td><td>&quot;ENCFF094MID&quot;</td><td>&quot;/experiments/ENCSR414JJE/&quot;</td><td>&quot;NA&quot;</td><td>&quot;[&#x27;1_2&#x27;]&quot;</td><td>&quot;[1]&quot;</td><td>&quot;fastq&quot;</td><td>&quot;fastq&quot;</td><td>&quot;NA&quot;</td><td>&quot;263567745&quot;</td><td>&quot;Mint-ChIP-seq&quot;</td><td>&quot;naive B cell&quot;</td><td>&quot;[&#x27;blood&#x27;, &#x27;bodily fluid&#x27;]&quot;</td><td>&quot;female adult (39 years)&quot;</td><td>&quot;[&#x27;/biosamples/ENCBS517ZRS/&#x27;]&quot;</td><td>&quot;H3K27me3&quot;</td><td>&quot;https://encodeproject.org/file…</td><td>&quot;NA&quot;</td><td>&quot;NA&quot;</td><td>&quot;2&quot;</td><td>&quot;/files/ENCFF481AOK/&quot;</td><td>&quot;NA&quot;</td><td>&quot;paired-ended&quot;</td><td>&quot;58&quot;</td><td>&quot;NA&quot;</td><td>&quot;NA&quot;</td><td>&quot;NA&quot;</td><td>&quot;NA&quot;</td><td>&quot;nt&quot;</td><td>&quot;raw data&quot;</td><td>&quot;reads&quot;</td><td>&quot;NA&quot;</td><td>&quot;[]&quot;</td><td>&quot;Bradley Bernstein, Broad&quot;</td><td>&quot;ENCODE&quot;</td><td>&quot;NA&quot;</td><td>&quot;2022-02-11T14:58:17.561304+00:…</td><td>&quot;NA&quot;</td><td>&quot;NA&quot;</td><td>&quot;NA&quot;</td><td>&quot;released&quot;</td><td>&quot;NA&quot;</td><td>&quot;NA&quot;</td><td>&quot;NA&quot;</td><td>&quot;NA&quot;</td></tr><tr><td>&quot;ENCFF506TJN&quot;</td><td>&quot;ENCFF506TJN&quot;</td><td>&quot;/experiments/ENCSR369MDF/&quot;</td><td>&quot;GRCh38&quot;</td><td>&quot;[&#x27;2_1&#x27;]&quot;</td><td>&quot;[2]&quot;</td><td>&quot;bigWig&quot;</td><td>&quot;bigWig&quot;</td><td>&quot;NA&quot;</td><td>&quot;120998658&quot;</td><td>&quot;RNA-seq&quot;</td><td>&quot;K562&quot;</td><td>&quot;[&#x27;blood&#x27;, &#x27;bodily fluid&#x27;]&quot;</td><td>&quot;treated with 5 μM JQ1 for 4 ho…</td><td>&quot;[&#x27;/biosamples/ENCBS798JQV/&#x27;]&quot;</td><td>&quot;NA&quot;</td><td>&quot;https://encodeproject.org/file…</td><td>&quot;[&#x27;/files/ENCFF124OPS/&#x27;, &#x27;/file…</td><td>&quot;V29&quot;</td><td>&quot;NA&quot;</td><td>&quot;NA&quot;</td><td>&quot;NA&quot;</td><td>&quot;NA&quot;</td><td>&quot;NA&quot;</td><td>&quot;NA&quot;</td><td>&quot;NA&quot;</td><td>&quot;NA&quot;</td><td>&quot;NA&quot;</td><td>&quot;NA&quot;</td><td>&quot;signal&quot;</td><td>&quot;signal of all reads&quot;</td><td>&quot;NA&quot;</td><td>&quot;[]&quot;</td><td>&quot;ENCODE Processing Pipeline&quot;</td><td>&quot;ENCODE&quot;</td><td>&quot;{&#x27;status&#x27;: &#x27;released&#x27;, &#x27;lab&#x27;: …</td><td>&quot;2021-12-31T08:51:14.572055+00:…</td><td>&quot;{&#x27;analysis_step&#x27;: {&#x27;documents&#x27;…</td><td>&quot;NA&quot;</td><td>&quot;NA&quot;</td><td>&quot;released&quot;</td><td>&quot;NA&quot;</td><td>&quot;NA&quot;</td><td>&quot;NA&quot;</td><td>&quot;NA&quot;</td></tr><tr><td>&quot;ENCFF174IGS&quot;</td><td>&quot;ENCFF174IGS&quot;</td><td>&quot;/experiments/ENCSR040TXN/&quot;</td><td>&quot;NA&quot;</td><td>&quot;[&#x27;1_2&#x27;]&quot;</td><td>&quot;[1]&quot;</td><td>&quot;fastq&quot;</td><td>&quot;fastq&quot;</td><td>&quot;NA&quot;</td><td>&quot;45801960&quot;</td><td>&quot;Mint-ChIP-seq&quot;</td><td>&quot;central memory CD8-positive, a…</td><td>&quot;[]&quot;</td><td>&quot;male adult (36 years)&quot;</td><td>&quot;[&#x27;/biosamples/ENCBS181QGR/&#x27;]&quot;</td><td>&quot;H3K4me3&quot;</td><td>&quot;https://encodeproject.org/file…</td><td>&quot;NA&quot;</td><td>&quot;NA&quot;</td><td>&quot;2&quot;</td><td>&quot;/files/ENCFF066EBL/&quot;</td><td>&quot;NA&quot;</td><td>&quot;paired-ended&quot;</td><td>&quot;58&quot;</td><td>&quot;NA&quot;</td><td>&quot;NA&quot;</td><td>&quot;NA&quot;</td><td>&quot;NA&quot;</td><td>&quot;nt&quot;</td><td>&quot;raw data&quot;</td><td>&quot;reads&quot;</td><td>&quot;NA&quot;</td><td>&quot;[]&quot;</td><td>&quot;Bradley Bernstein, Broad&quot;</td><td>&quot;ENCODE&quot;</td><td>&quot;NA&quot;</td><td>&quot;2022-02-11T15:54:31.696914+00:…</td><td>&quot;NA&quot;</td><td>&quot;NA&quot;</td><td>&quot;NA&quot;</td><td>&quot;released&quot;</td><td>&quot;NA&quot;</td><td>&quot;NA&quot;</td><td>&quot;NA&quot;</td><td>&quot;NA&quot;</td></tr><tr><td>&hellip;</td><td>&hellip;</td><td>&hellip;</td><td>&hellip;</td><td>&hellip;</td><td>&hellip;</td><td>&hellip;</td><td>&hellip;</td><td>&hellip;</td><td>&hellip;</td><td>&hellip;</td><td>&hellip;</td><td>&hellip;</td><td>&hellip;</td><td>&hellip;</td><td>&hellip;</td><td>&hellip;</td><td>&hellip;</td><td>&hellip;</td><td>&hellip;</td><td>&hellip;</td><td>&hellip;</td><td>&hellip;</td><td>&hellip;</td><td>&hellip;</td><td>&hellip;</td><td>&hellip;</td><td>&hellip;</td><td>&hellip;</td><td>&hellip;</td><td>&hellip;</td><td>&hellip;</td><td>&hellip;</td><td>&hellip;</td><td>&hellip;</td><td>&hellip;</td><td>&hellip;</td><td>&hellip;</td><td>&hellip;</td><td>&hellip;</td><td>&hellip;</td><td>&hellip;</td><td>&hellip;</td><td>&hellip;</td><td>&hellip;</td></tr><tr><td>&quot;ENCFF266RHM&quot;</td><td>&quot;ENCFF266RHM&quot;</td><td>&quot;/experiments/ENCSR820WLP/&quot;</td><td>&quot;GRCh38&quot;</td><td>&quot;[&#x27;2_1&#x27;]&quot;</td><td>&quot;[2]&quot;</td><td>&quot;bed&quot;</td><td>&quot;bed bed3+&quot;</td><td>&quot;bed3+&quot;</td><td>&quot;2466892&quot;</td><td>&quot;DNase-seq&quot;</td><td>&quot;dedifferentiated amniotic flui…</td><td>&quot;[&#x27;connective tissue&#x27;, &#x27;extraem…</td><td>&quot;male embryo (15 weeks)&quot;</td><td>&quot;[&#x27;/biosamples/ENCBS167CXV/&#x27;]&quot;</td><td>&quot;NA&quot;</td><td>&quot;https://encodeproject.org/file…</td><td>&quot;[&#x27;/files/ENCFF381FQU/&#x27;, &#x27;/file…</td><td>&quot;NA&quot;</td><td>&quot;NA&quot;</td><td>&quot;NA&quot;</td><td>&quot;NA&quot;</td><td>&quot;NA&quot;</td><td>&quot;NA&quot;</td><td>&quot;NA&quot;</td><td>&quot;NA&quot;</td><td>&quot;NA&quot;</td><td>&quot;NA&quot;</td><td>&quot;NA&quot;</td><td>&quot;annotation&quot;</td><td>&quot;footprints&quot;</td><td>&quot;NA&quot;</td><td>&quot;[{&#x27;assay_term_name&#x27;: &#x27;DNase-se…</td><td>&quot;ENCODE Processing Pipeline&quot;</td><td>&quot;ENCODE&quot;</td><td>&quot;{&#x27;status&#x27;: &#x27;released&#x27;, &#x27;date_c…</td><td>&quot;2020-11-06T18:02:17.058788+00:…</td><td>&quot;{&#x27;date_created&#x27;: &#x27;2020-08-08T0…</td><td>&quot;NA&quot;</td><td>&quot;NA&quot;</td><td>&quot;released&quot;</td><td>&quot;NA&quot;</td><td>&quot;NA&quot;</td><td>&quot;NA&quot;</td><td>&quot;NA&quot;</td></tr><tr><td>&quot;ENCFF091WRX&quot;</td><td>&quot;ENCFF091WRX&quot;</td><td>&quot;/experiments/ENCSR820WLP/&quot;</td><td>&quot;GRCh38&quot;</td><td>&quot;[&#x27;1_1&#x27;]&quot;</td><td>&quot;[1]&quot;</td><td>&quot;bed&quot;</td><td>&quot;bed narrowPeak&quot;</td><td>&quot;narrowPeak&quot;</td><td>&quot;1980267&quot;</td><td>&quot;DNase-seq&quot;</td><td>&quot;dedifferentiated amniotic flui…</td><td>&quot;[&#x27;connective tissue&#x27;, &#x27;extraem…</td><td>&quot;male embryo (15 weeks)&quot;</td><td>&quot;[&#x27;/biosamples/ENCBS469CDX/&#x27;]&quot;</td><td>&quot;NA&quot;</td><td>&quot;https://encodeproject.org/file…</td><td>&quot;[&#x27;/files/ENCFF180EJG/&#x27;, &#x27;/file…</td><td>&quot;NA&quot;</td><td>&quot;NA&quot;</td><td>&quot;NA&quot;</td><td>&quot;NA&quot;</td><td>&quot;NA&quot;</td><td>&quot;NA&quot;</td><td>&quot;NA&quot;</td><td>&quot;NA&quot;</td><td>&quot;NA&quot;</td><td>&quot;NA&quot;</td><td>&quot;NA&quot;</td><td>&quot;annotation&quot;</td><td>&quot;peaks&quot;</td><td>&quot;NA&quot;</td><td>&quot;[{&#x27;assay_term_name&#x27;: &#x27;DNase-se…</td><td>&quot;ENCODE Processing Pipeline&quot;</td><td>&quot;ENCODE&quot;</td><td>&quot;{&#x27;status&#x27;: &#x27;released&#x27;, &#x27;date_c…</td><td>&quot;2020-11-06T18:02:28.513391+00:…</td><td>&quot;{&#x27;date_created&#x27;: &#x27;2020-08-08T0…</td><td>&quot;NA&quot;</td><td>&quot;NA&quot;</td><td>&quot;released&quot;</td><td>&quot;NA&quot;</td><td>&quot;NA&quot;</td><td>&quot;NA&quot;</td><td>&quot;NA&quot;</td></tr><tr><td>&quot;ENCFF563EQX&quot;</td><td>&quot;ENCFF563EQX&quot;</td><td>&quot;/experiments/ENCSR820WLP/&quot;</td><td>&quot;GRCh38&quot;</td><td>&quot;[&#x27;1_1&#x27;]&quot;</td><td>&quot;[1]&quot;</td><td>&quot;bigBed&quot;</td><td>&quot;bigBed narrowPeak&quot;</td><td>&quot;narrowPeak&quot;</td><td>&quot;3018176&quot;</td><td>&quot;DNase-seq&quot;</td><td>&quot;dedifferentiated amniotic flui…</td><td>&quot;[&#x27;connective tissue&#x27;, &#x27;extraem…</td><td>&quot;male embryo (15 weeks)&quot;</td><td>&quot;[&#x27;/biosamples/ENCBS469CDX/&#x27;]&quot;</td><td>&quot;NA&quot;</td><td>&quot;https://encodeproject.org/file…</td><td>&quot;[&#x27;/files/ENCFF091WRX/&#x27;]&quot;</td><td>&quot;NA&quot;</td><td>&quot;NA&quot;</td><td>&quot;NA&quot;</td><td>&quot;NA&quot;</td><td>&quot;NA&quot;</td><td>&quot;NA&quot;</td><td>&quot;NA&quot;</td><td>&quot;NA&quot;</td><td>&quot;NA&quot;</td><td>&quot;NA&quot;</td><td>&quot;NA&quot;</td><td>&quot;annotation&quot;</td><td>&quot;peaks&quot;</td><td>&quot;NA&quot;</td><td>&quot;[]&quot;</td><td>&quot;ENCODE Processing Pipeline&quot;</td><td>&quot;ENCODE&quot;</td><td>&quot;{&#x27;status&#x27;: &#x27;released&#x27;, &#x27;date_c…</td><td>&quot;2020-11-06T18:02:37.977557+00:…</td><td>&quot;{&#x27;date_created&#x27;: &#x27;2020-08-08T0…</td><td>&quot;NA&quot;</td><td>&quot;NA&quot;</td><td>&quot;released&quot;</td><td>&quot;NA&quot;</td><td>&quot;NA&quot;</td><td>&quot;NA&quot;</td><td>&quot;NA&quot;</td></tr><tr><td>&quot;ENCFF196LAE&quot;</td><td>&quot;ENCFF196LAE&quot;</td><td>&quot;/experiments/ENCSR820WLP/&quot;</td><td>&quot;GRCh38&quot;</td><td>&quot;[&#x27;1_1&#x27;]&quot;</td><td>&quot;[1]&quot;</td><td>&quot;bigBed&quot;</td><td>&quot;bigBed bed3+&quot;</td><td>&quot;bed3+&quot;</td><td>&quot;218184446&quot;</td><td>&quot;DNase-seq&quot;</td><td>&quot;dedifferentiated amniotic flui…</td><td>&quot;[&#x27;connective tissue&#x27;, &#x27;extraem…</td><td>&quot;male embryo (15 weeks)&quot;</td><td>&quot;[&#x27;/biosamples/ENCBS469CDX/&#x27;]&quot;</td><td>&quot;NA&quot;</td><td>&quot;https://encodeproject.org/file…</td><td>&quot;[&#x27;/files/ENCFF731HGQ/&#x27;]&quot;</td><td>&quot;NA&quot;</td><td>&quot;NA&quot;</td><td>&quot;NA&quot;</td><td>&quot;NA&quot;</td><td>&quot;NA&quot;</td><td>&quot;NA&quot;</td><td>&quot;NA&quot;</td><td>&quot;NA&quot;</td><td>&quot;NA&quot;</td><td>&quot;NA&quot;</td><td>&quot;NA&quot;</td><td>&quot;quantification&quot;</td><td>&quot;FDR cut rate&quot;</td><td>&quot;NA&quot;</td><td>&quot;[]&quot;</td><td>&quot;ENCODE Processing Pipeline&quot;</td><td>&quot;ENCODE&quot;</td><td>&quot;{&#x27;status&#x27;: &#x27;released&#x27;, &#x27;date_c…</td><td>&quot;2020-11-06T18:02:25.369881+00:…</td><td>&quot;{&#x27;date_created&#x27;: &#x27;2020-08-08T0…</td><td>&quot;NA&quot;</td><td>&quot;NA&quot;</td><td>&quot;released&quot;</td><td>&quot;NA&quot;</td><td>&quot;NA&quot;</td><td>&quot;NA&quot;</td><td>&quot;NA&quot;</td></tr><tr><td>&quot;ENCFF957MYA&quot;</td><td>&quot;ENCFF957MYA&quot;</td><td>&quot;/experiments/ENCSR820WLP/&quot;</td><td>&quot;GRCh38&quot;</td><td>&quot;[&#x27;2_1&#x27;]&quot;</td><td>&quot;[2]&quot;</td><td>&quot;bed&quot;</td><td>&quot;bed narrowPeak&quot;</td><td>&quot;narrowPeak&quot;</td><td>&quot;1345926&quot;</td><td>&quot;DNase-seq&quot;</td><td>&quot;dedifferentiated amniotic flui…</td><td>&quot;[&#x27;connective tissue&#x27;, &#x27;extraem…</td><td>&quot;male embryo (15 weeks)&quot;</td><td>&quot;[&#x27;/biosamples/ENCBS167CXV/&#x27;]&quot;</td><td>&quot;NA&quot;</td><td>&quot;https://encodeproject.org/file…</td><td>&quot;[&#x27;/files/ENCFF381FQU/&#x27;, &#x27;/file…</td><td>&quot;NA&quot;</td><td>&quot;NA&quot;</td><td>&quot;NA&quot;</td><td>&quot;NA&quot;</td><td>&quot;NA&quot;</td><td>&quot;NA&quot;</td><td>&quot;NA&quot;</td><td>&quot;NA&quot;</td><td>&quot;NA&quot;</td><td>&quot;NA&quot;</td><td>&quot;NA&quot;</td><td>&quot;annotation&quot;</td><td>&quot;peaks&quot;</td><td>&quot;NA&quot;</td><td>&quot;[{&#x27;assay_term_name&#x27;: &#x27;DNase-se…</td><td>&quot;ENCODE Processing Pipeline&quot;</td><td>&quot;ENCODE&quot;</td><td>&quot;{&#x27;status&#x27;: &#x27;released&#x27;, &#x27;date_c…</td><td>&quot;2020-11-06T18:02:33.939195+00:…</td><td>&quot;{&#x27;date_created&#x27;: &#x27;2020-08-08T0…</td><td>&quot;NA&quot;</td><td>&quot;NA&quot;</td><td>&quot;released&quot;</td><td>&quot;NA&quot;</td><td>&quot;NA&quot;</td><td>&quot;NA&quot;</td><td>&quot;NA&quot;</td></tr></tbody></table></div>"
      ],
      "text/plain": [
       "shape: (762_008, 45)\n",
       "┌───────────┬───────────┬───────────┬──────────┬───┬───────────┬───────────┬───────────┬───────────┐\n",
       "│ title     ┆ accession ┆ dataset   ┆ assembly ┆ … ┆ annotatio ┆ annotatio ┆ biochemic ┆ encyclope │\n",
       "│ ---       ┆ ---       ┆ ---       ┆ ---      ┆   ┆ n_type    ┆ n_subtype ┆ al_inputs ┆ dia_versi │\n",
       "│ str       ┆ str       ┆ str       ┆ str      ┆   ┆ ---       ┆ ---       ┆ ---       ┆ on        │\n",
       "│           ┆           ┆           ┆          ┆   ┆ str       ┆ str       ┆ str       ┆ ---       │\n",
       "│           ┆           ┆           ┆          ┆   ┆           ┆           ┆           ┆ str       │\n",
       "╞═══════════╪═══════════╪═══════════╪══════════╪═══╪═══════════╪═══════════╪═══════════╪═══════════╡\n",
       "│ ENCFF566N ┆ ENCFF566N ┆ /experime ┆ GRCh38   ┆ … ┆ NA        ┆ NA        ┆ NA        ┆ NA        │\n",
       "│ GG        ┆ GG        ┆ nts/ENCSR ┆          ┆   ┆           ┆           ┆           ┆           │\n",
       "│           ┆           ┆ 369MDF/   ┆          ┆   ┆           ┆           ┆           ┆           │\n",
       "│ ENCFF642U ┆ ENCFF642U ┆ /experime ┆ mm10     ┆ … ┆ NA        ┆ NA        ┆ NA        ┆ NA        │\n",
       "│ FR        ┆ FR        ┆ nts/ENCSR ┆          ┆   ┆           ┆           ┆           ┆           │\n",
       "│           ┆           ┆ 250SCW/   ┆          ┆   ┆           ┆           ┆           ┆           │\n",
       "│ ENCFF094M ┆ ENCFF094M ┆ /experime ┆ NA       ┆ … ┆ NA        ┆ NA        ┆ NA        ┆ NA        │\n",
       "│ ID        ┆ ID        ┆ nts/ENCSR ┆          ┆   ┆           ┆           ┆           ┆           │\n",
       "│           ┆           ┆ 414JJE/   ┆          ┆   ┆           ┆           ┆           ┆           │\n",
       "│ ENCFF506T ┆ ENCFF506T ┆ /experime ┆ GRCh38   ┆ … ┆ NA        ┆ NA        ┆ NA        ┆ NA        │\n",
       "│ JN        ┆ JN        ┆ nts/ENCSR ┆          ┆   ┆           ┆           ┆           ┆           │\n",
       "│           ┆           ┆ 369MDF/   ┆          ┆   ┆           ┆           ┆           ┆           │\n",
       "│ ENCFF174I ┆ ENCFF174I ┆ /experime ┆ NA       ┆ … ┆ NA        ┆ NA        ┆ NA        ┆ NA        │\n",
       "│ GS        ┆ GS        ┆ nts/ENCSR ┆          ┆   ┆           ┆           ┆           ┆           │\n",
       "│           ┆           ┆ 040TXN/   ┆          ┆   ┆           ┆           ┆           ┆           │\n",
       "│ …         ┆ …         ┆ …         ┆ …        ┆ … ┆ …         ┆ …         ┆ …         ┆ …         │\n",
       "│ ENCFF266R ┆ ENCFF266R ┆ /experime ┆ GRCh38   ┆ … ┆ NA        ┆ NA        ┆ NA        ┆ NA        │\n",
       "│ HM        ┆ HM        ┆ nts/ENCSR ┆          ┆   ┆           ┆           ┆           ┆           │\n",
       "│           ┆           ┆ 820WLP/   ┆          ┆   ┆           ┆           ┆           ┆           │\n",
       "│ ENCFF091W ┆ ENCFF091W ┆ /experime ┆ GRCh38   ┆ … ┆ NA        ┆ NA        ┆ NA        ┆ NA        │\n",
       "│ RX        ┆ RX        ┆ nts/ENCSR ┆          ┆   ┆           ┆           ┆           ┆           │\n",
       "│           ┆           ┆ 820WLP/   ┆          ┆   ┆           ┆           ┆           ┆           │\n",
       "│ ENCFF563E ┆ ENCFF563E ┆ /experime ┆ GRCh38   ┆ … ┆ NA        ┆ NA        ┆ NA        ┆ NA        │\n",
       "│ QX        ┆ QX        ┆ nts/ENCSR ┆          ┆   ┆           ┆           ┆           ┆           │\n",
       "│           ┆           ┆ 820WLP/   ┆          ┆   ┆           ┆           ┆           ┆           │\n",
       "│ ENCFF196L ┆ ENCFF196L ┆ /experime ┆ GRCh38   ┆ … ┆ NA        ┆ NA        ┆ NA        ┆ NA        │\n",
       "│ AE        ┆ AE        ┆ nts/ENCSR ┆          ┆   ┆           ┆           ┆           ┆           │\n",
       "│           ┆           ┆ 820WLP/   ┆          ┆   ┆           ┆           ┆           ┆           │\n",
       "│ ENCFF957M ┆ ENCFF957M ┆ /experime ┆ GRCh38   ┆ … ┆ NA        ┆ NA        ┆ NA        ┆ NA        │\n",
       "│ YA        ┆ YA        ┆ nts/ENCSR ┆          ┆   ┆           ┆           ┆           ┆           │\n",
       "│           ┆           ┆ 820WLP/   ┆          ┆   ┆           ┆           ┆           ┆           │\n",
       "└───────────┴───────────┴───────────┴──────────┴───┴───────────┴───────────┴───────────┴───────────┘"
      ]
     },
     "metadata": {},
     "output_type": "display_data"
    },
    {
     "data": {
      "text/html": [
       "<div><style>\n",
       ".dataframe > thead > tr,\n",
       ".dataframe > tbody > tr {\n",
       "  text-align: right;\n",
       "  white-space: pre-wrap;\n",
       "}\n",
       "</style>\n",
       "<small>shape: (762_008, 1)</small><table border=\"1\" class=\"dataframe\"><thead><tr><th>title</th></tr><tr><td>str</td></tr></thead><tbody><tr><td>&quot;ENCFF000CLE&quot;</td></tr><tr><td>&quot;ENCFF474MDU&quot;</td></tr><tr><td>&quot;ENCFF791PXN&quot;</td></tr><tr><td>&quot;ENCFF253SCW&quot;</td></tr><tr><td>&quot;ENCFF777RLP&quot;</td></tr><tr><td>&hellip;</td></tr><tr><td>&quot;ENCFF907HKK&quot;</td></tr><tr><td>&quot;ENCFF251SUM&quot;</td></tr><tr><td>&quot;ENCFF261PYX&quot;</td></tr><tr><td>&quot;ENCFF637JIT&quot;</td></tr><tr><td>&quot;ENCFF962GER&quot;</td></tr></tbody></table></div>"
      ],
      "text/plain": [
       "shape: (762_008, 1)\n",
       "┌─────────────┐\n",
       "│ title       │\n",
       "│ ---         │\n",
       "│ str         │\n",
       "╞═════════════╡\n",
       "│ ENCFF000CLE │\n",
       "│ ENCFF474MDU │\n",
       "│ ENCFF791PXN │\n",
       "│ ENCFF253SCW │\n",
       "│ ENCFF777RLP │\n",
       "│ …           │\n",
       "│ ENCFF907HKK │\n",
       "│ ENCFF251SUM │\n",
       "│ ENCFF261PYX │\n",
       "│ ENCFF637JIT │\n",
       "│ ENCFF962GER │\n",
       "└─────────────┘"
      ]
     },
     "metadata": {},
     "output_type": "display_data"
    },
    {
     "data": {
      "text/html": [
       "<div><style>\n",
       ".dataframe > thead > tr,\n",
       ".dataframe > tbody > tr {\n",
       "  text-align: right;\n",
       "  white-space: pre-wrap;\n",
       "}\n",
       "</style>\n",
       "<small>shape: (760_797, 1)</small><table border=\"1\" class=\"dataframe\"><thead><tr><th>accession</th></tr><tr><td>str</td></tr></thead><tbody><tr><td>&quot;ENCFF508JIW&quot;</td></tr><tr><td>&quot;ENCFF015YQN&quot;</td></tr><tr><td>&quot;ENCFF674VOZ&quot;</td></tr><tr><td>&quot;ENCFF730DGT&quot;</td></tr><tr><td>&quot;ENCFF872EUN&quot;</td></tr><tr><td>&hellip;</td></tr><tr><td>&quot;ENCFF144KQA&quot;</td></tr><tr><td>&quot;ENCFF743IZN&quot;</td></tr><tr><td>&quot;ENCFF000XFW&quot;</td></tr><tr><td>&quot;ENCFF934PEE&quot;</td></tr><tr><td>&quot;ENCFF694YQT&quot;</td></tr></tbody></table></div>"
      ],
      "text/plain": [
       "shape: (760_797, 1)\n",
       "┌─────────────┐\n",
       "│ accession   │\n",
       "│ ---         │\n",
       "│ str         │\n",
       "╞═════════════╡\n",
       "│ ENCFF508JIW │\n",
       "│ ENCFF015YQN │\n",
       "│ ENCFF674VOZ │\n",
       "│ ENCFF730DGT │\n",
       "│ ENCFF872EUN │\n",
       "│ …           │\n",
       "│ ENCFF144KQA │\n",
       "│ ENCFF743IZN │\n",
       "│ ENCFF000XFW │\n",
       "│ ENCFF934PEE │\n",
       "│ ENCFF694YQT │\n",
       "└─────────────┘"
      ]
     },
     "metadata": {},
     "output_type": "display_data"
    },
    {
     "data": {
      "text/html": [
       "<div><style>\n",
       ".dataframe > thead > tr,\n",
       ".dataframe > tbody > tr {\n",
       "  text-align: right;\n",
       "  white-space: pre-wrap;\n",
       "}\n",
       "</style>\n",
       "<small>shape: (24_338, 1)</small><table border=\"1\" class=\"dataframe\"><thead><tr><th>dataset</th></tr><tr><td>str</td></tr></thead><tbody><tr><td>&quot;/experiments/ENCSR116YMU/&quot;</td></tr><tr><td>&quot;/experiments/ENCSR597XRK/&quot;</td></tr><tr><td>&quot;/experiments/ENCSR813BDU/&quot;</td></tr><tr><td>&quot;/experiments/ENCSR800MYV/&quot;</td></tr><tr><td>&quot;/experiments/ENCSR187IVR/&quot;</td></tr><tr><td>&hellip;</td></tr><tr><td>&quot;/experiments/ENCSR325JLI/&quot;</td></tr><tr><td>&quot;/experiments/ENCSR096USV/&quot;</td></tr><tr><td>&quot;/experiments/ENCSR000DTA/&quot;</td></tr><tr><td>&quot;/experiments/ENCSR079NLY/&quot;</td></tr><tr><td>&quot;/experiments/ENCSR292TAP/&quot;</td></tr></tbody></table></div>"
      ],
      "text/plain": [
       "shape: (24_338, 1)\n",
       "┌───────────────────────────┐\n",
       "│ dataset                   │\n",
       "│ ---                       │\n",
       "│ str                       │\n",
       "╞═══════════════════════════╡\n",
       "│ /experiments/ENCSR116YMU/ │\n",
       "│ /experiments/ENCSR597XRK/ │\n",
       "│ /experiments/ENCSR813BDU/ │\n",
       "│ /experiments/ENCSR800MYV/ │\n",
       "│ /experiments/ENCSR187IVR/ │\n",
       "│ …                         │\n",
       "│ /experiments/ENCSR325JLI/ │\n",
       "│ /experiments/ENCSR096USV/ │\n",
       "│ /experiments/ENCSR000DTA/ │\n",
       "│ /experiments/ENCSR079NLY/ │\n",
       "│ /experiments/ENCSR292TAP/ │\n",
       "└───────────────────────────┘"
      ]
     },
     "metadata": {},
     "output_type": "display_data"
    },
    {
     "data": {
      "text/html": [
       "<div><style>\n",
       ".dataframe > thead > tr,\n",
       ".dataframe > tbody > tr {\n",
       "  text-align: right;\n",
       "  white-space: pre-wrap;\n",
       "}\n",
       "</style>\n",
       "<small>shape: (11, 1)</small><table border=\"1\" class=\"dataframe\"><thead><tr><th>assembly</th></tr><tr><td>str</td></tr></thead><tbody><tr><td>&quot;NA&quot;</td></tr><tr><td>&quot;GRCh38-minimal&quot;</td></tr><tr><td>&quot;ce11&quot;</td></tr><tr><td>&quot;mm10-minimal&quot;</td></tr><tr><td>&quot;mm10&quot;</td></tr><tr><td>&hellip;</td></tr><tr><td>&quot;ce10&quot;</td></tr><tr><td>&quot;dm6&quot;</td></tr><tr><td>&quot;mm9&quot;</td></tr><tr><td>&quot;dm3&quot;</td></tr><tr><td>&quot;hg19&quot;</td></tr></tbody></table></div>"
      ],
      "text/plain": [
       "shape: (11, 1)\n",
       "┌────────────────┐\n",
       "│ assembly       │\n",
       "│ ---            │\n",
       "│ str            │\n",
       "╞════════════════╡\n",
       "│ NA             │\n",
       "│ GRCh38-minimal │\n",
       "│ ce11           │\n",
       "│ mm10-minimal   │\n",
       "│ mm10           │\n",
       "│ …              │\n",
       "│ ce10           │\n",
       "│ dm6            │\n",
       "│ mm9            │\n",
       "│ dm3            │\n",
       "│ hg19           │\n",
       "└────────────────┘"
      ]
     },
     "metadata": {},
     "output_type": "display_data"
    },
    {
     "data": {
      "text/html": [
       "<div><style>\n",
       ".dataframe > thead > tr,\n",
       ".dataframe > tbody > tr {\n",
       "  text-align: right;\n",
       "  white-space: pre-wrap;\n",
       "}\n",
       "</style>\n",
       "<small>shape: (264, 1)</small><table border=\"1\" class=\"dataframe\"><thead><tr><th>technical_replicates</th></tr><tr><td>str</td></tr></thead><tbody><tr><td>&quot;[&#x27;1_1&#x27;, &#x27;2_1&#x27;, &#x27;3_1&#x27;]&quot;</td></tr><tr><td>&quot;[&#x27;3_2&#x27;]&quot;</td></tr><tr><td>&quot;[&#x27;9_1&#x27;]&quot;</td></tr><tr><td>&quot;[&#x27;1_1&#x27;, &#x27;1_4&#x27;]&quot;</td></tr><tr><td>&quot;[&#x27;2_1&#x27;]&quot;</td></tr><tr><td>&hellip;</td></tr><tr><td>&quot;[&#x27;1_2&#x27;, &#x27;1_3&#x27;, &#x27;1_4&#x27;, &#x27;1_5&#x27;]&quot;</td></tr><tr><td>&quot;[&#x27;1_1&#x27;, &#x27;1_2&#x27;, &#x27;2_1&#x27;, &#x27;3_1&#x27;]&quot;</td></tr><tr><td>&quot;[&#x27;1_4&#x27;, &#x27;1_5&#x27;]&quot;</td></tr><tr><td>&quot;[&#x27;6_1&#x27;, &#x27;6_2&#x27;, &#x27;6_3&#x27;, &#x27;6_4&#x27;, &#x27;…</td></tr><tr><td>&quot;[&#x27;1_1&#x27;, &#x27;1_2&#x27;]&quot;</td></tr></tbody></table></div>"
      ],
      "text/plain": [
       "shape: (264, 1)\n",
       "┌─────────────────────────────────┐\n",
       "│ technical_replicates            │\n",
       "│ ---                             │\n",
       "│ str                             │\n",
       "╞═════════════════════════════════╡\n",
       "│ ['1_1', '2_1', '3_1']           │\n",
       "│ ['3_2']                         │\n",
       "│ ['9_1']                         │\n",
       "│ ['1_1', '1_4']                  │\n",
       "│ ['2_1']                         │\n",
       "│ …                               │\n",
       "│ ['1_2', '1_3', '1_4', '1_5']    │\n",
       "│ ['1_1', '1_2', '2_1', '3_1']    │\n",
       "│ ['1_4', '1_5']                  │\n",
       "│ ['6_1', '6_2', '6_3', '6_4', '… │\n",
       "│ ['1_1', '1_2']                  │\n",
       "└─────────────────────────────────┘"
      ]
     },
     "metadata": {},
     "output_type": "display_data"
    },
    {
     "data": {
      "text/html": [
       "<div><style>\n",
       ".dataframe > thead > tr,\n",
       ".dataframe > tbody > tr {\n",
       "  text-align: right;\n",
       "  white-space: pre-wrap;\n",
       "}\n",
       "</style>\n",
       "<small>shape: (43, 1)</small><table border=\"1\" class=\"dataframe\"><thead><tr><th>biological_replicates</th></tr><tr><td>str</td></tr></thead><tbody><tr><td>&quot;[1, 3]&quot;</td></tr><tr><td>&quot;[3, 4, 5]&quot;</td></tr><tr><td>&quot;[7]&quot;</td></tr><tr><td>&quot;[3]&quot;</td></tr><tr><td>&quot;[5, 6]&quot;</td></tr><tr><td>&hellip;</td></tr><tr><td>&quot;[3, 5]&quot;</td></tr><tr><td>&quot;[2, 4]&quot;</td></tr><tr><td>&quot;[1]&quot;</td></tr><tr><td>&quot;[3, 4]&quot;</td></tr><tr><td>&quot;[1, 2, 4]&quot;</td></tr></tbody></table></div>"
      ],
      "text/plain": [
       "shape: (43, 1)\n",
       "┌───────────────────────┐\n",
       "│ biological_replicates │\n",
       "│ ---                   │\n",
       "│ str                   │\n",
       "╞═══════════════════════╡\n",
       "│ [1, 3]                │\n",
       "│ [3, 4, 5]             │\n",
       "│ [7]                   │\n",
       "│ [3]                   │\n",
       "│ [5, 6]                │\n",
       "│ …                     │\n",
       "│ [3, 5]                │\n",
       "│ [2, 4]                │\n",
       "│ [1]                   │\n",
       "│ [3, 4]                │\n",
       "│ [1, 2, 4]             │\n",
       "└───────────────────────┘"
      ]
     },
     "metadata": {},
     "output_type": "display_data"
    },
    {
     "data": {
      "text/html": [
       "<div><style>\n",
       ".dataframe > thead > tr,\n",
       ".dataframe > tbody > tr {\n",
       "  text-align: right;\n",
       "  white-space: pre-wrap;\n",
       "}\n",
       "</style>\n",
       "<small>shape: (27, 1)</small><table border=\"1\" class=\"dataframe\"><thead><tr><th>file_format</th></tr><tr><td>str</td></tr></thead><tbody><tr><td>&quot;bed&quot;</td></tr><tr><td>&quot;h5ad&quot;</td></tr><tr><td>&quot;bigInteract&quot;</td></tr><tr><td>&quot;pairs&quot;</td></tr><tr><td>&quot;gtf&quot;</td></tr><tr><td>&hellip;</td></tr><tr><td>&quot;fastq&quot;</td></tr><tr><td>&quot;tar&quot;</td></tr><tr><td>&quot;rcc&quot;</td></tr><tr><td>&quot;bedpe&quot;</td></tr><tr><td>&quot;csfasta&quot;</td></tr></tbody></table></div>"
      ],
      "text/plain": [
       "shape: (27, 1)\n",
       "┌─────────────┐\n",
       "│ file_format │\n",
       "│ ---         │\n",
       "│ str         │\n",
       "╞═════════════╡\n",
       "│ bed         │\n",
       "│ h5ad        │\n",
       "│ bigInteract │\n",
       "│ pairs       │\n",
       "│ gtf         │\n",
       "│ …           │\n",
       "│ fastq       │\n",
       "│ tar         │\n",
       "│ rcc         │\n",
       "│ bedpe       │\n",
       "│ csfasta     │\n",
       "└─────────────┘"
      ]
     },
     "metadata": {},
     "output_type": "display_data"
    },
    {
     "data": {
      "text/html": [
       "<div><style>\n",
       ".dataframe > thead > tr,\n",
       ".dataframe > tbody > tr {\n",
       "  text-align: right;\n",
       "  white-space: pre-wrap;\n",
       "}\n",
       "</style>\n",
       "<small>shape: (61, 1)</small><table border=\"1\" class=\"dataframe\"><thead><tr><th>file_type</th></tr><tr><td>str</td></tr></thead><tbody><tr><td>&quot;bed idr_peak&quot;</td></tr><tr><td>&quot;bed bedGraph&quot;</td></tr><tr><td>&quot;bigBed narrowPeak&quot;</td></tr><tr><td>&quot;bigBed bedMethyl&quot;</td></tr><tr><td>&quot;bigBed bed9+&quot;</td></tr><tr><td>&hellip;</td></tr><tr><td>&quot;bed bed9+&quot;</td></tr><tr><td>&quot;bigBed bed12&quot;</td></tr><tr><td>&quot;bigBed bedExonScore&quot;</td></tr><tr><td>&quot;fasta&quot;</td></tr><tr><td>&quot;bed bed6+&quot;</td></tr></tbody></table></div>"
      ],
      "text/plain": [
       "shape: (61, 1)\n",
       "┌─────────────────────┐\n",
       "│ file_type           │\n",
       "│ ---                 │\n",
       "│ str                 │\n",
       "╞═════════════════════╡\n",
       "│ bed idr_peak        │\n",
       "│ bed bedGraph        │\n",
       "│ bigBed narrowPeak   │\n",
       "│ bigBed bedMethyl    │\n",
       "│ bigBed bed9+        │\n",
       "│ …                   │\n",
       "│ bed bed9+           │\n",
       "│ bigBed bed12        │\n",
       "│ bigBed bedExonScore │\n",
       "│ fasta               │\n",
       "│ bed bed6+           │\n",
       "└─────────────────────┘"
      ]
     },
     "metadata": {},
     "output_type": "display_data"
    },
    {
     "data": {
      "text/html": [
       "<div><style>\n",
       ".dataframe > thead > tr,\n",
       ".dataframe > tbody > tr {\n",
       "  text-align: right;\n",
       "  white-space: pre-wrap;\n",
       "}\n",
       "</style>\n",
       "<small>shape: (21, 1)</small><table border=\"1\" class=\"dataframe\"><thead><tr><th>file_format_type</th></tr><tr><td>str</td></tr></thead><tbody><tr><td>&quot;bed3&quot;</td></tr><tr><td>&quot;bed3+&quot;</td></tr><tr><td>&quot;peptideMapping&quot;</td></tr><tr><td>&quot;pepMap&quot;</td></tr><tr><td>&quot;bedRnaElements&quot;</td></tr><tr><td>&hellip;</td></tr><tr><td>&quot;bed6+&quot;</td></tr><tr><td>&quot;idr_peak&quot;</td></tr><tr><td>&quot;bed9+&quot;</td></tr><tr><td>&quot;broadPeak&quot;</td></tr><tr><td>&quot;tss_peak&quot;</td></tr></tbody></table></div>"
      ],
      "text/plain": [
       "shape: (21, 1)\n",
       "┌──────────────────┐\n",
       "│ file_format_type │\n",
       "│ ---              │\n",
       "│ str              │\n",
       "╞══════════════════╡\n",
       "│ bed3             │\n",
       "│ bed3+            │\n",
       "│ peptideMapping   │\n",
       "│ pepMap           │\n",
       "│ bedRnaElements   │\n",
       "│ …                │\n",
       "│ bed6+            │\n",
       "│ idr_peak         │\n",
       "│ bed9+            │\n",
       "│ broadPeak        │\n",
       "│ tss_peak         │\n",
       "└──────────────────┘"
      ]
     },
     "metadata": {},
     "output_type": "display_data"
    },
    {
     "data": {
      "text/html": [
       "<div><style>\n",
       ".dataframe > thead > tr,\n",
       ".dataframe > tbody > tr {\n",
       "  text-align: right;\n",
       "  white-space: pre-wrap;\n",
       "}\n",
       "</style>\n",
       "<small>shape: (751_746, 1)</small><table border=\"1\" class=\"dataframe\"><thead><tr><th>file_size</th></tr><tr><td>str</td></tr></thead><tbody><tr><td>&quot;10424668&quot;</td></tr><tr><td>&quot;54471468&quot;</td></tr><tr><td>&quot;1527521000&quot;</td></tr><tr><td>&quot;2984770684&quot;</td></tr><tr><td>&quot;77775689&quot;</td></tr><tr><td>&hellip;</td></tr><tr><td>&quot;404574822&quot;</td></tr><tr><td>&quot;491543&quot;</td></tr><tr><td>&quot;1919675&quot;</td></tr><tr><td>&quot;575911097&quot;</td></tr><tr><td>&quot;15237477&quot;</td></tr></tbody></table></div>"
      ],
      "text/plain": [
       "shape: (751_746, 1)\n",
       "┌────────────┐\n",
       "│ file_size  │\n",
       "│ ---        │\n",
       "│ str        │\n",
       "╞════════════╡\n",
       "│ 10424668   │\n",
       "│ 54471468   │\n",
       "│ 1527521000 │\n",
       "│ 2984770684 │\n",
       "│ 77775689   │\n",
       "│ …          │\n",
       "│ 404574822  │\n",
       "│ 491543     │\n",
       "│ 1919675    │\n",
       "│ 575911097  │\n",
       "│ 15237477   │\n",
       "└────────────┘"
      ]
     },
     "metadata": {},
     "output_type": "display_data"
    },
    {
     "data": {
      "text/html": [
       "<div><style>\n",
       ".dataframe > thead > tr,\n",
       ".dataframe > tbody > tr {\n",
       "  text-align: right;\n",
       "  white-space: pre-wrap;\n",
       "}\n",
       "</style>\n",
       "<small>shape: (59, 1)</small><table border=\"1\" class=\"dataframe\"><thead><tr><th>assay_term_name</th></tr><tr><td>str</td></tr></thead><tbody><tr><td>&quot;transcription profiling by arr…</td></tr><tr><td>&quot;long read single-cell RNA-seq&quot;</td></tr><tr><td>&quot;5&#x27; RLM RACE&quot;</td></tr><tr><td>&quot;shRNA knockdown followed by RN…</td></tr><tr><td>&quot;TAB-seq&quot;</td></tr><tr><td>&hellip;</td></tr><tr><td>&quot;GRO-cap&quot;</td></tr><tr><td>&quot;SPRITE&quot;</td></tr><tr><td>&quot;whole genome sequencing assay&quot;</td></tr><tr><td>&quot;eCLIP&quot;</td></tr><tr><td>&quot;protein sequencing by tandem m…</td></tr></tbody></table></div>"
      ],
      "text/plain": [
       "shape: (59, 1)\n",
       "┌─────────────────────────────────┐\n",
       "│ assay_term_name                 │\n",
       "│ ---                             │\n",
       "│ str                             │\n",
       "╞═════════════════════════════════╡\n",
       "│ transcription profiling by arr… │\n",
       "│ long read single-cell RNA-seq   │\n",
       "│ 5' RLM RACE                     │\n",
       "│ shRNA knockdown followed by RN… │\n",
       "│ TAB-seq                         │\n",
       "│ …                               │\n",
       "│ GRO-cap                         │\n",
       "│ SPRITE                          │\n",
       "│ whole genome sequencing assay   │\n",
       "│ eCLIP                           │\n",
       "│ protein sequencing by tandem m… │\n",
       "└─────────────────────────────────┘"
      ]
     },
     "metadata": {},
     "output_type": "display_data"
    },
    {
     "data": {
      "text/html": [
       "<div><style>\n",
       ".dataframe > thead > tr,\n",
       ".dataframe > tbody > tr {\n",
       "  text-align: right;\n",
       "  white-space: pre-wrap;\n",
       "}\n",
       "</style>\n",
       "<small>shape: (816, 1)</small><table border=\"1\" class=\"dataframe\"><thead><tr><th>term_name</th></tr><tr><td>str</td></tr></thead><tbody><tr><td>&quot;SK-N-SH&quot;</td></tr><tr><td>&quot;HTR-8/SVneo&quot;</td></tr><tr><td>&quot;peripheral blood mononuclear c…</td></tr><tr><td>&quot;activated gamma-delta T cell&quot;</td></tr><tr><td>&quot;ELR&quot;</td></tr><tr><td>&hellip;</td></tr><tr><td>&quot;megakaryocyte&quot;</td></tr><tr><td>&quot;head of caudate nucleus&quot;</td></tr><tr><td>&quot;inflammatory macrophage&quot;</td></tr><tr><td>&quot;endocrine pancreas&quot;</td></tr><tr><td>&quot;mature B cell&quot;</td></tr></tbody></table></div>"
      ],
      "text/plain": [
       "shape: (816, 1)\n",
       "┌─────────────────────────────────┐\n",
       "│ term_name                       │\n",
       "│ ---                             │\n",
       "│ str                             │\n",
       "╞═════════════════════════════════╡\n",
       "│ SK-N-SH                         │\n",
       "│ HTR-8/SVneo                     │\n",
       "│ peripheral blood mononuclear c… │\n",
       "│ activated gamma-delta T cell    │\n",
       "│ ELR                             │\n",
       "│ …                               │\n",
       "│ megakaryocyte                   │\n",
       "│ head of caudate nucleus         │\n",
       "│ inflammatory macrophage         │\n",
       "│ endocrine pancreas              │\n",
       "│ mature B cell                   │\n",
       "└─────────────────────────────────┘"
      ]
     },
     "metadata": {},
     "output_type": "display_data"
    },
    {
     "data": {
      "text/html": [
       "<div><style>\n",
       ".dataframe > thead > tr,\n",
       ".dataframe > tbody > tr {\n",
       "  text-align: right;\n",
       "  white-space: pre-wrap;\n",
       "}\n",
       "</style>\n",
       "<small>shape: (254, 1)</small><table border=\"1\" class=\"dataframe\"><thead><tr><th>organ_slims</th></tr><tr><td>str</td></tr></thead><tbody><tr><td>&quot;[&#x27;large intestine&#x27;, &#x27;intestine…</td></tr><tr><td>&quot;[&#x27;vasculature&#x27;, &#x27;vein&#x27;, &#x27;blood…</td></tr><tr><td>&quot;[&#x27;exocrine gland&#x27;, &#x27;connective…</td></tr><tr><td>&quot;[&#x27;intestine&#x27;, &#x27;small intestine…</td></tr><tr><td>&quot;[&#x27;endocrine gland&#x27;, &#x27;liver&#x27;, &#x27;…</td></tr><tr><td>&hellip;</td></tr><tr><td>&quot;[&#x27;intestine&#x27;, &#x27;lymphoid tissue…</td></tr><tr><td>&quot;[&#x27;esophagus&#x27;, &#x27;epithelium&#x27;]&quot;</td></tr><tr><td>&quot;[&#x27;endocrine gland&#x27;]&quot;</td></tr><tr><td>&quot;[&#x27;pancreas&#x27;, &#x27;endocrine gland&#x27;…</td></tr><tr><td>&quot;[&#x27;spleen&#x27;, &#x27;immune organ&#x27;]&quot;</td></tr></tbody></table></div>"
      ],
      "text/plain": [
       "shape: (254, 1)\n",
       "┌─────────────────────────────────┐\n",
       "│ organ_slims                     │\n",
       "│ ---                             │\n",
       "│ str                             │\n",
       "╞═════════════════════════════════╡\n",
       "│ ['large intestine', 'intestine… │\n",
       "│ ['vasculature', 'vein', 'blood… │\n",
       "│ ['exocrine gland', 'connective… │\n",
       "│ ['intestine', 'small intestine… │\n",
       "│ ['endocrine gland', 'liver', '… │\n",
       "│ …                               │\n",
       "│ ['intestine', 'lymphoid tissue… │\n",
       "│ ['esophagus', 'epithelium']     │\n",
       "│ ['endocrine gland']             │\n",
       "│ ['pancreas', 'endocrine gland'… │\n",
       "│ ['spleen', 'immune organ']      │\n",
       "└─────────────────────────────────┘"
      ]
     },
     "metadata": {},
     "output_type": "display_data"
    },
    {
     "data": {
      "text/html": [
       "<div><style>\n",
       ".dataframe > thead > tr,\n",
       ".dataframe > tbody > tr {\n",
       "  text-align: right;\n",
       "  white-space: pre-wrap;\n",
       "}\n",
       "</style>\n",
       "<small>shape: (4_674, 1)</small><table border=\"1\" class=\"dataframe\"><thead><tr><th>simple_biosample_summary</th></tr><tr><td>str</td></tr></thead><tbody><tr><td>&quot;genetically modified (insertio…</td></tr><tr><td>&quot;mitochondrial fraction&quot;</td></tr><tr><td>&quot;male adult (35 years) treated …</td></tr><tr><td>&quot;stably expressing JUND&quot;</td></tr><tr><td>&quot;male adult (36 years) treated …</td></tr><tr><td>&hellip;</td></tr><tr><td>&quot;hermaphrodite young adult stra…</td></tr><tr><td>&quot;mixed sex larva (48 days) stra…</td></tr><tr><td>&quot;mixed sex L4 larva strain OP10…</td></tr><tr><td>&quot;expressing RNAi targeting H. s…</td></tr><tr><td>&quot;male adult (41 years) nuclear …</td></tr></tbody></table></div>"
      ],
      "text/plain": [
       "shape: (4_674, 1)\n",
       "┌─────────────────────────────────┐\n",
       "│ simple_biosample_summary        │\n",
       "│ ---                             │\n",
       "│ str                             │\n",
       "╞═════════════════════════════════╡\n",
       "│ genetically modified (insertio… │\n",
       "│ mitochondrial fraction          │\n",
       "│ male adult (35 years) treated … │\n",
       "│ stably expressing JUND          │\n",
       "│ male adult (36 years) treated … │\n",
       "│ …                               │\n",
       "│ hermaphrodite young adult stra… │\n",
       "│ mixed sex larva (48 days) stra… │\n",
       "│ mixed sex L4 larva strain OP10… │\n",
       "│ expressing RNAi targeting H. s… │\n",
       "│ male adult (41 years) nuclear … │\n",
       "└─────────────────────────────────┘"
      ]
     },
     "metadata": {},
     "output_type": "display_data"
    },
    {
     "data": {
      "text/html": [
       "<div><style>\n",
       ".dataframe > thead > tr,\n",
       ".dataframe > tbody > tr {\n",
       "  text-align: right;\n",
       "  white-space: pre-wrap;\n",
       "}\n",
       "</style>\n",
       "<small>shape: (14_270, 1)</small><table border=\"1\" class=\"dataframe\"><thead><tr><th>origin_batches</th></tr><tr><td>str</td></tr></thead><tbody><tr><td>&quot;[&#x27;/biosamples/ENCBS869OTH/&#x27;]&quot;</td></tr><tr><td>&quot;[&#x27;/biosamples/ENCBS086DNU/&#x27;, &#x27;…</td></tr><tr><td>&quot;[&#x27;/biosamples/ENCBS976AOQ/&#x27;]&quot;</td></tr><tr><td>&quot;[&#x27;/biosamples/ENCBS871MOK/&#x27;]&quot;</td></tr><tr><td>&quot;[&#x27;/biosamples/ENCBS866ZXX/&#x27;]&quot;</td></tr><tr><td>&hellip;</td></tr><tr><td>&quot;[&#x27;/biosamples/ENCBS799SQC/&#x27;]&quot;</td></tr><tr><td>&quot;[&#x27;/biosamples/ENCBS410RUZ/&#x27;]&quot;</td></tr><tr><td>&quot;[&#x27;/biosamples/ENCBS292NBI/&#x27;]&quot;</td></tr><tr><td>&quot;[&#x27;/biosamples/ENCBS588GPN/&#x27;]&quot;</td></tr><tr><td>&quot;[&#x27;/biosamples/ENCBS430OPI/&#x27;]&quot;</td></tr></tbody></table></div>"
      ],
      "text/plain": [
       "shape: (14_270, 1)\n",
       "┌─────────────────────────────────┐\n",
       "│ origin_batches                  │\n",
       "│ ---                             │\n",
       "│ str                             │\n",
       "╞═════════════════════════════════╡\n",
       "│ ['/biosamples/ENCBS869OTH/']    │\n",
       "│ ['/biosamples/ENCBS086DNU/', '… │\n",
       "│ ['/biosamples/ENCBS976AOQ/']    │\n",
       "│ ['/biosamples/ENCBS871MOK/']    │\n",
       "│ ['/biosamples/ENCBS866ZXX/']    │\n",
       "│ …                               │\n",
       "│ ['/biosamples/ENCBS799SQC/']    │\n",
       "│ ['/biosamples/ENCBS410RUZ/']    │\n",
       "│ ['/biosamples/ENCBS292NBI/']    │\n",
       "│ ['/biosamples/ENCBS588GPN/']    │\n",
       "│ ['/biosamples/ENCBS430OPI/']    │\n",
       "└─────────────────────────────────┘"
      ]
     },
     "metadata": {},
     "output_type": "display_data"
    },
    {
     "data": {
      "text/html": [
       "<div><style>\n",
       ".dataframe > thead > tr,\n",
       ".dataframe > tbody > tr {\n",
       "  text-align: right;\n",
       "  white-space: pre-wrap;\n",
       "}\n",
       "</style>\n",
       "<small>shape: (2_752, 1)</small><table border=\"1\" class=\"dataframe\"><thead><tr><th>label</th></tr><tr><td>str</td></tr></thead><tbody><tr><td>&quot;ZFAT&quot;</td></tr><tr><td>&quot;MXD3&quot;</td></tr><tr><td>&quot;FOXJ3&quot;</td></tr><tr><td>&quot;CG11085&quot;</td></tr><tr><td>&quot;ARHGEF2&quot;</td></tr><tr><td>&hellip;</td></tr><tr><td>&quot;ISL1&quot;</td></tr><tr><td>&quot;ZNF18&quot;</td></tr><tr><td>&quot;HMGA1&quot;</td></tr><tr><td>&quot;ARID3B&quot;</td></tr><tr><td>&quot;ZNF555&quot;</td></tr></tbody></table></div>"
      ],
      "text/plain": [
       "shape: (2_752, 1)\n",
       "┌─────────┐\n",
       "│ label   │\n",
       "│ ---     │\n",
       "│ str     │\n",
       "╞═════════╡\n",
       "│ ZFAT    │\n",
       "│ MXD3    │\n",
       "│ FOXJ3   │\n",
       "│ CG11085 │\n",
       "│ ARHGEF2 │\n",
       "│ …       │\n",
       "│ ISL1    │\n",
       "│ ZNF18   │\n",
       "│ HMGA1   │\n",
       "│ ARID3B  │\n",
       "│ ZNF555  │\n",
       "└─────────┘"
      ]
     },
     "metadata": {},
     "output_type": "display_data"
    },
    {
     "data": {
      "text/html": [
       "<div><style>\n",
       ".dataframe > thead > tr,\n",
       ".dataframe > tbody > tr {\n",
       "  text-align: right;\n",
       "  white-space: pre-wrap;\n",
       "}\n",
       "</style>\n",
       "<small>shape: (762_008, 1)</small><table border=\"1\" class=\"dataframe\"><thead><tr><th>download_url</th></tr><tr><td>str</td></tr></thead><tbody><tr><td>&quot;https://encodeproject.org/file…</td></tr><tr><td>&quot;https://encodeproject.org/file…</td></tr><tr><td>&quot;https://encodeproject.org/file…</td></tr><tr><td>&quot;https://encodeproject.org/file…</td></tr><tr><td>&quot;https://encodeproject.org/file…</td></tr><tr><td>&hellip;</td></tr><tr><td>&quot;https://encodeproject.org/file…</td></tr><tr><td>&quot;https://encodeproject.org/file…</td></tr><tr><td>&quot;https://encodeproject.org/file…</td></tr><tr><td>&quot;https://encodeproject.org/file…</td></tr><tr><td>&quot;https://encodeproject.org/file…</td></tr></tbody></table></div>"
      ],
      "text/plain": [
       "shape: (762_008, 1)\n",
       "┌─────────────────────────────────┐\n",
       "│ download_url                    │\n",
       "│ ---                             │\n",
       "│ str                             │\n",
       "╞═════════════════════════════════╡\n",
       "│ https://encodeproject.org/file… │\n",
       "│ https://encodeproject.org/file… │\n",
       "│ https://encodeproject.org/file… │\n",
       "│ https://encodeproject.org/file… │\n",
       "│ https://encodeproject.org/file… │\n",
       "│ …                               │\n",
       "│ https://encodeproject.org/file… │\n",
       "│ https://encodeproject.org/file… │\n",
       "│ https://encodeproject.org/file… │\n",
       "│ https://encodeproject.org/file… │\n",
       "│ https://encodeproject.org/file… │\n",
       "└─────────────────────────────────┘"
      ]
     },
     "metadata": {},
     "output_type": "display_data"
    },
    {
     "data": {
      "text/html": [
       "<div><style>\n",
       ".dataframe > thead > tr,\n",
       ".dataframe > tbody > tr {\n",
       "  text-align: right;\n",
       "  white-space: pre-wrap;\n",
       "}\n",
       "</style>\n",
       "<small>shape: (340_589, 1)</small><table border=\"1\" class=\"dataframe\"><thead><tr><th>derived_from</th></tr><tr><td>str</td></tr></thead><tbody><tr><td>&quot;[&#x27;/files/ENCFF182WHU/&#x27;, &#x27;/file…</td></tr><tr><td>&quot;[&#x27;/files/ENCFF880NCG/&#x27;]&quot;</td></tr><tr><td>&quot;[&#x27;/files/ENCFF654KLN/&#x27;]&quot;</td></tr><tr><td>&quot;[&#x27;/files/ENCFF332HES/&#x27;, &#x27;/file…</td></tr><tr><td>&quot;[&#x27;/files/ENCFF200EPD/&#x27;, &#x27;/file…</td></tr><tr><td>&hellip;</td></tr><tr><td>&quot;[&#x27;/files/ENCFF943MYJ/&#x27;, &#x27;/file…</td></tr><tr><td>&quot;[&#x27;/files/ENCFF850IMB/&#x27;, &#x27;/file…</td></tr><tr><td>&quot;[&#x27;/files/ENCFF839KAI/&#x27;, &#x27;/file…</td></tr><tr><td>&quot;[&#x27;/files/ENCFF823GYE/&#x27;]&quot;</td></tr><tr><td>&quot;[&#x27;/files/ENCFF059UHX/&#x27;, &#x27;/file…</td></tr></tbody></table></div>"
      ],
      "text/plain": [
       "shape: (340_589, 1)\n",
       "┌─────────────────────────────────┐\n",
       "│ derived_from                    │\n",
       "│ ---                             │\n",
       "│ str                             │\n",
       "╞═════════════════════════════════╡\n",
       "│ ['/files/ENCFF182WHU/', '/file… │\n",
       "│ ['/files/ENCFF880NCG/']         │\n",
       "│ ['/files/ENCFF654KLN/']         │\n",
       "│ ['/files/ENCFF332HES/', '/file… │\n",
       "│ ['/files/ENCFF200EPD/', '/file… │\n",
       "│ …                               │\n",
       "│ ['/files/ENCFF943MYJ/', '/file… │\n",
       "│ ['/files/ENCFF850IMB/', '/file… │\n",
       "│ ['/files/ENCFF839KAI/', '/file… │\n",
       "│ ['/files/ENCFF823GYE/']         │\n",
       "│ ['/files/ENCFF059UHX/', '/file… │\n",
       "└─────────────────────────────────┘"
      ]
     },
     "metadata": {},
     "output_type": "display_data"
    },
    {
     "data": {
      "text/html": [
       "<div><style>\n",
       ".dataframe > thead > tr,\n",
       ".dataframe > tbody > tr {\n",
       "  text-align: right;\n",
       "  white-space: pre-wrap;\n",
       "}\n",
       "</style>\n",
       "<small>shape: (14, 1)</small><table border=\"1\" class=\"dataframe\"><thead><tr><th>genome_annotation</th></tr><tr><td>str</td></tr></thead><tbody><tr><td>&quot;V29&quot;</td></tr><tr><td>&quot;V19&quot;</td></tr><tr><td>&quot;M2&quot;</td></tr><tr><td>&quot;M3&quot;</td></tr><tr><td>&quot;V22&quot;</td></tr><tr><td>&hellip;</td></tr><tr><td>&quot;M4&quot;</td></tr><tr><td>&quot;ENSEMBL V65&quot;</td></tr><tr><td>&quot;V3c&quot;</td></tr><tr><td>&quot;V7&quot;</td></tr><tr><td>&quot;NA&quot;</td></tr></tbody></table></div>"
      ],
      "text/plain": [
       "shape: (14, 1)\n",
       "┌───────────────────┐\n",
       "│ genome_annotation │\n",
       "│ ---               │\n",
       "│ str               │\n",
       "╞═══════════════════╡\n",
       "│ V29               │\n",
       "│ V19               │\n",
       "│ M2                │\n",
       "│ M3                │\n",
       "│ V22               │\n",
       "│ …                 │\n",
       "│ M4                │\n",
       "│ ENSEMBL V65       │\n",
       "│ V3c               │\n",
       "│ V7                │\n",
       "│ NA                │\n",
       "└───────────────────┘"
      ]
     },
     "metadata": {},
     "output_type": "display_data"
    },
    {
     "data": {
      "text/html": [
       "<div><style>\n",
       ".dataframe > thead > tr,\n",
       ".dataframe > tbody > tr {\n",
       "  text-align: right;\n",
       "  white-space: pre-wrap;\n",
       "}\n",
       "</style>\n",
       "<small>shape: (4, 1)</small><table border=\"1\" class=\"dataframe\"><thead><tr><th>paired_end</th></tr><tr><td>str</td></tr></thead><tbody><tr><td>&quot;NA&quot;</td></tr><tr><td>&quot;2&quot;</td></tr><tr><td>&quot;1&quot;</td></tr><tr><td>&quot;1,2&quot;</td></tr></tbody></table></div>"
      ],
      "text/plain": [
       "shape: (4, 1)\n",
       "┌────────────┐\n",
       "│ paired_end │\n",
       "│ ---        │\n",
       "│ str        │\n",
       "╞════════════╡\n",
       "│ NA         │\n",
       "│ 2          │\n",
       "│ 1          │\n",
       "│ 1,2        │\n",
       "└────────────┘"
      ]
     },
     "metadata": {},
     "output_type": "display_data"
    },
    {
     "data": {
      "text/html": [
       "<div><style>\n",
       ".dataframe > thead > tr,\n",
       ".dataframe > tbody > tr {\n",
       "  text-align: right;\n",
       "  white-space: pre-wrap;\n",
       "}\n",
       "</style>\n",
       "<small>shape: (96_288, 1)</small><table border=\"1\" class=\"dataframe\"><thead><tr><th>paired_with</th></tr><tr><td>str</td></tr></thead><tbody><tr><td>&quot;/files/ENCFF881FEZ/&quot;</td></tr><tr><td>&quot;/files/ENCFF430MWD/&quot;</td></tr><tr><td>&quot;/files/ENCFF080UFM/&quot;</td></tr><tr><td>&quot;/files/ENCFF273HOC/&quot;</td></tr><tr><td>&quot;/files/ENCFF177FYQ/&quot;</td></tr><tr><td>&hellip;</td></tr><tr><td>&quot;/files/ENCFF198OBP/&quot;</td></tr><tr><td>&quot;/files/ENCFF475EEK/&quot;</td></tr><tr><td>&quot;/files/ENCFF089WJQ/&quot;</td></tr><tr><td>&quot;/files/ENCFF292HTF/&quot;</td></tr><tr><td>&quot;/files/ENCFF571BGG/&quot;</td></tr></tbody></table></div>"
      ],
      "text/plain": [
       "shape: (96_288, 1)\n",
       "┌─────────────────────┐\n",
       "│ paired_with         │\n",
       "│ ---                 │\n",
       "│ str                 │\n",
       "╞═════════════════════╡\n",
       "│ /files/ENCFF881FEZ/ │\n",
       "│ /files/ENCFF430MWD/ │\n",
       "│ /files/ENCFF080UFM/ │\n",
       "│ /files/ENCFF273HOC/ │\n",
       "│ /files/ENCFF177FYQ/ │\n",
       "│ …                   │\n",
       "│ /files/ENCFF198OBP/ │\n",
       "│ /files/ENCFF475EEK/ │\n",
       "│ /files/ENCFF089WJQ/ │\n",
       "│ /files/ENCFF292HTF/ │\n",
       "│ /files/ENCFF571BGG/ │\n",
       "└─────────────────────┘"
      ]
     },
     "metadata": {},
     "output_type": "display_data"
    },
    {
     "data": {
      "text/html": [
       "<div><style>\n",
       ".dataframe > thead > tr,\n",
       ".dataframe > tbody > tr {\n",
       "  text-align: right;\n",
       "  white-space: pre-wrap;\n",
       "}\n",
       "</style>\n",
       "<small>shape: (3, 1)</small><table border=\"1\" class=\"dataframe\"><thead><tr><th>preferred_default</th></tr><tr><td>str</td></tr></thead><tbody><tr><td>&quot;True&quot;</td></tr><tr><td>&quot;NA&quot;</td></tr><tr><td>&quot;False&quot;</td></tr></tbody></table></div>"
      ],
      "text/plain": [
       "shape: (3, 1)\n",
       "┌───────────────────┐\n",
       "│ preferred_default │\n",
       "│ ---               │\n",
       "│ str               │\n",
       "╞═══════════════════╡\n",
       "│ True              │\n",
       "│ NA                │\n",
       "│ False             │\n",
       "└───────────────────┘"
      ]
     },
     "metadata": {},
     "output_type": "display_data"
    },
    {
     "data": {
      "text/html": [
       "<div><style>\n",
       ".dataframe > thead > tr,\n",
       ".dataframe > tbody > tr {\n",
       "  text-align: right;\n",
       "  white-space: pre-wrap;\n",
       "}\n",
       "</style>\n",
       "<small>shape: (3, 1)</small><table border=\"1\" class=\"dataframe\"><thead><tr><th>run_type</th></tr><tr><td>str</td></tr></thead><tbody><tr><td>&quot;single-ended&quot;</td></tr><tr><td>&quot;paired-ended&quot;</td></tr><tr><td>&quot;NA&quot;</td></tr></tbody></table></div>"
      ],
      "text/plain": [
       "shape: (3, 1)\n",
       "┌──────────────┐\n",
       "│ run_type     │\n",
       "│ ---          │\n",
       "│ str          │\n",
       "╞══════════════╡\n",
       "│ single-ended │\n",
       "│ paired-ended │\n",
       "│ NA           │\n",
       "└──────────────┘"
      ]
     },
     "metadata": {},
     "output_type": "display_data"
    },
    {
     "data": {
      "text/html": [
       "<div><style>\n",
       ".dataframe > thead > tr,\n",
       ".dataframe > tbody > tr {\n",
       "  text-align: right;\n",
       "  white-space: pre-wrap;\n",
       "}\n",
       "</style>\n",
       "<small>shape: (88, 1)</small><table border=\"1\" class=\"dataframe\"><thead><tr><th>read_length</th></tr><tr><td>str</td></tr></thead><tbody><tr><td>&quot;108&quot;</td></tr><tr><td>&quot;95&quot;</td></tr><tr><td>&quot;101&quot;</td></tr><tr><td>&quot;58&quot;</td></tr><tr><td>&quot;38&quot;</td></tr><tr><td>&hellip;</td></tr><tr><td>&quot;31&quot;</td></tr><tr><td>&quot;131&quot;</td></tr><tr><td>&quot;39&quot;</td></tr><tr><td>&quot;53&quot;</td></tr><tr><td>&quot;132&quot;</td></tr></tbody></table></div>"
      ],
      "text/plain": [
       "shape: (88, 1)\n",
       "┌─────────────┐\n",
       "│ read_length │\n",
       "│ ---         │\n",
       "│ str         │\n",
       "╞═════════════╡\n",
       "│ 108         │\n",
       "│ 95          │\n",
       "│ 101         │\n",
       "│ 58          │\n",
       "│ 38          │\n",
       "│ …           │\n",
       "│ 31          │\n",
       "│ 131         │\n",
       "│ 39          │\n",
       "│ 53          │\n",
       "│ 132         │\n",
       "└─────────────┘"
      ]
     },
     "metadata": {},
     "output_type": "display_data"
    },
    {
     "data": {
      "text/html": [
       "<div><style>\n",
       ".dataframe > thead > tr,\n",
       ".dataframe > tbody > tr {\n",
       "  text-align: right;\n",
       "  white-space: pre-wrap;\n",
       "}\n",
       "</style>\n",
       "<small>shape: (83, 1)</small><table border=\"1\" class=\"dataframe\"><thead><tr><th>mapped_read_length</th></tr><tr><td>str</td></tr></thead><tbody><tr><td>&quot;90&quot;</td></tr><tr><td>&quot;130&quot;</td></tr><tr><td>&quot;39&quot;</td></tr><tr><td>&quot;98&quot;</td></tr><tr><td>&quot;16&quot;</td></tr><tr><td>&hellip;</td></tr><tr><td>&quot;102&quot;</td></tr><tr><td>&quot;100&quot;</td></tr><tr><td>&quot;80&quot;</td></tr><tr><td>&quot;49&quot;</td></tr><tr><td>&quot;42&quot;</td></tr></tbody></table></div>"
      ],
      "text/plain": [
       "shape: (83, 1)\n",
       "┌────────────────────┐\n",
       "│ mapped_read_length │\n",
       "│ ---                │\n",
       "│ str                │\n",
       "╞════════════════════╡\n",
       "│ 90                 │\n",
       "│ 130                │\n",
       "│ 39                 │\n",
       "│ 98                 │\n",
       "│ 16                 │\n",
       "│ …                  │\n",
       "│ 102                │\n",
       "│ 100                │\n",
       "│ 80                 │\n",
       "│ 49                 │\n",
       "│ 42                 │\n",
       "└────────────────────┘"
      ]
     },
     "metadata": {},
     "output_type": "display_data"
    },
    {
     "data": {
      "text/html": [
       "<div><style>\n",
       ".dataframe > thead > tr,\n",
       ".dataframe > tbody > tr {\n",
       "  text-align: right;\n",
       "  white-space: pre-wrap;\n",
       "}\n",
       "</style>\n",
       "<small>shape: (27, 1)</small><table border=\"1\" class=\"dataframe\"><thead><tr><th>cropped_read_length</th></tr><tr><td>str</td></tr></thead><tbody><tr><td>&quot;33&quot;</td></tr><tr><td>&quot;75&quot;</td></tr><tr><td>&quot;76&quot;</td></tr><tr><td>&quot;50&quot;</td></tr><tr><td>&quot;51&quot;</td></tr><tr><td>&hellip;</td></tr><tr><td>&quot;34&quot;</td></tr><tr><td>&quot;74&quot;</td></tr><tr><td>&quot;32&quot;</td></tr><tr><td>&quot;25&quot;</td></tr><tr><td>&quot;30&quot;</td></tr></tbody></table></div>"
      ],
      "text/plain": [
       "shape: (27, 1)\n",
       "┌─────────────────────┐\n",
       "│ cropped_read_length │\n",
       "│ ---                 │\n",
       "│ str                 │\n",
       "╞═════════════════════╡\n",
       "│ 33                  │\n",
       "│ 75                  │\n",
       "│ 76                  │\n",
       "│ 50                  │\n",
       "│ 51                  │\n",
       "│ …                   │\n",
       "│ 34                  │\n",
       "│ 74                  │\n",
       "│ 32                  │\n",
       "│ 25                  │\n",
       "│ 30                  │\n",
       "└─────────────────────┘"
      ]
     },
     "metadata": {},
     "output_type": "display_data"
    },
    {
     "data": {
      "text/html": [
       "<div><style>\n",
       ".dataframe > thead > tr,\n",
       ".dataframe > tbody > tr {\n",
       "  text-align: right;\n",
       "  white-space: pre-wrap;\n",
       "}\n",
       "</style>\n",
       "<small>shape: (2, 1)</small><table border=\"1\" class=\"dataframe\"><thead><tr><th>cropped_read_length_tolerance</th></tr><tr><td>str</td></tr></thead><tbody><tr><td>&quot;NA&quot;</td></tr><tr><td>&quot;2&quot;</td></tr></tbody></table></div>"
      ],
      "text/plain": [
       "shape: (2, 1)\n",
       "┌───────────────────────────────┐\n",
       "│ cropped_read_length_tolerance │\n",
       "│ ---                           │\n",
       "│ str                           │\n",
       "╞═══════════════════════════════╡\n",
       "│ NA                            │\n",
       "│ 2                             │\n",
       "└───────────────────────────────┘"
      ]
     },
     "metadata": {},
     "output_type": "display_data"
    },
    {
     "data": {
      "text/html": [
       "<div><style>\n",
       ".dataframe > thead > tr,\n",
       ".dataframe > tbody > tr {\n",
       "  text-align: right;\n",
       "  white-space: pre-wrap;\n",
       "}\n",
       "</style>\n",
       "<small>shape: (3, 1)</small><table border=\"1\" class=\"dataframe\"><thead><tr><th>mapped_run_type</th></tr><tr><td>str</td></tr></thead><tbody><tr><td>&quot;paired-ended&quot;</td></tr><tr><td>&quot;single-ended&quot;</td></tr><tr><td>&quot;NA&quot;</td></tr></tbody></table></div>"
      ],
      "text/plain": [
       "shape: (3, 1)\n",
       "┌─────────────────┐\n",
       "│ mapped_run_type │\n",
       "│ ---             │\n",
       "│ str             │\n",
       "╞═════════════════╡\n",
       "│ paired-ended    │\n",
       "│ single-ended    │\n",
       "│ NA              │\n",
       "└─────────────────┘"
      ]
     },
     "metadata": {},
     "output_type": "display_data"
    },
    {
     "data": {
      "text/html": [
       "<div><style>\n",
       ".dataframe > thead > tr,\n",
       ".dataframe > tbody > tr {\n",
       "  text-align: right;\n",
       "  white-space: pre-wrap;\n",
       "}\n",
       "</style>\n",
       "<small>shape: (2, 1)</small><table border=\"1\" class=\"dataframe\"><thead><tr><th>read_length_units</th></tr><tr><td>str</td></tr></thead><tbody><tr><td>&quot;NA&quot;</td></tr><tr><td>&quot;nt&quot;</td></tr></tbody></table></div>"
      ],
      "text/plain": [
       "shape: (2, 1)\n",
       "┌───────────────────┐\n",
       "│ read_length_units │\n",
       "│ ---               │\n",
       "│ str               │\n",
       "╞═══════════════════╡\n",
       "│ NA                │\n",
       "│ nt                │\n",
       "└───────────────────┘"
      ]
     },
     "metadata": {},
     "output_type": "display_data"
    },
    {
     "data": {
      "text/html": [
       "<div><style>\n",
       ".dataframe > thead > tr,\n",
       ".dataframe > tbody > tr {\n",
       "  text-align: right;\n",
       "  white-space: pre-wrap;\n",
       "}\n",
       "</style>\n",
       "<small>shape: (7, 1)</small><table border=\"1\" class=\"dataframe\"><thead><tr><th>output_category</th></tr><tr><td>str</td></tr></thead><tbody><tr><td>&quot;quantification&quot;</td></tr><tr><td>&quot;annotation&quot;</td></tr><tr><td>&quot;signal&quot;</td></tr><tr><td>&quot;reference&quot;</td></tr><tr><td>&quot;alignment&quot;</td></tr><tr><td>&quot;raw data&quot;</td></tr><tr><td>&quot;validation&quot;</td></tr></tbody></table></div>"
      ],
      "text/plain": [
       "shape: (7, 1)\n",
       "┌─────────────────┐\n",
       "│ output_category │\n",
       "│ ---             │\n",
       "│ str             │\n",
       "╞═════════════════╡\n",
       "│ quantification  │\n",
       "│ annotation      │\n",
       "│ signal          │\n",
       "│ reference       │\n",
       "│ alignment       │\n",
       "│ raw data        │\n",
       "│ validation      │\n",
       "└─────────────────┘"
      ]
     },
     "metadata": {},
     "output_type": "display_data"
    },
    {
     "data": {
      "text/html": [
       "<div><style>\n",
       ".dataframe > thead > tr,\n",
       ".dataframe > tbody > tr {\n",
       "  text-align: right;\n",
       "  white-space: pre-wrap;\n",
       "}\n",
       "</style>\n",
       "<small>shape: (121, 1)</small><table border=\"1\" class=\"dataframe\"><thead><tr><th>output_type</th></tr><tr><td>str</td></tr></thead><tbody><tr><td>&quot;gene quantifications&quot;</td></tr><tr><td>&quot;replication timing profile&quot;</td></tr><tr><td>&quot;IDR ranked peaks&quot;</td></tr><tr><td>&quot;haplotype-specific nuclease cl…</td></tr><tr><td>&quot;sparse transcript count matrix&quot;</td></tr><tr><td>&hellip;</td></tr><tr><td>&quot;library fraction&quot;</td></tr><tr><td>&quot;unfiltered peptide quantificat…</td></tr><tr><td>&quot;genome subcompartments&quot;</td></tr><tr><td>&quot;raw imaging signal&quot;</td></tr><tr><td>&quot;idat red channel&quot;</td></tr></tbody></table></div>"
      ],
      "text/plain": [
       "shape: (121, 1)\n",
       "┌─────────────────────────────────┐\n",
       "│ output_type                     │\n",
       "│ ---                             │\n",
       "│ str                             │\n",
       "╞═════════════════════════════════╡\n",
       "│ gene quantifications            │\n",
       "│ replication timing profile      │\n",
       "│ IDR ranked peaks                │\n",
       "│ haplotype-specific nuclease cl… │\n",
       "│ sparse transcript count matrix  │\n",
       "│ …                               │\n",
       "│ library fraction                │\n",
       "│ unfiltered peptide quantificat… │\n",
       "│ genome subcompartments          │\n",
       "│ raw imaging signal              │\n",
       "│ idat red channel                │\n",
       "└─────────────────────────────────┘"
      ]
     },
     "metadata": {},
     "output_type": "display_data"
    },
    {
     "data": {
      "text/html": [
       "<div><style>\n",
       ".dataframe > thead > tr,\n",
       ".dataframe > tbody > tr {\n",
       "  text-align: right;\n",
       "  white-space: pre-wrap;\n",
       "}\n",
       "</style>\n",
       "<small>shape: (2_115, 1)</small><table border=\"1\" class=\"dataframe\"><thead><tr><th>index_of</th></tr><tr><td>str</td></tr></thead><tbody><tr><td>&quot;[&#x27;/files/ENCFF365QWR/&#x27;, &#x27;/file…</td></tr><tr><td>&quot;[&#x27;/files/ENCFF466FRX/&#x27;, &#x27;/file…</td></tr><tr><td>&quot;[&#x27;/files/ENCFF874DQI/&#x27;]&quot;</td></tr><tr><td>&quot;[&#x27;/files/ENCFF433KBB/&#x27;, &#x27;/file…</td></tr><tr><td>&quot;[&#x27;/files/ENCFF140ITH/&#x27;]&quot;</td></tr><tr><td>&hellip;</td></tr><tr><td>&quot;[&#x27;/files/ENCFF917RXS/&#x27;, &#x27;/file…</td></tr><tr><td>&quot;[&#x27;/files/ENCFF444QQF/&#x27;]&quot;</td></tr><tr><td>&quot;[&#x27;/files/ENCFF492PDY/&#x27;]&quot;</td></tr><tr><td>&quot;[&#x27;/files/ENCFF070VXC/&#x27;]&quot;</td></tr><tr><td>&quot;[&#x27;/files/ENCFF973LFW/&#x27;]&quot;</td></tr></tbody></table></div>"
      ],
      "text/plain": [
       "shape: (2_115, 1)\n",
       "┌─────────────────────────────────┐\n",
       "│ index_of                        │\n",
       "│ ---                             │\n",
       "│ str                             │\n",
       "╞═════════════════════════════════╡\n",
       "│ ['/files/ENCFF365QWR/', '/file… │\n",
       "│ ['/files/ENCFF466FRX/', '/file… │\n",
       "│ ['/files/ENCFF874DQI/']         │\n",
       "│ ['/files/ENCFF433KBB/', '/file… │\n",
       "│ ['/files/ENCFF140ITH/']         │\n",
       "│ …                               │\n",
       "│ ['/files/ENCFF917RXS/', '/file… │\n",
       "│ ['/files/ENCFF444QQF/']         │\n",
       "│ ['/files/ENCFF492PDY/']         │\n",
       "│ ['/files/ENCFF070VXC/']         │\n",
       "│ ['/files/ENCFF973LFW/']         │\n",
       "└─────────────────────────────────┘"
      ]
     },
     "metadata": {},
     "output_type": "display_data"
    },
    {
     "data": {
      "text/html": [
       "<div><style>\n",
       ".dataframe > thead > tr,\n",
       ".dataframe > tbody > tr {\n",
       "  text-align: right;\n",
       "  white-space: pre-wrap;\n",
       "}\n",
       "</style>\n",
       "<small>shape: (210_871, 1)</small><table border=\"1\" class=\"dataframe\"><thead><tr><th>quality_metrics</th></tr><tr><td>str</td></tr></thead><tbody><tr><td>&quot;[{&#x27;status&#x27;: &#x27;released&#x27;, &#x27;lab&#x27;:…</td></tr><tr><td>&quot;[{&#x27;submitted_by&#x27;: &#x27;/users/81a6…</td></tr><tr><td>&quot;[{&#x27;assay_term_name&#x27;: &#x27;Mint-ChI…</td></tr><tr><td>&quot;[{&#x27;assay_term_name&#x27;: &#x27;ChIP-seq…</td></tr><tr><td>&quot;[{&#x27;assay_term_name&#x27;: &#x27;RNA-seq&#x27;…</td></tr><tr><td>&hellip;</td></tr><tr><td>&quot;[{&#x27;assay_term_name&#x27;: &#x27;RNA-seq&#x27;…</td></tr><tr><td>&quot;[{&#x27;assay_term_name&#x27;: &#x27;RNA-seq&#x27;…</td></tr><tr><td>&quot;[{&#x27;submitted_by&#x27;: &#x27;/users/20ce…</td></tr><tr><td>&quot;[{&#x27;assay_term_name&#x27;: &#x27;ATAC-seq…</td></tr><tr><td>&quot;[{&#x27;assay_term_name&#x27;: &#x27;CRISPR g…</td></tr></tbody></table></div>"
      ],
      "text/plain": [
       "shape: (210_871, 1)\n",
       "┌─────────────────────────────────┐\n",
       "│ quality_metrics                 │\n",
       "│ ---                             │\n",
       "│ str                             │\n",
       "╞═════════════════════════════════╡\n",
       "│ [{'status': 'released', 'lab':… │\n",
       "│ [{'submitted_by': '/users/81a6… │\n",
       "│ [{'assay_term_name': 'Mint-ChI… │\n",
       "│ [{'assay_term_name': 'ChIP-seq… │\n",
       "│ [{'assay_term_name': 'RNA-seq'… │\n",
       "│ …                               │\n",
       "│ [{'assay_term_name': 'RNA-seq'… │\n",
       "│ [{'assay_term_name': 'RNA-seq'… │\n",
       "│ [{'submitted_by': '/users/20ce… │\n",
       "│ [{'assay_term_name': 'ATAC-seq… │\n",
       "│ [{'assay_term_name': 'CRISPR g… │\n",
       "└─────────────────────────────────┘"
      ]
     },
     "metadata": {},
     "output_type": "display_data"
    },
    {
     "data": {
      "text/html": [
       "<div><style>\n",
       ".dataframe > thead > tr,\n",
       ".dataframe > tbody > tr {\n",
       "  text-align: right;\n",
       "  white-space: pre-wrap;\n",
       "}\n",
       "</style>\n",
       "<small>shape: (72, 1)</small><table border=\"1\" class=\"dataframe\"><thead><tr><th>lab_title</th></tr><tr><td>str</td></tr></thead><tbody><tr><td>&quot;Kevin White, UChicago&quot;</td></tr><tr><td>&quot;Morgan Giddings, UNC&quot;</td></tr><tr><td>&quot;Tim Reddy, Duke&quot;</td></tr><tr><td>&quot;Mats Ljungman, UMichigan&quot;</td></tr><tr><td>&quot;John Rinn, Broad&quot;</td></tr><tr><td>&hellip;</td></tr><tr><td>&quot;Ernest Fraenkel, MIT&quot;</td></tr><tr><td>&quot;Andrew Z. Fire, Stanford&quot;</td></tr><tr><td>&quot;Michael Brent, WUSTL&quot;</td></tr><tr><td>&quot;Angela Brooks, UCSC&quot;</td></tr><tr><td>&quot;Barbara Graves&quot;</td></tr></tbody></table></div>"
      ],
      "text/plain": [
       "shape: (72, 1)\n",
       "┌──────────────────────────┐\n",
       "│ lab_title                │\n",
       "│ ---                      │\n",
       "│ str                      │\n",
       "╞══════════════════════════╡\n",
       "│ Kevin White, UChicago    │\n",
       "│ Morgan Giddings, UNC     │\n",
       "│ Tim Reddy, Duke          │\n",
       "│ Mats Ljungman, UMichigan │\n",
       "│ John Rinn, Broad         │\n",
       "│ …                        │\n",
       "│ Ernest Fraenkel, MIT     │\n",
       "│ Andrew Z. Fire, Stanford │\n",
       "│ Michael Brent, WUSTL     │\n",
       "│ Angela Brooks, UCSC      │\n",
       "│ Barbara Graves           │\n",
       "└──────────────────────────┘"
      ]
     },
     "metadata": {},
     "output_type": "display_data"
    },
    {
     "data": {
      "text/html": [
       "<div><style>\n",
       ".dataframe > thead > tr,\n",
       ".dataframe > tbody > tr {\n",
       "  text-align: right;\n",
       "  white-space: pre-wrap;\n",
       "}\n",
       "</style>\n",
       "<small>shape: (6, 1)</small><table border=\"1\" class=\"dataframe\"><thead><tr><th>project</th></tr><tr><td>str</td></tr></thead><tbody><tr><td>&quot;modENCODE&quot;</td></tr><tr><td>&quot;GGR&quot;</td></tr><tr><td>&quot;Roadmap&quot;</td></tr><tr><td>&quot;community&quot;</td></tr><tr><td>&quot;ENCODE&quot;</td></tr><tr><td>&quot;modERN&quot;</td></tr></tbody></table></div>"
      ],
      "text/plain": [
       "shape: (6, 1)\n",
       "┌───────────┐\n",
       "│ project   │\n",
       "│ ---       │\n",
       "│ str       │\n",
       "╞═══════════╡\n",
       "│ modENCODE │\n",
       "│ GGR       │\n",
       "│ Roadmap   │\n",
       "│ community │\n",
       "│ ENCODE    │\n",
       "│ modERN    │\n",
       "└───────────┘"
      ]
     },
     "metadata": {},
     "output_type": "display_data"
    },
    {
     "data": {
      "text/html": [
       "<div><style>\n",
       ".dataframe > thead > tr,\n",
       ".dataframe > tbody > tr {\n",
       "  text-align: right;\n",
       "  white-space: pre-wrap;\n",
       "}\n",
       "</style>\n",
       "<small>shape: (229_108, 1)</small><table border=\"1\" class=\"dataframe\"><thead><tr><th>step_run</th></tr><tr><td>str</td></tr></thead><tbody><tr><td>&quot;{&#x27;status&#x27;: &#x27;released&#x27;, &#x27;lab&#x27;: …</td></tr><tr><td>&quot;{&#x27;status&#x27;: &#x27;released&#x27;, &#x27;date_c…</td></tr><tr><td>&quot;{&#x27;status&#x27;: &#x27;released&#x27;, &#x27;lab&#x27;: …</td></tr><tr><td>&quot;{&#x27;date_created&#x27;: &#x27;2017-12-01T0…</td></tr><tr><td>&quot;{&#x27;date_created&#x27;: &#x27;2016-02-29T1…</td></tr><tr><td>&hellip;</td></tr><tr><td>&quot;{&#x27;date_created&#x27;: &#x27;2015-12-09T1…</td></tr><tr><td>&quot;{&#x27;date_created&#x27;: &#x27;2016-12-19T0…</td></tr><tr><td>&quot;{&#x27;date_created&#x27;: &#x27;2017-07-21T0…</td></tr><tr><td>&quot;{&#x27;status&#x27;: &#x27;released&#x27;, &#x27;date_c…</td></tr><tr><td>&quot;{&#x27;date_created&#x27;: &#x27;2017-09-18T1…</td></tr></tbody></table></div>"
      ],
      "text/plain": [
       "shape: (229_108, 1)\n",
       "┌─────────────────────────────────┐\n",
       "│ step_run                        │\n",
       "│ ---                             │\n",
       "│ str                             │\n",
       "╞═════════════════════════════════╡\n",
       "│ {'status': 'released', 'lab': … │\n",
       "│ {'status': 'released', 'date_c… │\n",
       "│ {'status': 'released', 'lab': … │\n",
       "│ {'date_created': '2017-12-01T0… │\n",
       "│ {'date_created': '2016-02-29T1… │\n",
       "│ …                               │\n",
       "│ {'date_created': '2015-12-09T1… │\n",
       "│ {'date_created': '2016-12-19T0… │\n",
       "│ {'date_created': '2017-07-21T0… │\n",
       "│ {'status': 'released', 'date_c… │\n",
       "│ {'date_created': '2017-09-18T1… │\n",
       "└─────────────────────────────────┘"
      ]
     },
     "metadata": {},
     "output_type": "display_data"
    },
    {
     "data": {
      "text/html": [
       "<div><style>\n",
       ".dataframe > thead > tr,\n",
       ".dataframe > tbody > tr {\n",
       "  text-align: right;\n",
       "  white-space: pre-wrap;\n",
       "}\n",
       "</style>\n",
       "<small>shape: (731_431, 1)</small><table border=\"1\" class=\"dataframe\"><thead><tr><th>date_created</th></tr><tr><td>str</td></tr></thead><tbody><tr><td>&quot;2022-02-11T14:11:00.746053+00:…</td></tr><tr><td>&quot;2016-10-09T03:47:22.200445+00:…</td></tr><tr><td>&quot;2021-09-27T20:09:03.437905+00:…</td></tr><tr><td>&quot;2023-05-26T22:48:28.466591+00:…</td></tr><tr><td>&quot;2016-10-23T19:15:56.206684+00:…</td></tr><tr><td>&hellip;</td></tr><tr><td>&quot;2017-10-10T15:53:46.999986+00:…</td></tr><tr><td>&quot;2021-04-17T08:51:27.620079+00:…</td></tr><tr><td>&quot;2016-11-02T15:11:33.448516+00:…</td></tr><tr><td>&quot;2022-02-14T23:54:05.181648+00:…</td></tr><tr><td>&quot;2019-09-07T05:17:09.830125+00:…</td></tr></tbody></table></div>"
      ],
      "text/plain": [
       "shape: (731_431, 1)\n",
       "┌─────────────────────────────────┐\n",
       "│ date_created                    │\n",
       "│ ---                             │\n",
       "│ str                             │\n",
       "╞═════════════════════════════════╡\n",
       "│ 2022-02-11T14:11:00.746053+00:… │\n",
       "│ 2016-10-09T03:47:22.200445+00:… │\n",
       "│ 2021-09-27T20:09:03.437905+00:… │\n",
       "│ 2023-05-26T22:48:28.466591+00:… │\n",
       "│ 2016-10-23T19:15:56.206684+00:… │\n",
       "│ …                               │\n",
       "│ 2017-10-10T15:53:46.999986+00:… │\n",
       "│ 2021-04-17T08:51:27.620079+00:… │\n",
       "│ 2016-11-02T15:11:33.448516+00:… │\n",
       "│ 2022-02-14T23:54:05.181648+00:… │\n",
       "│ 2019-09-07T05:17:09.830125+00:… │\n",
       "└─────────────────────────────────┘"
      ]
     },
     "metadata": {},
     "output_type": "display_data"
    },
    {
     "data": {
      "text/html": [
       "<div><style>\n",
       ".dataframe > thead > tr,\n",
       ".dataframe > tbody > tr {\n",
       "  text-align: right;\n",
       "  white-space: pre-wrap;\n",
       "}\n",
       "</style>\n",
       "<small>shape: (404, 1)</small><table border=\"1\" class=\"dataframe\"><thead><tr><th>analysis_step_version</th></tr><tr><td>str</td></tr></thead><tbody><tr><td>&quot;{&#x27;date_created&#x27;: &#x27;2021-06-24T0…</td></tr><tr><td>&quot;{&#x27;date_created&#x27;: &#x27;2022-05-27T1…</td></tr><tr><td>&quot;{&#x27;date_created&#x27;: &#x27;2022-04-20T0…</td></tr><tr><td>&quot;{&#x27;aliases&#x27;: [&#x27;tim-reddy:hic_fa…</td></tr><tr><td>&quot;{&#x27;aliases&#x27;: [&#x27;encode:frip_seq_…</td></tr><tr><td>&hellip;</td></tr><tr><td>&quot;{&#x27;aliases&#x27;: [&#x27;encode:small-rna…</td></tr><tr><td>&quot;{&#x27;analysis_step&#x27;: {&#x27;documents&#x27;…</td></tr><tr><td>&quot;{&#x27;aliases&#x27;: [&#x27;encode:modern-ch…</td></tr><tr><td>&quot;{&#x27;date_created&#x27;: &#x27;2020-07-24T1…</td></tr><tr><td>&quot;{&#x27;date_created&#x27;: &#x27;2020-08-08T0…</td></tr></tbody></table></div>"
      ],
      "text/plain": [
       "shape: (404, 1)\n",
       "┌─────────────────────────────────┐\n",
       "│ analysis_step_version           │\n",
       "│ ---                             │\n",
       "│ str                             │\n",
       "╞═════════════════════════════════╡\n",
       "│ {'date_created': '2021-06-24T0… │\n",
       "│ {'date_created': '2022-05-27T1… │\n",
       "│ {'date_created': '2022-04-20T0… │\n",
       "│ {'aliases': ['tim-reddy:hic_fa… │\n",
       "│ {'aliases': ['encode:frip_seq_… │\n",
       "│ …                               │\n",
       "│ {'aliases': ['encode:small-rna… │\n",
       "│ {'analysis_step': {'documents'… │\n",
       "│ {'aliases': ['encode:modern-ch… │\n",
       "│ {'date_created': '2020-07-24T1… │\n",
       "│ {'date_created': '2020-08-08T0… │\n",
       "└─────────────────────────────────┘"
      ]
     },
     "metadata": {},
     "output_type": "display_data"
    },
    {
     "data": {
      "text/html": [
       "<div><style>\n",
       ".dataframe > thead > tr,\n",
       ".dataframe > tbody > tr {\n",
       "  text-align: right;\n",
       "  white-space: pre-wrap;\n",
       "}\n",
       "</style>\n",
       "<small>shape: (3, 1)</small><table border=\"1\" class=\"dataframe\"><thead><tr><th>restricted</th></tr><tr><td>str</td></tr></thead><tbody><tr><td>&quot;NA&quot;</td></tr><tr><td>&quot;True&quot;</td></tr><tr><td>&quot;False&quot;</td></tr></tbody></table></div>"
      ],
      "text/plain": [
       "shape: (3, 1)\n",
       "┌────────────┐\n",
       "│ restricted │\n",
       "│ ---        │\n",
       "│ str        │\n",
       "╞════════════╡\n",
       "│ NA         │\n",
       "│ True       │\n",
       "│ False      │\n",
       "└────────────┘"
      ]
     },
     "metadata": {},
     "output_type": "display_data"
    },
    {
     "data": {
      "text/html": [
       "<div><style>\n",
       ".dataframe > thead > tr,\n",
       ".dataframe > tbody > tr {\n",
       "  text-align: right;\n",
       "  white-space: pre-wrap;\n",
       "}\n",
       "</style>\n",
       "<small>shape: (77, 1)</small><table border=\"1\" class=\"dataframe\"><thead><tr><th>submitter_comment</th></tr><tr><td>str</td></tr></thead><tbody><tr><td>&quot;This file is a replacement sub…</td></tr><tr><td>&quot;This file was originally assoc…</td></tr><tr><td>&quot;File was intially associated w…</td></tr><tr><td>&quot;rMATS result after batch corre…</td></tr><tr><td>&quot;Fastq file metadata specified …</td></tr><tr><td>&hellip;</td></tr><tr><td>&quot;This alignment file does not i…</td></tr><tr><td>&quot;Fastq file metadata specified …</td></tr><tr><td>&quot;Confirmed by submitter that EN…</td></tr><tr><td>&quot;This file was previously assoc…</td></tr><tr><td>&quot;File content md5sum conflicts …</td></tr></tbody></table></div>"
      ],
      "text/plain": [
       "shape: (77, 1)\n",
       "┌─────────────────────────────────┐\n",
       "│ submitter_comment               │\n",
       "│ ---                             │\n",
       "│ str                             │\n",
       "╞═════════════════════════════════╡\n",
       "│ This file is a replacement sub… │\n",
       "│ This file was originally assoc… │\n",
       "│ File was intially associated w… │\n",
       "│ rMATS result after batch corre… │\n",
       "│ Fastq file metadata specified … │\n",
       "│ …                               │\n",
       "│ This alignment file does not i… │\n",
       "│ Fastq file metadata specified … │\n",
       "│ Confirmed by submitter that EN… │\n",
       "│ This file was previously assoc… │\n",
       "│ File content md5sum conflicts … │\n",
       "└─────────────────────────────────┘"
      ]
     },
     "metadata": {},
     "output_type": "display_data"
    },
    {
     "data": {
      "text/html": [
       "<div><style>\n",
       ".dataframe > thead > tr,\n",
       ".dataframe > tbody > tr {\n",
       "  text-align: right;\n",
       "  white-space: pre-wrap;\n",
       "}\n",
       "</style>\n",
       "<small>shape: (2, 1)</small><table border=\"1\" class=\"dataframe\"><thead><tr><th>status</th></tr><tr><td>str</td></tr></thead><tbody><tr><td>&quot;released&quot;</td></tr><tr><td>&quot;archived&quot;</td></tr></tbody></table></div>"
      ],
      "text/plain": [
       "shape: (2, 1)\n",
       "┌──────────┐\n",
       "│ status   │\n",
       "│ ---      │\n",
       "│ str      │\n",
       "╞══════════╡\n",
       "│ released │\n",
       "│ archived │\n",
       "└──────────┘"
      ]
     },
     "metadata": {},
     "output_type": "display_data"
    },
    {
     "data": {
      "text/html": [
       "<div><style>\n",
       ".dataframe > thead > tr,\n",
       ".dataframe > tbody > tr {\n",
       "  text-align: right;\n",
       "  white-space: pre-wrap;\n",
       "}\n",
       "</style>\n",
       "<small>shape: (1, 1)</small><table border=\"1\" class=\"dataframe\"><thead><tr><th>annotation_type</th></tr><tr><td>str</td></tr></thead><tbody><tr><td>&quot;NA&quot;</td></tr></tbody></table></div>"
      ],
      "text/plain": [
       "shape: (1, 1)\n",
       "┌─────────────────┐\n",
       "│ annotation_type │\n",
       "│ ---             │\n",
       "│ str             │\n",
       "╞═════════════════╡\n",
       "│ NA              │\n",
       "└─────────────────┘"
      ]
     },
     "metadata": {},
     "output_type": "display_data"
    },
    {
     "data": {
      "text/html": [
       "<div><style>\n",
       ".dataframe > thead > tr,\n",
       ".dataframe > tbody > tr {\n",
       "  text-align: right;\n",
       "  white-space: pre-wrap;\n",
       "}\n",
       "</style>\n",
       "<small>shape: (1, 1)</small><table border=\"1\" class=\"dataframe\"><thead><tr><th>annotation_subtype</th></tr><tr><td>str</td></tr></thead><tbody><tr><td>&quot;NA&quot;</td></tr></tbody></table></div>"
      ],
      "text/plain": [
       "shape: (1, 1)\n",
       "┌────────────────────┐\n",
       "│ annotation_subtype │\n",
       "│ ---                │\n",
       "│ str                │\n",
       "╞════════════════════╡\n",
       "│ NA                 │\n",
       "└────────────────────┘"
      ]
     },
     "metadata": {},
     "output_type": "display_data"
    },
    {
     "data": {
      "text/html": [
       "<div><style>\n",
       ".dataframe > thead > tr,\n",
       ".dataframe > tbody > tr {\n",
       "  text-align: right;\n",
       "  white-space: pre-wrap;\n",
       "}\n",
       "</style>\n",
       "<small>shape: (1, 1)</small><table border=\"1\" class=\"dataframe\"><thead><tr><th>biochemical_inputs</th></tr><tr><td>str</td></tr></thead><tbody><tr><td>&quot;NA&quot;</td></tr></tbody></table></div>"
      ],
      "text/plain": [
       "shape: (1, 1)\n",
       "┌────────────────────┐\n",
       "│ biochemical_inputs │\n",
       "│ ---                │\n",
       "│ str                │\n",
       "╞════════════════════╡\n",
       "│ NA                 │\n",
       "└────────────────────┘"
      ]
     },
     "metadata": {},
     "output_type": "display_data"
    },
    {
     "data": {
      "text/html": [
       "<div><style>\n",
       ".dataframe > thead > tr,\n",
       ".dataframe > tbody > tr {\n",
       "  text-align: right;\n",
       "  white-space: pre-wrap;\n",
       "}\n",
       "</style>\n",
       "<small>shape: (1, 1)</small><table border=\"1\" class=\"dataframe\"><thead><tr><th>encyclopedia_version</th></tr><tr><td>str</td></tr></thead><tbody><tr><td>&quot;NA&quot;</td></tr></tbody></table></div>"
      ],
      "text/plain": [
       "shape: (1, 1)\n",
       "┌──────────────────────┐\n",
       "│ encyclopedia_version │\n",
       "│ ---                  │\n",
       "│ str                  │\n",
       "╞══════════════════════╡\n",
       "│ NA                   │\n",
       "└──────────────────────┘"
      ]
     },
     "metadata": {},
     "output_type": "display_data"
    }
   ],
   "source": [
    "encode = pl.read_parquet('../encode_files.parquet')\n",
    "display(encode)\n",
    "# print(encode.select(\"biological_replicates\"))\n",
    "# display(encode)\n",
    "for column in encode.iter_columns():\n",
    "    display(encode.select(column).unique())\n",
    "    \n",
    "print(encode.select(\"output_type\").unique().to_list())\n"
   ]
  },
  {
   "cell_type": "code",
   "execution_count": 28,
   "metadata": {},
   "outputs": [
    {
     "name": "stdout",
     "output_type": "stream",
     "text": [
      "['normalized signal of all reads', 'gene alignments', 'microRNA quantifications', 'intensity values', 'control normalized signal', 'base overlap signal', 'redacted unfiltered alignments', 'transcript quantifications', 'rejected reads', 'DHS peaks', 'percentage normalized signal', 'subreads', 'transcription segment quantifications', 'plus strand signal', 'raw signal', 'signal of unique reads', 'filtered transcribed fragments', 'filtered reads', 'raw imaging signal', 'exon quantifications', 'clusters', 'chromatin stripes', 'peaks and background as input for IDR', 'reporter code counts', 'contact domains', 'transcriptome alignments', 'unfiltered modified peptide quantification', 'contact matrix', 'polyA sites', 'nested contact domains', 'minus strand signal of all reads', 'idat red channel', 'plus strand signal of all reads', 'pairs', 'genome subcompartments', 'replicated peaks', 'methylation state at CHG', 'predicted transcription start sites', 'IDR thresholded peaks', 'IDR ranked peaks', 'splice junctions', 'haplotype-specific nuclease cleavage frequency', 'transcription start sites', 'contigs', 'gene quantifications', 'RNA-binding protein associated mRNAs', 'minus strand methylation state at CpG', 'unfiltered sparse gene count matrix of all reads', 'minus strand signal of unique reads', 'filtered modified peptide quantification', 'library fraction', 'index reads', 'conservative IDR thresholded peaks', 'pseudoreplicated peaks', 'copy number variation', 'minus strand signal', 'differential splicing quantifications', 'preprocessed alignments', 'optimal IDR thresholded peaks', 'read-depth normalized signal', 'sparse gene count matrix of unique reads', 'redacted alignments', 'unfiltered sparse splice junction count matrix of unique reads', 'variant calls', 'peaks', 'unfiltered sparse gene count matrix of unique reads', 'haplotype-specific nuclease cleavage corrected frequency', 'sequence barcodes', 'filtered regions', 'archr project', 'differential expression quantifications', 'redacted transcriptome alignments', 'plus strand methylation state at CpG', 'fragments', 'genome compartments', 'sparse gene count matrix of all reads', 'UV enriched segment quantifications', 'read annotations', 'filtered SNPs', 'sparse transcript count matrix', 'footprints', 'signal of all reads', 'nuclease cleavage frequency', 'open chromatin regions', 'FDR cut rate', 'enrichment', 'idat green channel', 'alignments', 'filtered indels', 'nanopore signal', 'haplotype-specific contact matrix', 'bidirectional peaks', 'CpG sites coverage', 'unfiltered alignments', 'transcribed region quantifications', 'loops', 'reads', 'signal', 'fold change over control', 'cell coordinates', 'hotspots', 'unfiltered peptide quantification', 'sparse peak count matrix', 'phased variant calls', 'merged transcription segment quantifications', 'methylation state at CpG', 'signal p-value', 'filtered peaks', 'wavelet-smoothed signal', 'R2C2 subreads', 'methylation state at CHH', 'pseudoreplicated IDR thresholded peaks', 'unidirectional peaks', 'filtered peptide quantification', 'validation', 'mapping quality thresholded contact matrix', 'transcribed fragments', 'transcriptome annotations', 'replication timing profile', 'sparse gene count matrix', 'plus strand signal of unique reads']\n"
     ]
    }
   ],
   "source": [
    "print(encode.select(\"output_type\").unique().to_series().to_list())"
   ]
  },
  {
   "cell_type": "code",
   "execution_count": null,
   "metadata": {},
   "outputs": [],
   "source": []
  }
 ],
 "metadata": {
  "kernelspec": {
   "display_name": ".venv",
   "language": "python",
   "name": "python3"
  },
  "language_info": {
   "codemirror_mode": {
    "name": "ipython",
    "version": 3
   },
   "file_extension": ".py",
   "mimetype": "text/x-python",
   "name": "python",
   "nbconvert_exporter": "python",
   "pygments_lexer": "ipython3",
   "version": "3.10.12"
  }
 },
 "nbformat": 4,
 "nbformat_minor": 2
}
