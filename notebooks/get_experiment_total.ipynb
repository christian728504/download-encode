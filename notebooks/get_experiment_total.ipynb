{
 "cells": [
  {
   "cell_type": "code",
   "execution_count": null,
   "metadata": {},
   "outputs": [],
   "source": [
    "import requests\n",
    "import polars as pl\n",
    "import json\n",
    "from box import Box\n",
    "from IPython.display import display"
   ]
  },
  {
   "cell_type": "code",
   "execution_count": null,
   "metadata": {},
   "outputs": [],
   "source": [
    "def get_size_of_encode():\n",
    "    # url = 'https://www.encodeproject.org/search/?type=Experiment&format=json&limit=all'\n",
    "    url = 'https://www.encodeproject.org/search/?type=Experiment&assay_title=total+RNA-seq&assay_title=long+read+RNA-seq&assay_title=RAMPAGE&assay_title=CAGE&assay_title=BruChase-seq&assay_title=PRO-cap&assay_title=BruUV-seq&assay_title=Bru-seq&biosample_ontology.term_name=K562&replicates.library.biosample.donor.organism.scientific_name=Homo+sapiens&assembly=GRCh38&status=released&limit=all&format=json'\n",
    "    headers = {'accept': 'application/json'}\n",
    "    \n",
    "    response = requests.get(url, headers=headers)\n",
    "    data = response.json()\n",
    "    experiment_graph = data.get('@graph', [])\n",
    "    number_of_experiments = len(experiment_graph)\n",
    "    number_of_files = 0\n",
    "    \n",
    "    for experiment in experiment_graph:\n",
    "        experiment_files = experiment.get('files', [])\n",
    "        experiment_file_count = len(experiment_files)\n",
    "        number_of_files += experiment_file_count\n",
    "    \n",
    "    return number_of_experiments, number_of_files"
   ]
  },
  {
   "cell_type": "code",
   "execution_count": null,
   "metadata": {},
   "outputs": [],
   "source": [
    "number_of_experiments, number_of_files = get_size_of_encode()\n",
    "print(f\"Total number of experiments on ENCODE: {number_of_experiments}\")\n",
    "print(f\"Total number of files ENCODE: {number_of_files}\")"
   ]
  },
  {
   "cell_type": "code",
   "execution_count": null,
   "metadata": {},
   "outputs": [],
   "source": [
    "# Working !\n",
    "\n",
    "def all_files_to_static_json():\n",
    "    url = 'https://www.encodeproject.org/files/?format=json&limit=all'\n",
    "    headers = {'accept': 'application/json'}\n",
    "    response = requests.get(url, headers=headers)\n",
    "    data = response.json()\n",
    "    file_graph = data.get('@graph', [])\n",
    "    with open('encode.json', 'w') as f:\n",
    "        json.dump(file_graph, f, indent=4)\n",
    "        \n",
    "    print('File graph saved to encode.json')"
   ]
  },
  {
   "cell_type": "code",
   "execution_count": null,
   "metadata": {},
   "outputs": [],
   "source": [
    "all_files_to_static_json()"
   ]
  },
  {
   "cell_type": "code",
   "execution_count": null,
   "metadata": {},
   "outputs": [],
   "source": [
    "def all_experiments_to_static_json():\n",
    "    url = 'https://www.encodeproject.org/experiments/?format=json&limit=all'\n",
    "    headers = {'accept': 'application/json'}\n",
    "    response = requests.get(url, headers=headers)\n",
    "    data = response.json()\n",
    "    file_graph = data.get('@graph', [])\n",
    "    with open('encode_experiments.json', 'w') as f:\n",
    "        json.dump(file_graph, f, indent=4)\n",
    "        \n",
    "    print('File graph saved to encode_experiments.json')"
   ]
  },
  {
   "cell_type": "code",
   "execution_count": null,
   "metadata": {},
   "outputs": [],
   "source": [
    "all_experiments_to_static_json()"
   ]
  },
  {
   "cell_type": "code",
   "execution_count": null,
   "metadata": {},
   "outputs": [],
   "source": [
    "# Explode encode_experiments.json by files to get mapping of assay title to current json\n",
    "## Files is a dictionary of file ids to file accessions only want the values and then convert explode by list of values"
   ]
  },
  {
   "cell_type": "code",
   "execution_count": null,
   "metadata": {},
   "outputs": [],
   "source": [
    "import json\n",
    "import polars as pl\n",
    "\n",
    "with open('../encode_experiments.json') as f:\n",
    "    data = json.load(f)\n",
    "\n",
    "processed_data = []\n",
    "for item in data:\n",
    "    processed_item = {}\n",
    "    for key, value in item.items():\n",
    "        if isinstance(value, (dict, list, tuple, set)):\n",
    "            processed_item[key] = json.dumps(value)\n",
    "        else:\n",
    "            processed_item[key] = value\n",
    "    processed_data.append(processed_item)\n",
    "    \n",
    "pl.json_normalize(processed_data, max_level=0, strict=False).write_parquet('../encode_experiments.parquet')"
   ]
  },
  {
   "cell_type": "code",
   "execution_count": null,
   "metadata": {},
   "outputs": [],
   "source": [
    "encode_experiments = pl.read_parquet(\"../encode_experiments.parquet\")\n",
    "display(encode_experiments)"
   ]
  },
  {
   "cell_type": "code",
   "execution_count": 37,
   "metadata": {},
   "outputs": [
    {
     "data": {
      "text/html": [
       "<div><style>\n",
       ".dataframe > thead > tr,\n",
       ".dataframe > tbody > tr {\n",
       "  text-align: right;\n",
       "  white-space: pre-wrap;\n",
       "}\n",
       "</style>\n",
       "<small>shape: (762_820, 5)</small><table border=\"1\" class=\"dataframe\"><thead><tr><th>@id</th><th>assay_title</th><th>biosample_summary</th><th>dbxrefs</th><th>description</th></tr><tr><td>str</td><td>str</td><td>str</td><td>str</td><td>str</td></tr></thead><tbody><tr><td>&quot;/files/ENCFF210GNK/&quot;</td><td>&quot;intact Hi-C&quot;</td><td>&quot;Homo sapiens left colon tissue…</td><td>&quot;[&quot;GEO:GSE238046&quot;]&quot;</td><td>&quot;w72 left colon intact dnase hi…</td></tr><tr><td>&quot;/files/ENCFF819BWS/&quot;</td><td>&quot;intact Hi-C&quot;</td><td>&quot;Homo sapiens left colon tissue…</td><td>&quot;[&quot;GEO:GSE238046&quot;]&quot;</td><td>&quot;w72 left colon intact dnase hi…</td></tr><tr><td>&quot;/files/ENCFF112DDP/&quot;</td><td>&quot;intact Hi-C&quot;</td><td>&quot;Homo sapiens left colon tissue…</td><td>&quot;[&quot;GEO:GSE238046&quot;]&quot;</td><td>&quot;w72 left colon intact dnase hi…</td></tr><tr><td>&quot;/files/ENCFF268TQA/&quot;</td><td>&quot;intact Hi-C&quot;</td><td>&quot;Homo sapiens left colon tissue…</td><td>&quot;[&quot;GEO:GSE238046&quot;]&quot;</td><td>&quot;w72 left colon intact dnase hi…</td></tr><tr><td>&quot;/files/ENCFF312BUG/&quot;</td><td>&quot;intact Hi-C&quot;</td><td>&quot;Homo sapiens left colon tissue…</td><td>&quot;[&quot;GEO:GSE238046&quot;]&quot;</td><td>&quot;w72 left colon intact dnase hi…</td></tr><tr><td>&hellip;</td><td>&hellip;</td><td>&hellip;</td><td>&hellip;</td><td>&hellip;</td></tr><tr><td>&quot;/files/ENCFF536RFU/&quot;</td><td>&quot;DNase-seq&quot;</td><td>&quot;Homo sapiens GM23338 originate…</td><td>&quot;[&quot;SCREEN-GRCh38:GM23338_male_a…</td><td>&quot;&quot;</td></tr><tr><td>&quot;/files/ENCFF823RDH/&quot;</td><td>&quot;DNase-seq&quot;</td><td>&quot;Homo sapiens GM23338 originate…</td><td>&quot;[&quot;SCREEN-GRCh38:GM23338_male_a…</td><td>&quot;&quot;</td></tr><tr><td>&quot;/files/ENCFF766CUM/&quot;</td><td>&quot;DNase-seq&quot;</td><td>&quot;Homo sapiens GM23338 originate…</td><td>&quot;[&quot;SCREEN-GRCh38:GM23338_male_a…</td><td>&quot;&quot;</td></tr><tr><td>&quot;/files/ENCFF553JGR/&quot;</td><td>&quot;DNase-seq&quot;</td><td>&quot;Homo sapiens GM23338 originate…</td><td>&quot;[&quot;SCREEN-GRCh38:GM23338_male_a…</td><td>&quot;&quot;</td></tr><tr><td>&quot;/files/ENCFF412GWE/&quot;</td><td>&quot;DNase-seq&quot;</td><td>&quot;Homo sapiens GM23338 originate…</td><td>&quot;[&quot;SCREEN-GRCh38:GM23338_male_a…</td><td>&quot;&quot;</td></tr></tbody></table></div>"
      ],
      "text/plain": [
       "shape: (762_820, 5)\n",
       "┌─────────────────────┬─────────────┬────────────────────┬────────────────────┬────────────────────┐\n",
       "│ @id                 ┆ assay_title ┆ biosample_summary  ┆ dbxrefs            ┆ description        │\n",
       "│ ---                 ┆ ---         ┆ ---                ┆ ---                ┆ ---                │\n",
       "│ str                 ┆ str         ┆ str                ┆ str                ┆ str                │\n",
       "╞═════════════════════╪═════════════╪════════════════════╪════════════════════╪════════════════════╡\n",
       "│ /files/ENCFF210GNK/ ┆ intact Hi-C ┆ Homo sapiens left  ┆ [\"GEO:GSE238046\"]  ┆ w72 left colon     │\n",
       "│                     ┆             ┆ colon tissue…      ┆                    ┆ intact dnase hi…   │\n",
       "│ /files/ENCFF819BWS/ ┆ intact Hi-C ┆ Homo sapiens left  ┆ [\"GEO:GSE238046\"]  ┆ w72 left colon     │\n",
       "│                     ┆             ┆ colon tissue…      ┆                    ┆ intact dnase hi…   │\n",
       "│ /files/ENCFF112DDP/ ┆ intact Hi-C ┆ Homo sapiens left  ┆ [\"GEO:GSE238046\"]  ┆ w72 left colon     │\n",
       "│                     ┆             ┆ colon tissue…      ┆                    ┆ intact dnase hi…   │\n",
       "│ /files/ENCFF268TQA/ ┆ intact Hi-C ┆ Homo sapiens left  ┆ [\"GEO:GSE238046\"]  ┆ w72 left colon     │\n",
       "│                     ┆             ┆ colon tissue…      ┆                    ┆ intact dnase hi…   │\n",
       "│ /files/ENCFF312BUG/ ┆ intact Hi-C ┆ Homo sapiens left  ┆ [\"GEO:GSE238046\"]  ┆ w72 left colon     │\n",
       "│                     ┆             ┆ colon tissue…      ┆                    ┆ intact dnase hi…   │\n",
       "│ …                   ┆ …           ┆ …                  ┆ …                  ┆ …                  │\n",
       "│ /files/ENCFF536RFU/ ┆ DNase-seq   ┆ Homo sapiens       ┆ [\"SCREEN-GRCh38:GM ┆                    │\n",
       "│                     ┆             ┆ GM23338 originate… ┆ 23338_male_a…      ┆                    │\n",
       "│ /files/ENCFF823RDH/ ┆ DNase-seq   ┆ Homo sapiens       ┆ [\"SCREEN-GRCh38:GM ┆                    │\n",
       "│                     ┆             ┆ GM23338 originate… ┆ 23338_male_a…      ┆                    │\n",
       "│ /files/ENCFF766CUM/ ┆ DNase-seq   ┆ Homo sapiens       ┆ [\"SCREEN-GRCh38:GM ┆                    │\n",
       "│                     ┆             ┆ GM23338 originate… ┆ 23338_male_a…      ┆                    │\n",
       "│ /files/ENCFF553JGR/ ┆ DNase-seq   ┆ Homo sapiens       ┆ [\"SCREEN-GRCh38:GM ┆                    │\n",
       "│                     ┆             ┆ GM23338 originate… ┆ 23338_male_a…      ┆                    │\n",
       "│ /files/ENCFF412GWE/ ┆ DNase-seq   ┆ Homo sapiens       ┆ [\"SCREEN-GRCh38:GM ┆                    │\n",
       "│                     ┆             ┆ GM23338 originate… ┆ 23338_male_a…      ┆                    │\n",
       "└─────────────────────┴─────────────┴────────────────────┴────────────────────┴────────────────────┘"
      ]
     },
     "metadata": {},
     "output_type": "display_data"
    }
   ],
   "source": [
    "files_col_to_list = encode_experiments.with_columns(pl.col(\"files\").str.json_decode())\n",
    "files_col_exploded = files_col_to_list.explode(\"files\")\n",
    "unpacked_files = files_col_exploded.with_columns(pl.col(\"files\").struct.field(\"*\").alias(\"@id\"))\n",
    "unpacked_files_shortened = unpacked_files.select(\"@id\", \"assay_title\", \"biosample_summary\", \"dbxrefs\", \"description\")\n",
    "display(unpacked_files_shortened)"
   ]
  },
  {
   "cell_type": "code",
   "execution_count": 38,
   "metadata": {},
   "outputs": [
    {
     "data": {
      "text/html": [
       "<div><style>\n",
       ".dataframe > thead > tr,\n",
       ".dataframe > tbody > tr {\n",
       "  text-align: right;\n",
       "  white-space: pre-wrap;\n",
       "}\n",
       "</style>\n",
       "<small>shape: (1_480_482, 40)</small><table border=\"1\" class=\"dataframe\"><thead><tr><th>@id</th><th>@type</th><th>accession</th><th>assay_term_name</th><th>audit</th><th>award</th><th>biological_replicates</th><th>biosample_ontology</th><th>dataset</th><th>date_created</th><th>file_format</th><th>file_size</th><th>file_type</th><th>href</th><th>index_of</th><th>lab</th><th>output_category</th><th>output_type</th><th>quality_metrics</th><th>read_length</th><th>read_length_units</th><th>replicate</th><th>run_type</th><th>simple_biosample_summary</th><th>status</th><th>technical_replicates</th><th>title</th><th>analysis_step_version</th><th>assembly</th><th>derived_from</th><th>file_format_type</th><th>genome_annotation</th><th>step_run</th><th>origin_batches</th><th>paired_end</th><th>paired_with</th><th>target</th><th>mapped_read_length</th><th>mapped_run_type</th><th>preferred_default</th></tr><tr><td>str</td><td>str</td><td>str</td><td>str</td><td>str</td><td>str</td><td>str</td><td>str</td><td>str</td><td>str</td><td>str</td><td>i64</td><td>str</td><td>str</td><td>str</td><td>str</td><td>str</td><td>str</td><td>str</td><td>i64</td><td>str</td><td>str</td><td>str</td><td>str</td><td>str</td><td>str</td><td>str</td><td>str</td><td>str</td><td>str</td><td>str</td><td>str</td><td>str</td><td>str</td><td>str</td><td>str</td><td>str</td><td>i64</td><td>str</td><td>bool</td></tr></thead><tbody><tr><td>&quot;/files/ENCFF622ZWY/&quot;</td><td>&quot;[&quot;File&quot;, &quot;Item&quot;]&quot;</td><td>&quot;ENCFF622ZWY&quot;</td><td>&quot;single-cell RNA sequencing ass…</td><td>&quot;{&quot;INTERNAL_ACTION&quot;: [{&quot;path&quot;: …</td><td>&quot;{&quot;project&quot;: &quot;ENCODE&quot;}&quot;</td><td>&quot;[91]&quot;</td><td>&quot;{&quot;organ_slims&quot;: [&quot;musculature …</td><td>&quot;/experiments/ENCSR667UMR/&quot;</td><td>&quot;2022-01-28T22:18:02.027723+00:…</td><td>&quot;fastq&quot;</td><td>372815521</td><td>&quot;fastq&quot;</td><td>&quot;/files/ENCFF622ZWY/@@download/…</td><td>&quot;[&quot;/files/ENCFF402HCO/&quot;]&quot;</td><td>&quot;{&quot;title&quot;: &quot;Ali Mortazavi, UCI&quot;…</td><td>&quot;raw data&quot;</td><td>&quot;index reads&quot;</td><td>&quot;[]&quot;</td><td>86</td><td>&quot;nt&quot;</td><td>&quot;{&quot;library&quot;: {&quot;accession&quot;: &quot;ENC…</td><td>&quot;single-ended&quot;</td><td>&quot;male postnatal (10 days) strai…</td><td>&quot;revoked&quot;</td><td>&quot;[&quot;91_1&quot;]&quot;</td><td>&quot;ENCFF622ZWY&quot;</td><td>null</td><td>null</td><td>null</td><td>null</td><td>null</td><td>null</td><td>null</td><td>null</td><td>null</td><td>null</td><td>null</td><td>null</td><td>null</td></tr><tr><td>&quot;/files/ENCFF540BYK/&quot;</td><td>&quot;[&quot;File&quot;, &quot;Item&quot;]&quot;</td><td>&quot;ENCFF540BYK&quot;</td><td>&quot;PAS-seq&quot;</td><td>&quot;{&quot;INTERNAL_ACTION&quot;: [{&quot;path&quot;: …</td><td>&quot;{&quot;project&quot;: &quot;ENCODE&quot;}&quot;</td><td>&quot;[1]&quot;</td><td>&quot;{&quot;organ_slims&quot;: [&quot;brain&quot;], &quot;te…</td><td>&quot;/experiments/ENCSR432LIX/&quot;</td><td>&quot;2022-01-28T21:16:14.084277+00:…</td><td>&quot;bed&quot;</td><td>862868</td><td>&quot;bed bed3+&quot;</td><td>&quot;/files/ENCFF540BYK/@@download/…</td><td>null</td><td>&quot;{&quot;title&quot;: &quot;Ali Mortazavi, UCI&quot;…</td><td>&quot;annotation&quot;</td><td>&quot;polyA sites&quot;</td><td>&quot;[]&quot;</td><td>null</td><td>null</td><td>&quot;{&quot;library&quot;: {&quot;accession&quot;: &quot;ENC…</td><td>null</td><td>&quot;adult (6 months) strain B6NCrl…</td><td>&quot;released&quot;</td><td>&quot;[&quot;1_1&quot;]&quot;</td><td>&quot;ENCFF540BYK&quot;</td><td>&quot;{&quot;schema_version&quot;: &quot;4&quot;, &quot;alias…</td><td>&quot;mm10&quot;</td><td>&quot;[&quot;/files/ENCFF222ZEY/&quot;, &quot;/file…</td><td>&quot;bed3+&quot;</td><td>&quot;M21&quot;</td><td>&quot;{&quot;schema_version&quot;: &quot;5&quot;, &quot;alias…</td><td>null</td><td>null</td><td>null</td><td>null</td><td>null</td><td>null</td><td>null</td></tr><tr><td>&quot;/files/ENCFF419EOR/&quot;</td><td>&quot;[&quot;File&quot;, &quot;Item&quot;]&quot;</td><td>&quot;ENCFF419EOR&quot;</td><td>&quot;DNase-seq&quot;</td><td>null</td><td>&quot;{&quot;project&quot;: &quot;ENCODE&quot;}&quot;</td><td>&quot;[2]&quot;</td><td>&quot;{&quot;organ_slims&quot;: [&quot;kidney&quot;], &quot;t…</td><td>&quot;/experiments/ENCSR788KLG/&quot;</td><td>&quot;2022-02-09T07:23:59.093431+00:…</td><td>&quot;bed&quot;</td><td>773284</td><td>&quot;bed narrowPeak&quot;</td><td>&quot;/files/ENCFF419EOR/@@download/…</td><td>null</td><td>&quot;{&quot;title&quot;: &quot;ENCODE Processing P…</td><td>&quot;annotation&quot;</td><td>&quot;peaks&quot;</td><td>&quot;[{&quot;tenth_of_one_percent_narrow…</td><td>null</td><td>null</td><td>null</td><td>null</td><td>&quot;female postnatal (36 days) str…</td><td>&quot;released&quot;</td><td>&quot;[&quot;2_1&quot;]&quot;</td><td>&quot;ENCFF419EOR&quot;</td><td>&quot;{&quot;schema_version&quot;: &quot;4&quot;, &quot;alias…</td><td>&quot;mm10&quot;</td><td>&quot;[&quot;/files/ENCFF843RGJ/&quot;, &quot;/file…</td><td>&quot;narrowPeak&quot;</td><td>null</td><td>&quot;{&quot;schema_version&quot;: &quot;5&quot;, &quot;award…</td><td>null</td><td>null</td><td>null</td><td>null</td><td>null</td><td>null</td><td>null</td></tr><tr><td>&quot;/files/ENCFF717ZXC/&quot;</td><td>&quot;[&quot;File&quot;, &quot;Item&quot;]&quot;</td><td>&quot;ENCFF717ZXC&quot;</td><td>&quot;Mint-ChIP-seq&quot;</td><td>&quot;{&quot;INTERNAL_ACTION&quot;: [{&quot;path&quot;: …</td><td>&quot;{&quot;project&quot;: &quot;ENCODE&quot;}&quot;</td><td>&quot;[1]&quot;</td><td>&quot;{&quot;organ_slims&quot;: [&quot;intestine&quot;, …</td><td>&quot;/experiments/ENCSR787WSK/&quot;</td><td>&quot;2022-02-10T21:33:07.978207+00:…</td><td>&quot;fastq&quot;</td><td>130776257</td><td>&quot;fastq&quot;</td><td>&quot;/files/ENCFF717ZXC/@@download/…</td><td>null</td><td>&quot;{&quot;title&quot;: &quot;Bradley Bernstein, …</td><td>&quot;raw data&quot;</td><td>&quot;reads&quot;</td><td>&quot;[]&quot;</td><td>58</td><td>&quot;nt&quot;</td><td>&quot;{&quot;library&quot;: {&quot;accession&quot;: &quot;ENC…</td><td>&quot;paired-ended&quot;</td><td>&quot;genetically modified (insertio…</td><td>&quot;released&quot;</td><td>&quot;[&quot;1_1&quot;]&quot;</td><td>&quot;ENCFF717ZXC&quot;</td><td>null</td><td>null</td><td>null</td><td>null</td><td>null</td><td>null</td><td>&quot;[&quot;/biosamples/ENCBS842OLG/&quot;]&quot;</td><td>&quot;2&quot;</td><td>&quot;/files/ENCFF812OOD/&quot;</td><td>&quot;{&quot;label&quot;: &quot;H3K4me3&quot;}&quot;</td><td>null</td><td>null</td><td>null</td></tr><tr><td>&quot;/files/ENCFF600XFR/&quot;</td><td>&quot;[&quot;File&quot;, &quot;Item&quot;]&quot;</td><td>&quot;ENCFF600XFR&quot;</td><td>&quot;Mint-ChIP-seq&quot;</td><td>&quot;{&quot;INTERNAL_ACTION&quot;: [{&quot;path&quot;: …</td><td>&quot;{&quot;project&quot;: &quot;ENCODE&quot;}&quot;</td><td>&quot;[1]&quot;</td><td>&quot;{&quot;organ_slims&quot;: [&quot;intestine&quot;, …</td><td>&quot;/experiments/ENCSR848XKY/&quot;</td><td>&quot;2022-02-10T22:04:26.201539+00:…</td><td>&quot;fastq&quot;</td><td>193816284</td><td>&quot;fastq&quot;</td><td>&quot;/files/ENCFF600XFR/@@download/…</td><td>null</td><td>&quot;{&quot;title&quot;: &quot;Bradley Bernstein, …</td><td>&quot;raw data&quot;</td><td>&quot;reads&quot;</td><td>&quot;[]&quot;</td><td>76</td><td>&quot;nt&quot;</td><td>&quot;{&quot;library&quot;: {&quot;accession&quot;: &quot;ENC…</td><td>&quot;paired-ended&quot;</td><td>&quot;genetically modified (insertio…</td><td>&quot;released&quot;</td><td>&quot;[&quot;1_1&quot;]&quot;</td><td>&quot;ENCFF600XFR&quot;</td><td>null</td><td>null</td><td>null</td><td>null</td><td>null</td><td>null</td><td>&quot;[&quot;/biosamples/ENCBS177ZJV/&quot;]&quot;</td><td>&quot;1&quot;</td><td>&quot;/files/ENCFF354OUK/&quot;</td><td>null</td><td>null</td><td>null</td><td>null</td></tr><tr><td>&hellip;</td><td>&hellip;</td><td>&hellip;</td><td>&hellip;</td><td>&hellip;</td><td>&hellip;</td><td>&hellip;</td><td>&hellip;</td><td>&hellip;</td><td>&hellip;</td><td>&hellip;</td><td>&hellip;</td><td>&hellip;</td><td>&hellip;</td><td>&hellip;</td><td>&hellip;</td><td>&hellip;</td><td>&hellip;</td><td>&hellip;</td><td>&hellip;</td><td>&hellip;</td><td>&hellip;</td><td>&hellip;</td><td>&hellip;</td><td>&hellip;</td><td>&hellip;</td><td>&hellip;</td><td>&hellip;</td><td>&hellip;</td><td>&hellip;</td><td>&hellip;</td><td>&hellip;</td><td>&hellip;</td><td>&hellip;</td><td>&hellip;</td><td>&hellip;</td><td>&hellip;</td><td>&hellip;</td><td>&hellip;</td><td>&hellip;</td></tr><tr><td>&quot;/files/ENCFF762LDF/&quot;</td><td>&quot;[&quot;File&quot;, &quot;Item&quot;]&quot;</td><td>&quot;ENCFF762LDF&quot;</td><td>&quot;ChIP-seq&quot;</td><td>&quot;{&quot;INTERNAL_ACTION&quot;: [{&quot;path&quot;: …</td><td>&quot;{&quot;project&quot;: &quot;ENCODE&quot;}&quot;</td><td>&quot;[2]&quot;</td><td>&quot;{&quot;organ_slims&quot;: [&quot;epithelium&quot;,…</td><td>&quot;/experiments/ENCSR000AHD/&quot;</td><td>&quot;2016-11-15T02:20:06.874942+00:…</td><td>&quot;bed&quot;</td><td>4135581</td><td>&quot;bed narrowPeak&quot;</td><td>&quot;/files/ENCFF762LDF/@@download/…</td><td>null</td><td>&quot;{&quot;title&quot;: &quot;ENCODE Processing P…</td><td>&quot;annotation&quot;</td><td>&quot;peaks and background as input …</td><td>&quot;[]&quot;</td><td>null</td><td>null</td><td>null</td><td>null</td><td>&quot;&quot;</td><td>&quot;released&quot;</td><td>&quot;[&quot;2_1&quot;]&quot;</td><td>&quot;ENCFF762LDF&quot;</td><td>&quot;{&quot;schema_version&quot;: &quot;4&quot;, &quot;alias…</td><td>&quot;hg19&quot;</td><td>&quot;[&quot;/files/ENCFF335UKS/&quot;, &quot;/file…</td><td>&quot;narrowPeak&quot;</td><td>null</td><td>&quot;{&quot;schema_version&quot;: &quot;5&quot;, &quot;alias…</td><td>&quot;[&quot;/biosamples/ENCBS001AAA/&quot;]&quot;</td><td>null</td><td>null</td><td>&quot;{&quot;label&quot;: &quot;CTCF&quot;}&quot;</td><td>null</td><td>null</td><td>null</td></tr><tr><td>&quot;/files/ENCFF181YWG/&quot;</td><td>&quot;[&quot;File&quot;, &quot;Item&quot;]&quot;</td><td>&quot;ENCFF181YWG&quot;</td><td>&quot;ChIP-seq&quot;</td><td>&quot;{&quot;INTERNAL_ACTION&quot;: [{&quot;path&quot;: …</td><td>&quot;{&quot;project&quot;: &quot;ENCODE&quot;}&quot;</td><td>&quot;[1, 2]&quot;</td><td>&quot;{&quot;organ_slims&quot;: [&quot;epithelium&quot;,…</td><td>&quot;/experiments/ENCSR000AHD/&quot;</td><td>&quot;2016-11-15T02:20:40.615250+00:…</td><td>&quot;bigBed&quot;</td><td>1562444</td><td>&quot;bigBed narrowPeak&quot;</td><td>&quot;/files/ENCFF181YWG/@@download/…</td><td>null</td><td>&quot;{&quot;title&quot;: &quot;ENCODE Processing P…</td><td>&quot;annotation&quot;</td><td>&quot;conservative IDR thresholded p…</td><td>&quot;[{&quot;aliases&quot;: [], &quot;frip&quot;: 0.152…</td><td>null</td><td>null</td><td>null</td><td>null</td><td>&quot;&quot;</td><td>&quot;released&quot;</td><td>&quot;[&quot;1_1&quot;, &quot;2_1&quot;]&quot;</td><td>&quot;ENCFF181YWG&quot;</td><td>&quot;{&quot;schema_version&quot;: &quot;4&quot;, &quot;alias…</td><td>&quot;hg19&quot;</td><td>&quot;[&quot;/files/ENCFF444IOW/&quot;]&quot;</td><td>&quot;narrowPeak&quot;</td><td>null</td><td>&quot;{&quot;schema_version&quot;: &quot;5&quot;, &quot;alias…</td><td>&quot;[&quot;/biosamples/ENCBS001AAA/&quot;, &quot;…</td><td>null</td><td>null</td><td>&quot;{&quot;label&quot;: &quot;CTCF&quot;}&quot;</td><td>null</td><td>null</td><td>null</td></tr><tr><td>&quot;/files/ENCFF091FJE/&quot;</td><td>&quot;[&quot;File&quot;, &quot;Item&quot;]&quot;</td><td>&quot;ENCFF091FJE&quot;</td><td>&quot;ChIP-seq&quot;</td><td>null</td><td>&quot;{&quot;project&quot;: &quot;ENCODE&quot;}&quot;</td><td>&quot;[1]&quot;</td><td>&quot;{&quot;organ_slims&quot;: [&quot;epithelium&quot;,…</td><td>&quot;/experiments/ENCSR000AHD/&quot;</td><td>&quot;2016-05-05T16:55:07.767550+00:…</td><td>&quot;bam&quot;</td><td>1275941691</td><td>&quot;bam&quot;</td><td>&quot;/files/ENCFF091FJE/@@download/…</td><td>null</td><td>&quot;{&quot;title&quot;: &quot;ENCODE Processing P…</td><td>&quot;alignment&quot;</td><td>&quot;alignments&quot;</td><td>&quot;[{&quot;duplicates&quot;: 0, &quot;aliases&quot;: …</td><td>null</td><td>&quot;nt&quot;</td><td>null</td><td>null</td><td>&quot;&quot;</td><td>&quot;revoked&quot;</td><td>&quot;[&quot;1_1&quot;]&quot;</td><td>&quot;ENCFF091FJE&quot;</td><td>&quot;{&quot;schema_version&quot;: &quot;4&quot;, &quot;alias…</td><td>&quot;GRCh38&quot;</td><td>&quot;[&quot;/files/ENCFF643CGH/&quot;, &quot;/file…</td><td>null</td><td>null</td><td>&quot;{&quot;schema_version&quot;: &quot;5&quot;, &quot;alias…</td><td>&quot;[&quot;/biosamples/ENCBS000AAA/&quot;]&quot;</td><td>null</td><td>null</td><td>&quot;{&quot;label&quot;: &quot;CTCF&quot;}&quot;</td><td>50</td><td>&quot;single-ended&quot;</td><td>null</td></tr><tr><td>&quot;/files/ENCFF572VGJ/&quot;</td><td>&quot;[&quot;File&quot;, &quot;Item&quot;]&quot;</td><td>&quot;ENCFF572VGJ&quot;</td><td>&quot;ChIP-seq&quot;</td><td>&quot;{&quot;INTERNAL_ACTION&quot;: [{&quot;path&quot;: …</td><td>&quot;{&quot;project&quot;: &quot;ENCODE&quot;}&quot;</td><td>&quot;[2]&quot;</td><td>&quot;{&quot;organ_slims&quot;: [&quot;epithelium&quot;,…</td><td>&quot;/experiments/ENCSR000AHD/&quot;</td><td>&quot;2020-09-26T08:07:07.130225+00:…</td><td>&quot;bam&quot;</td><td>1290288337</td><td>&quot;bam&quot;</td><td>&quot;/files/ENCFF572VGJ/@@download/…</td><td>null</td><td>&quot;{&quot;title&quot;: &quot;ENCODE Processing P…</td><td>&quot;alignment&quot;</td><td>&quot;unfiltered alignments&quot;</td><td>&quot;[{&quot;duplicate_reads&quot;: 0, &quot;diff_…</td><td>null</td><td>&quot;nt&quot;</td><td>null</td><td>null</td><td>&quot;&quot;</td><td>&quot;released&quot;</td><td>&quot;[&quot;2_1&quot;]&quot;</td><td>&quot;ENCFF572VGJ&quot;</td><td>&quot;{&quot;schema_version&quot;: &quot;4&quot;, &quot;alias…</td><td>&quot;GRCh38&quot;</td><td>&quot;[&quot;/files/ENCFF110MCL/&quot;, &quot;/file…</td><td>null</td><td>null</td><td>&quot;{&quot;schema_version&quot;: &quot;5&quot;, &quot;alias…</td><td>&quot;[&quot;/biosamples/ENCBS001AAA/&quot;]&quot;</td><td>null</td><td>null</td><td>&quot;{&quot;label&quot;: &quot;CTCF&quot;}&quot;</td><td>50</td><td>&quot;single-ended&quot;</td><td>null</td></tr><tr><td>&quot;/files/ENCFF000QLT/&quot;</td><td>&quot;[&quot;File&quot;, &quot;Item&quot;]&quot;</td><td>&quot;ENCFF000QLT&quot;</td><td>&quot;ChIP-seq&quot;</td><td>&quot;{&quot;INTERNAL_ACTION&quot;: [{&quot;path&quot;: …</td><td>&quot;{&quot;project&quot;: &quot;ENCODE&quot;}&quot;</td><td>&quot;[2]&quot;</td><td>&quot;{&quot;organ_slims&quot;: [&quot;epithelium&quot;,…</td><td>&quot;/experiments/ENCSR000AHD/&quot;</td><td>&quot;2012-01-23T00:00:00.000000+00:…</td><td>&quot;fastq&quot;</td><td>1324143320</td><td>&quot;fastq&quot;</td><td>&quot;/files/ENCFF000QLT/@@download/…</td><td>null</td><td>&quot;{&quot;title&quot;: &quot;Richard Myers, HAIB…</td><td>&quot;raw data&quot;</td><td>&quot;reads&quot;</td><td>&quot;[]&quot;</td><td>50</td><td>&quot;nt&quot;</td><td>&quot;{&quot;library&quot;: {&quot;accession&quot;: &quot;ENC…</td><td>&quot;single-ended&quot;</td><td>&quot;&quot;</td><td>&quot;released&quot;</td><td>&quot;[&quot;2_1&quot;]&quot;</td><td>&quot;ENCFF000QLT&quot;</td><td>null</td><td>null</td><td>null</td><td>null</td><td>null</td><td>null</td><td>&quot;[&quot;/biosamples/ENCBS001AAA/&quot;]&quot;</td><td>null</td><td>null</td><td>&quot;{&quot;label&quot;: &quot;CTCF&quot;}&quot;</td><td>null</td><td>null</td><td>null</td></tr></tbody></table></div>"
      ],
      "text/plain": [
       "shape: (1_480_482, 40)\n",
       "┌───────────┬───────────┬───────────┬───────────┬───┬───────────┬───────────┬───────────┬──────────┐\n",
       "│ @id       ┆ @type     ┆ accession ┆ assay_ter ┆ … ┆ target    ┆ mapped_re ┆ mapped_ru ┆ preferre │\n",
       "│ ---       ┆ ---       ┆ ---       ┆ m_name    ┆   ┆ ---       ┆ ad_length ┆ n_type    ┆ d_defaul │\n",
       "│ str       ┆ str       ┆ str       ┆ ---       ┆   ┆ str       ┆ ---       ┆ ---       ┆ t        │\n",
       "│           ┆           ┆           ┆ str       ┆   ┆           ┆ i64       ┆ str       ┆ ---      │\n",
       "│           ┆           ┆           ┆           ┆   ┆           ┆           ┆           ┆ bool     │\n",
       "╞═══════════╪═══════════╪═══════════╪═══════════╪═══╪═══════════╪═══════════╪═══════════╪══════════╡\n",
       "│ /files/EN ┆ [\"File\",  ┆ ENCFF622Z ┆ single-ce ┆ … ┆ null      ┆ null      ┆ null      ┆ null     │\n",
       "│ CFF622ZWY ┆ \"Item\"]   ┆ WY        ┆ ll RNA    ┆   ┆           ┆           ┆           ┆          │\n",
       "│ /         ┆           ┆           ┆ sequencin ┆   ┆           ┆           ┆           ┆          │\n",
       "│           ┆           ┆           ┆ g ass…    ┆   ┆           ┆           ┆           ┆          │\n",
       "│ /files/EN ┆ [\"File\",  ┆ ENCFF540B ┆ PAS-seq   ┆ … ┆ null      ┆ null      ┆ null      ┆ null     │\n",
       "│ CFF540BYK ┆ \"Item\"]   ┆ YK        ┆           ┆   ┆           ┆           ┆           ┆          │\n",
       "│ /         ┆           ┆           ┆           ┆   ┆           ┆           ┆           ┆          │\n",
       "│ /files/EN ┆ [\"File\",  ┆ ENCFF419E ┆ DNase-seq ┆ … ┆ null      ┆ null      ┆ null      ┆ null     │\n",
       "│ CFF419EOR ┆ \"Item\"]   ┆ OR        ┆           ┆   ┆           ┆           ┆           ┆          │\n",
       "│ /         ┆           ┆           ┆           ┆   ┆           ┆           ┆           ┆          │\n",
       "│ /files/EN ┆ [\"File\",  ┆ ENCFF717Z ┆ Mint-ChIP ┆ … ┆ {\"label\": ┆ null      ┆ null      ┆ null     │\n",
       "│ CFF717ZXC ┆ \"Item\"]   ┆ XC        ┆ -seq      ┆   ┆ \"H3K4me3\" ┆           ┆           ┆          │\n",
       "│ /         ┆           ┆           ┆           ┆   ┆ }         ┆           ┆           ┆          │\n",
       "│ /files/EN ┆ [\"File\",  ┆ ENCFF600X ┆ Mint-ChIP ┆ … ┆ null      ┆ null      ┆ null      ┆ null     │\n",
       "│ CFF600XFR ┆ \"Item\"]   ┆ FR        ┆ -seq      ┆   ┆           ┆           ┆           ┆          │\n",
       "│ /         ┆           ┆           ┆           ┆   ┆           ┆           ┆           ┆          │\n",
       "│ …         ┆ …         ┆ …         ┆ …         ┆ … ┆ …         ┆ …         ┆ …         ┆ …        │\n",
       "│ /files/EN ┆ [\"File\",  ┆ ENCFF762L ┆ ChIP-seq  ┆ … ┆ {\"label\": ┆ null      ┆ null      ┆ null     │\n",
       "│ CFF762LDF ┆ \"Item\"]   ┆ DF        ┆           ┆   ┆ \"CTCF\"}   ┆           ┆           ┆          │\n",
       "│ /         ┆           ┆           ┆           ┆   ┆           ┆           ┆           ┆          │\n",
       "│ /files/EN ┆ [\"File\",  ┆ ENCFF181Y ┆ ChIP-seq  ┆ … ┆ {\"label\": ┆ null      ┆ null      ┆ null     │\n",
       "│ CFF181YWG ┆ \"Item\"]   ┆ WG        ┆           ┆   ┆ \"CTCF\"}   ┆           ┆           ┆          │\n",
       "│ /         ┆           ┆           ┆           ┆   ┆           ┆           ┆           ┆          │\n",
       "│ /files/EN ┆ [\"File\",  ┆ ENCFF091F ┆ ChIP-seq  ┆ … ┆ {\"label\": ┆ 50        ┆ single-en ┆ null     │\n",
       "│ CFF091FJE ┆ \"Item\"]   ┆ JE        ┆           ┆   ┆ \"CTCF\"}   ┆           ┆ ded       ┆          │\n",
       "│ /         ┆           ┆           ┆           ┆   ┆           ┆           ┆           ┆          │\n",
       "│ /files/EN ┆ [\"File\",  ┆ ENCFF572V ┆ ChIP-seq  ┆ … ┆ {\"label\": ┆ 50        ┆ single-en ┆ null     │\n",
       "│ CFF572VGJ ┆ \"Item\"]   ┆ GJ        ┆           ┆   ┆ \"CTCF\"}   ┆           ┆ ded       ┆          │\n",
       "│ /         ┆           ┆           ┆           ┆   ┆           ┆           ┆           ┆          │\n",
       "│ /files/EN ┆ [\"File\",  ┆ ENCFF000Q ┆ ChIP-seq  ┆ … ┆ {\"label\": ┆ null      ┆ null      ┆ null     │\n",
       "│ CFF000QLT ┆ \"Item\"]   ┆ LT        ┆           ┆   ┆ \"CTCF\"}   ┆           ┆           ┆          │\n",
       "│ /         ┆           ┆           ┆           ┆   ┆           ┆           ┆           ┆          │\n",
       "└───────────┴───────────┴───────────┴───────────┴───┴───────────┴───────────┴───────────┴──────────┘"
      ]
     },
     "metadata": {},
     "output_type": "display_data"
    }
   ],
   "source": [
    "encode = pl.read_parquet(\"../encode.parquet\")\n",
    "display(encode)"
   ]
  },
  {
   "cell_type": "code",
   "execution_count": 39,
   "metadata": {},
   "outputs": [
    {
     "data": {
      "text/html": [
       "<div><style>\n",
       ".dataframe > thead > tr,\n",
       ".dataframe > tbody > tr {\n",
       "  text-align: right;\n",
       "  white-space: pre-wrap;\n",
       "}\n",
       "</style>\n",
       "<small>shape: (798_992, 40)</small><table border=\"1\" class=\"dataframe\"><thead><tr><th>@id</th><th>@type</th><th>accession</th><th>assay_term_name</th><th>audit</th><th>award</th><th>biological_replicates</th><th>biosample_ontology</th><th>dataset</th><th>date_created</th><th>file_format</th><th>file_size</th><th>file_type</th><th>href</th><th>index_of</th><th>lab</th><th>output_category</th><th>output_type</th><th>quality_metrics</th><th>read_length</th><th>read_length_units</th><th>replicate</th><th>run_type</th><th>simple_biosample_summary</th><th>status</th><th>technical_replicates</th><th>title</th><th>analysis_step_version</th><th>assembly</th><th>derived_from</th><th>file_format_type</th><th>genome_annotation</th><th>step_run</th><th>origin_batches</th><th>paired_end</th><th>paired_with</th><th>target</th><th>mapped_read_length</th><th>mapped_run_type</th><th>preferred_default</th></tr><tr><td>str</td><td>str</td><td>str</td><td>str</td><td>str</td><td>str</td><td>str</td><td>str</td><td>str</td><td>str</td><td>str</td><td>i64</td><td>str</td><td>str</td><td>str</td><td>str</td><td>str</td><td>str</td><td>str</td><td>i64</td><td>str</td><td>str</td><td>str</td><td>str</td><td>str</td><td>str</td><td>str</td><td>str</td><td>str</td><td>str</td><td>str</td><td>str</td><td>str</td><td>str</td><td>str</td><td>str</td><td>str</td><td>i64</td><td>str</td><td>bool</td></tr></thead><tbody><tr><td>&quot;/files/ENCFF622ZWY/&quot;</td><td>&quot;[&quot;File&quot;, &quot;Item&quot;]&quot;</td><td>&quot;ENCFF622ZWY&quot;</td><td>&quot;single-cell RNA sequencing ass…</td><td>&quot;{&quot;INTERNAL_ACTION&quot;: [{&quot;path&quot;: …</td><td>&quot;{&quot;project&quot;: &quot;ENCODE&quot;}&quot;</td><td>&quot;[91]&quot;</td><td>&quot;{&quot;organ_slims&quot;: [&quot;musculature …</td><td>&quot;/experiments/ENCSR667UMR/&quot;</td><td>&quot;2022-01-28T22:18:02.027723+00:…</td><td>&quot;fastq&quot;</td><td>372815521</td><td>&quot;fastq&quot;</td><td>&quot;/files/ENCFF622ZWY/@@download/…</td><td>&quot;[&quot;/files/ENCFF402HCO/&quot;]&quot;</td><td>&quot;{&quot;title&quot;: &quot;Ali Mortazavi, UCI&quot;…</td><td>&quot;raw data&quot;</td><td>&quot;index reads&quot;</td><td>&quot;[]&quot;</td><td>86</td><td>&quot;nt&quot;</td><td>&quot;{&quot;library&quot;: {&quot;accession&quot;: &quot;ENC…</td><td>&quot;single-ended&quot;</td><td>&quot;male postnatal (10 days) strai…</td><td>&quot;revoked&quot;</td><td>&quot;[&quot;91_1&quot;]&quot;</td><td>&quot;ENCFF622ZWY&quot;</td><td>null</td><td>null</td><td>null</td><td>null</td><td>null</td><td>null</td><td>null</td><td>null</td><td>null</td><td>null</td><td>null</td><td>null</td><td>null</td></tr><tr><td>&quot;/files/ENCFF540BYK/&quot;</td><td>&quot;[&quot;File&quot;, &quot;Item&quot;]&quot;</td><td>&quot;ENCFF540BYK&quot;</td><td>&quot;PAS-seq&quot;</td><td>&quot;{&quot;INTERNAL_ACTION&quot;: [{&quot;path&quot;: …</td><td>&quot;{&quot;project&quot;: &quot;ENCODE&quot;}&quot;</td><td>&quot;[1]&quot;</td><td>&quot;{&quot;organ_slims&quot;: [&quot;brain&quot;], &quot;te…</td><td>&quot;/experiments/ENCSR432LIX/&quot;</td><td>&quot;2022-01-28T21:16:14.084277+00:…</td><td>&quot;bed&quot;</td><td>862868</td><td>&quot;bed bed3+&quot;</td><td>&quot;/files/ENCFF540BYK/@@download/…</td><td>null</td><td>&quot;{&quot;title&quot;: &quot;Ali Mortazavi, UCI&quot;…</td><td>&quot;annotation&quot;</td><td>&quot;polyA sites&quot;</td><td>&quot;[]&quot;</td><td>null</td><td>null</td><td>&quot;{&quot;library&quot;: {&quot;accession&quot;: &quot;ENC…</td><td>null</td><td>&quot;adult (6 months) strain B6NCrl…</td><td>&quot;released&quot;</td><td>&quot;[&quot;1_1&quot;]&quot;</td><td>&quot;ENCFF540BYK&quot;</td><td>&quot;{&quot;schema_version&quot;: &quot;4&quot;, &quot;alias…</td><td>&quot;mm10&quot;</td><td>&quot;[&quot;/files/ENCFF222ZEY/&quot;, &quot;/file…</td><td>&quot;bed3+&quot;</td><td>&quot;M21&quot;</td><td>&quot;{&quot;schema_version&quot;: &quot;5&quot;, &quot;alias…</td><td>null</td><td>null</td><td>null</td><td>null</td><td>null</td><td>null</td><td>null</td></tr><tr><td>&quot;/files/ENCFF419EOR/&quot;</td><td>&quot;[&quot;File&quot;, &quot;Item&quot;]&quot;</td><td>&quot;ENCFF419EOR&quot;</td><td>&quot;DNase-seq&quot;</td><td>null</td><td>&quot;{&quot;project&quot;: &quot;ENCODE&quot;}&quot;</td><td>&quot;[2]&quot;</td><td>&quot;{&quot;organ_slims&quot;: [&quot;kidney&quot;], &quot;t…</td><td>&quot;/experiments/ENCSR788KLG/&quot;</td><td>&quot;2022-02-09T07:23:59.093431+00:…</td><td>&quot;bed&quot;</td><td>773284</td><td>&quot;bed narrowPeak&quot;</td><td>&quot;/files/ENCFF419EOR/@@download/…</td><td>null</td><td>&quot;{&quot;title&quot;: &quot;ENCODE Processing P…</td><td>&quot;annotation&quot;</td><td>&quot;peaks&quot;</td><td>&quot;[{&quot;tenth_of_one_percent_narrow…</td><td>null</td><td>null</td><td>null</td><td>null</td><td>&quot;female postnatal (36 days) str…</td><td>&quot;released&quot;</td><td>&quot;[&quot;2_1&quot;]&quot;</td><td>&quot;ENCFF419EOR&quot;</td><td>&quot;{&quot;schema_version&quot;: &quot;4&quot;, &quot;alias…</td><td>&quot;mm10&quot;</td><td>&quot;[&quot;/files/ENCFF843RGJ/&quot;, &quot;/file…</td><td>&quot;narrowPeak&quot;</td><td>null</td><td>&quot;{&quot;schema_version&quot;: &quot;5&quot;, &quot;award…</td><td>null</td><td>null</td><td>null</td><td>null</td><td>null</td><td>null</td><td>null</td></tr><tr><td>&quot;/files/ENCFF717ZXC/&quot;</td><td>&quot;[&quot;File&quot;, &quot;Item&quot;]&quot;</td><td>&quot;ENCFF717ZXC&quot;</td><td>&quot;Mint-ChIP-seq&quot;</td><td>&quot;{&quot;INTERNAL_ACTION&quot;: [{&quot;path&quot;: …</td><td>&quot;{&quot;project&quot;: &quot;ENCODE&quot;}&quot;</td><td>&quot;[1]&quot;</td><td>&quot;{&quot;organ_slims&quot;: [&quot;intestine&quot;, …</td><td>&quot;/experiments/ENCSR787WSK/&quot;</td><td>&quot;2022-02-10T21:33:07.978207+00:…</td><td>&quot;fastq&quot;</td><td>130776257</td><td>&quot;fastq&quot;</td><td>&quot;/files/ENCFF717ZXC/@@download/…</td><td>null</td><td>&quot;{&quot;title&quot;: &quot;Bradley Bernstein, …</td><td>&quot;raw data&quot;</td><td>&quot;reads&quot;</td><td>&quot;[]&quot;</td><td>58</td><td>&quot;nt&quot;</td><td>&quot;{&quot;library&quot;: {&quot;accession&quot;: &quot;ENC…</td><td>&quot;paired-ended&quot;</td><td>&quot;genetically modified (insertio…</td><td>&quot;released&quot;</td><td>&quot;[&quot;1_1&quot;]&quot;</td><td>&quot;ENCFF717ZXC&quot;</td><td>null</td><td>null</td><td>null</td><td>null</td><td>null</td><td>null</td><td>&quot;[&quot;/biosamples/ENCBS842OLG/&quot;]&quot;</td><td>&quot;2&quot;</td><td>&quot;/files/ENCFF812OOD/&quot;</td><td>&quot;{&quot;label&quot;: &quot;H3K4me3&quot;}&quot;</td><td>null</td><td>null</td><td>null</td></tr><tr><td>&quot;/files/ENCFF600XFR/&quot;</td><td>&quot;[&quot;File&quot;, &quot;Item&quot;]&quot;</td><td>&quot;ENCFF600XFR&quot;</td><td>&quot;Mint-ChIP-seq&quot;</td><td>&quot;{&quot;INTERNAL_ACTION&quot;: [{&quot;path&quot;: …</td><td>&quot;{&quot;project&quot;: &quot;ENCODE&quot;}&quot;</td><td>&quot;[1]&quot;</td><td>&quot;{&quot;organ_slims&quot;: [&quot;intestine&quot;, …</td><td>&quot;/experiments/ENCSR848XKY/&quot;</td><td>&quot;2022-02-10T22:04:26.201539+00:…</td><td>&quot;fastq&quot;</td><td>193816284</td><td>&quot;fastq&quot;</td><td>&quot;/files/ENCFF600XFR/@@download/…</td><td>null</td><td>&quot;{&quot;title&quot;: &quot;Bradley Bernstein, …</td><td>&quot;raw data&quot;</td><td>&quot;reads&quot;</td><td>&quot;[]&quot;</td><td>76</td><td>&quot;nt&quot;</td><td>&quot;{&quot;library&quot;: {&quot;accession&quot;: &quot;ENC…</td><td>&quot;paired-ended&quot;</td><td>&quot;genetically modified (insertio…</td><td>&quot;released&quot;</td><td>&quot;[&quot;1_1&quot;]&quot;</td><td>&quot;ENCFF600XFR&quot;</td><td>null</td><td>null</td><td>null</td><td>null</td><td>null</td><td>null</td><td>&quot;[&quot;/biosamples/ENCBS177ZJV/&quot;]&quot;</td><td>&quot;1&quot;</td><td>&quot;/files/ENCFF354OUK/&quot;</td><td>null</td><td>null</td><td>null</td><td>null</td></tr><tr><td>&hellip;</td><td>&hellip;</td><td>&hellip;</td><td>&hellip;</td><td>&hellip;</td><td>&hellip;</td><td>&hellip;</td><td>&hellip;</td><td>&hellip;</td><td>&hellip;</td><td>&hellip;</td><td>&hellip;</td><td>&hellip;</td><td>&hellip;</td><td>&hellip;</td><td>&hellip;</td><td>&hellip;</td><td>&hellip;</td><td>&hellip;</td><td>&hellip;</td><td>&hellip;</td><td>&hellip;</td><td>&hellip;</td><td>&hellip;</td><td>&hellip;</td><td>&hellip;</td><td>&hellip;</td><td>&hellip;</td><td>&hellip;</td><td>&hellip;</td><td>&hellip;</td><td>&hellip;</td><td>&hellip;</td><td>&hellip;</td><td>&hellip;</td><td>&hellip;</td><td>&hellip;</td><td>&hellip;</td><td>&hellip;</td><td>&hellip;</td></tr><tr><td>&quot;/files/ENCFF762LDF/&quot;</td><td>&quot;[&quot;File&quot;, &quot;Item&quot;]&quot;</td><td>&quot;ENCFF762LDF&quot;</td><td>&quot;ChIP-seq&quot;</td><td>&quot;{&quot;INTERNAL_ACTION&quot;: [{&quot;path&quot;: …</td><td>&quot;{&quot;project&quot;: &quot;ENCODE&quot;}&quot;</td><td>&quot;[2]&quot;</td><td>&quot;{&quot;organ_slims&quot;: [&quot;epithelium&quot;,…</td><td>&quot;/experiments/ENCSR000AHD/&quot;</td><td>&quot;2016-11-15T02:20:06.874942+00:…</td><td>&quot;bed&quot;</td><td>4135581</td><td>&quot;bed narrowPeak&quot;</td><td>&quot;/files/ENCFF762LDF/@@download/…</td><td>null</td><td>&quot;{&quot;title&quot;: &quot;ENCODE Processing P…</td><td>&quot;annotation&quot;</td><td>&quot;peaks and background as input …</td><td>&quot;[]&quot;</td><td>null</td><td>null</td><td>null</td><td>null</td><td>&quot;&quot;</td><td>&quot;released&quot;</td><td>&quot;[&quot;2_1&quot;]&quot;</td><td>&quot;ENCFF762LDF&quot;</td><td>&quot;{&quot;schema_version&quot;: &quot;4&quot;, &quot;alias…</td><td>&quot;hg19&quot;</td><td>&quot;[&quot;/files/ENCFF335UKS/&quot;, &quot;/file…</td><td>&quot;narrowPeak&quot;</td><td>null</td><td>&quot;{&quot;schema_version&quot;: &quot;5&quot;, &quot;alias…</td><td>&quot;[&quot;/biosamples/ENCBS001AAA/&quot;]&quot;</td><td>null</td><td>null</td><td>&quot;{&quot;label&quot;: &quot;CTCF&quot;}&quot;</td><td>null</td><td>null</td><td>null</td></tr><tr><td>&quot;/files/ENCFF181YWG/&quot;</td><td>&quot;[&quot;File&quot;, &quot;Item&quot;]&quot;</td><td>&quot;ENCFF181YWG&quot;</td><td>&quot;ChIP-seq&quot;</td><td>&quot;{&quot;INTERNAL_ACTION&quot;: [{&quot;path&quot;: …</td><td>&quot;{&quot;project&quot;: &quot;ENCODE&quot;}&quot;</td><td>&quot;[1, 2]&quot;</td><td>&quot;{&quot;organ_slims&quot;: [&quot;epithelium&quot;,…</td><td>&quot;/experiments/ENCSR000AHD/&quot;</td><td>&quot;2016-11-15T02:20:40.615250+00:…</td><td>&quot;bigBed&quot;</td><td>1562444</td><td>&quot;bigBed narrowPeak&quot;</td><td>&quot;/files/ENCFF181YWG/@@download/…</td><td>null</td><td>&quot;{&quot;title&quot;: &quot;ENCODE Processing P…</td><td>&quot;annotation&quot;</td><td>&quot;conservative IDR thresholded p…</td><td>&quot;[{&quot;aliases&quot;: [], &quot;frip&quot;: 0.152…</td><td>null</td><td>null</td><td>null</td><td>null</td><td>&quot;&quot;</td><td>&quot;released&quot;</td><td>&quot;[&quot;1_1&quot;, &quot;2_1&quot;]&quot;</td><td>&quot;ENCFF181YWG&quot;</td><td>&quot;{&quot;schema_version&quot;: &quot;4&quot;, &quot;alias…</td><td>&quot;hg19&quot;</td><td>&quot;[&quot;/files/ENCFF444IOW/&quot;]&quot;</td><td>&quot;narrowPeak&quot;</td><td>null</td><td>&quot;{&quot;schema_version&quot;: &quot;5&quot;, &quot;alias…</td><td>&quot;[&quot;/biosamples/ENCBS001AAA/&quot;, &quot;…</td><td>null</td><td>null</td><td>&quot;{&quot;label&quot;: &quot;CTCF&quot;}&quot;</td><td>null</td><td>null</td><td>null</td></tr><tr><td>&quot;/files/ENCFF091FJE/&quot;</td><td>&quot;[&quot;File&quot;, &quot;Item&quot;]&quot;</td><td>&quot;ENCFF091FJE&quot;</td><td>&quot;ChIP-seq&quot;</td><td>null</td><td>&quot;{&quot;project&quot;: &quot;ENCODE&quot;}&quot;</td><td>&quot;[1]&quot;</td><td>&quot;{&quot;organ_slims&quot;: [&quot;epithelium&quot;,…</td><td>&quot;/experiments/ENCSR000AHD/&quot;</td><td>&quot;2016-05-05T16:55:07.767550+00:…</td><td>&quot;bam&quot;</td><td>1275941691</td><td>&quot;bam&quot;</td><td>&quot;/files/ENCFF091FJE/@@download/…</td><td>null</td><td>&quot;{&quot;title&quot;: &quot;ENCODE Processing P…</td><td>&quot;alignment&quot;</td><td>&quot;alignments&quot;</td><td>&quot;[{&quot;duplicates&quot;: 0, &quot;aliases&quot;: …</td><td>null</td><td>&quot;nt&quot;</td><td>null</td><td>null</td><td>&quot;&quot;</td><td>&quot;revoked&quot;</td><td>&quot;[&quot;1_1&quot;]&quot;</td><td>&quot;ENCFF091FJE&quot;</td><td>&quot;{&quot;schema_version&quot;: &quot;4&quot;, &quot;alias…</td><td>&quot;GRCh38&quot;</td><td>&quot;[&quot;/files/ENCFF643CGH/&quot;, &quot;/file…</td><td>null</td><td>null</td><td>&quot;{&quot;schema_version&quot;: &quot;5&quot;, &quot;alias…</td><td>&quot;[&quot;/biosamples/ENCBS000AAA/&quot;]&quot;</td><td>null</td><td>null</td><td>&quot;{&quot;label&quot;: &quot;CTCF&quot;}&quot;</td><td>50</td><td>&quot;single-ended&quot;</td><td>null</td></tr><tr><td>&quot;/files/ENCFF572VGJ/&quot;</td><td>&quot;[&quot;File&quot;, &quot;Item&quot;]&quot;</td><td>&quot;ENCFF572VGJ&quot;</td><td>&quot;ChIP-seq&quot;</td><td>&quot;{&quot;INTERNAL_ACTION&quot;: [{&quot;path&quot;: …</td><td>&quot;{&quot;project&quot;: &quot;ENCODE&quot;}&quot;</td><td>&quot;[2]&quot;</td><td>&quot;{&quot;organ_slims&quot;: [&quot;epithelium&quot;,…</td><td>&quot;/experiments/ENCSR000AHD/&quot;</td><td>&quot;2020-09-26T08:07:07.130225+00:…</td><td>&quot;bam&quot;</td><td>1290288337</td><td>&quot;bam&quot;</td><td>&quot;/files/ENCFF572VGJ/@@download/…</td><td>null</td><td>&quot;{&quot;title&quot;: &quot;ENCODE Processing P…</td><td>&quot;alignment&quot;</td><td>&quot;unfiltered alignments&quot;</td><td>&quot;[{&quot;duplicate_reads&quot;: 0, &quot;diff_…</td><td>null</td><td>&quot;nt&quot;</td><td>null</td><td>null</td><td>&quot;&quot;</td><td>&quot;released&quot;</td><td>&quot;[&quot;2_1&quot;]&quot;</td><td>&quot;ENCFF572VGJ&quot;</td><td>&quot;{&quot;schema_version&quot;: &quot;4&quot;, &quot;alias…</td><td>&quot;GRCh38&quot;</td><td>&quot;[&quot;/files/ENCFF110MCL/&quot;, &quot;/file…</td><td>null</td><td>null</td><td>&quot;{&quot;schema_version&quot;: &quot;5&quot;, &quot;alias…</td><td>&quot;[&quot;/biosamples/ENCBS001AAA/&quot;]&quot;</td><td>null</td><td>null</td><td>&quot;{&quot;label&quot;: &quot;CTCF&quot;}&quot;</td><td>50</td><td>&quot;single-ended&quot;</td><td>null</td></tr><tr><td>&quot;/files/ENCFF000QLT/&quot;</td><td>&quot;[&quot;File&quot;, &quot;Item&quot;]&quot;</td><td>&quot;ENCFF000QLT&quot;</td><td>&quot;ChIP-seq&quot;</td><td>&quot;{&quot;INTERNAL_ACTION&quot;: [{&quot;path&quot;: …</td><td>&quot;{&quot;project&quot;: &quot;ENCODE&quot;}&quot;</td><td>&quot;[2]&quot;</td><td>&quot;{&quot;organ_slims&quot;: [&quot;epithelium&quot;,…</td><td>&quot;/experiments/ENCSR000AHD/&quot;</td><td>&quot;2012-01-23T00:00:00.000000+00:…</td><td>&quot;fastq&quot;</td><td>1324143320</td><td>&quot;fastq&quot;</td><td>&quot;/files/ENCFF000QLT/@@download/…</td><td>null</td><td>&quot;{&quot;title&quot;: &quot;Richard Myers, HAIB…</td><td>&quot;raw data&quot;</td><td>&quot;reads&quot;</td><td>&quot;[]&quot;</td><td>50</td><td>&quot;nt&quot;</td><td>&quot;{&quot;library&quot;: {&quot;accession&quot;: &quot;ENC…</td><td>&quot;single-ended&quot;</td><td>&quot;&quot;</td><td>&quot;released&quot;</td><td>&quot;[&quot;2_1&quot;]&quot;</td><td>&quot;ENCFF000QLT&quot;</td><td>null</td><td>null</td><td>null</td><td>null</td><td>null</td><td>null</td><td>&quot;[&quot;/biosamples/ENCBS001AAA/&quot;]&quot;</td><td>null</td><td>null</td><td>&quot;{&quot;label&quot;: &quot;CTCF&quot;}&quot;</td><td>null</td><td>null</td><td>null</td></tr></tbody></table></div>"
      ],
      "text/plain": [
       "shape: (798_992, 40)\n",
       "┌───────────┬───────────┬───────────┬───────────┬───┬───────────┬───────────┬───────────┬──────────┐\n",
       "│ @id       ┆ @type     ┆ accession ┆ assay_ter ┆ … ┆ target    ┆ mapped_re ┆ mapped_ru ┆ preferre │\n",
       "│ ---       ┆ ---       ┆ ---       ┆ m_name    ┆   ┆ ---       ┆ ad_length ┆ n_type    ┆ d_defaul │\n",
       "│ str       ┆ str       ┆ str       ┆ ---       ┆   ┆ str       ┆ ---       ┆ ---       ┆ t        │\n",
       "│           ┆           ┆           ┆ str       ┆   ┆           ┆ i64       ┆ str       ┆ ---      │\n",
       "│           ┆           ┆           ┆           ┆   ┆           ┆           ┆           ┆ bool     │\n",
       "╞═══════════╪═══════════╪═══════════╪═══════════╪═══╪═══════════╪═══════════╪═══════════╪══════════╡\n",
       "│ /files/EN ┆ [\"File\",  ┆ ENCFF622Z ┆ single-ce ┆ … ┆ null      ┆ null      ┆ null      ┆ null     │\n",
       "│ CFF622ZWY ┆ \"Item\"]   ┆ WY        ┆ ll RNA    ┆   ┆           ┆           ┆           ┆          │\n",
       "│ /         ┆           ┆           ┆ sequencin ┆   ┆           ┆           ┆           ┆          │\n",
       "│           ┆           ┆           ┆ g ass…    ┆   ┆           ┆           ┆           ┆          │\n",
       "│ /files/EN ┆ [\"File\",  ┆ ENCFF540B ┆ PAS-seq   ┆ … ┆ null      ┆ null      ┆ null      ┆ null     │\n",
       "│ CFF540BYK ┆ \"Item\"]   ┆ YK        ┆           ┆   ┆           ┆           ┆           ┆          │\n",
       "│ /         ┆           ┆           ┆           ┆   ┆           ┆           ┆           ┆          │\n",
       "│ /files/EN ┆ [\"File\",  ┆ ENCFF419E ┆ DNase-seq ┆ … ┆ null      ┆ null      ┆ null      ┆ null     │\n",
       "│ CFF419EOR ┆ \"Item\"]   ┆ OR        ┆           ┆   ┆           ┆           ┆           ┆          │\n",
       "│ /         ┆           ┆           ┆           ┆   ┆           ┆           ┆           ┆          │\n",
       "│ /files/EN ┆ [\"File\",  ┆ ENCFF717Z ┆ Mint-ChIP ┆ … ┆ {\"label\": ┆ null      ┆ null      ┆ null     │\n",
       "│ CFF717ZXC ┆ \"Item\"]   ┆ XC        ┆ -seq      ┆   ┆ \"H3K4me3\" ┆           ┆           ┆          │\n",
       "│ /         ┆           ┆           ┆           ┆   ┆ }         ┆           ┆           ┆          │\n",
       "│ /files/EN ┆ [\"File\",  ┆ ENCFF600X ┆ Mint-ChIP ┆ … ┆ null      ┆ null      ┆ null      ┆ null     │\n",
       "│ CFF600XFR ┆ \"Item\"]   ┆ FR        ┆ -seq      ┆   ┆           ┆           ┆           ┆          │\n",
       "│ /         ┆           ┆           ┆           ┆   ┆           ┆           ┆           ┆          │\n",
       "│ …         ┆ …         ┆ …         ┆ …         ┆ … ┆ …         ┆ …         ┆ …         ┆ …        │\n",
       "│ /files/EN ┆ [\"File\",  ┆ ENCFF762L ┆ ChIP-seq  ┆ … ┆ {\"label\": ┆ null      ┆ null      ┆ null     │\n",
       "│ CFF762LDF ┆ \"Item\"]   ┆ DF        ┆           ┆   ┆ \"CTCF\"}   ┆           ┆           ┆          │\n",
       "│ /         ┆           ┆           ┆           ┆   ┆           ┆           ┆           ┆          │\n",
       "│ /files/EN ┆ [\"File\",  ┆ ENCFF181Y ┆ ChIP-seq  ┆ … ┆ {\"label\": ┆ null      ┆ null      ┆ null     │\n",
       "│ CFF181YWG ┆ \"Item\"]   ┆ WG        ┆           ┆   ┆ \"CTCF\"}   ┆           ┆           ┆          │\n",
       "│ /         ┆           ┆           ┆           ┆   ┆           ┆           ┆           ┆          │\n",
       "│ /files/EN ┆ [\"File\",  ┆ ENCFF091F ┆ ChIP-seq  ┆ … ┆ {\"label\": ┆ 50        ┆ single-en ┆ null     │\n",
       "│ CFF091FJE ┆ \"Item\"]   ┆ JE        ┆           ┆   ┆ \"CTCF\"}   ┆           ┆ ded       ┆          │\n",
       "│ /         ┆           ┆           ┆           ┆   ┆           ┆           ┆           ┆          │\n",
       "│ /files/EN ┆ [\"File\",  ┆ ENCFF572V ┆ ChIP-seq  ┆ … ┆ {\"label\": ┆ 50        ┆ single-en ┆ null     │\n",
       "│ CFF572VGJ ┆ \"Item\"]   ┆ GJ        ┆           ┆   ┆ \"CTCF\"}   ┆           ┆ ded       ┆          │\n",
       "│ /         ┆           ┆           ┆           ┆   ┆           ┆           ┆           ┆          │\n",
       "│ /files/EN ┆ [\"File\",  ┆ ENCFF000Q ┆ ChIP-seq  ┆ … ┆ {\"label\": ┆ null      ┆ null      ┆ null     │\n",
       "│ CFF000QLT ┆ \"Item\"]   ┆ LT        ┆           ┆   ┆ \"CTCF\"}   ┆           ┆           ┆          │\n",
       "│ /         ┆           ┆           ┆           ┆   ┆           ┆           ┆           ┆          │\n",
       "└───────────┴───────────┴───────────┴───────────┴───┴───────────┴───────────┴───────────┴──────────┘"
      ]
     },
     "metadata": {},
     "output_type": "display_data"
    }
   ],
   "source": [
    "only_experiments = encode.filter(pl.col(\"dataset\").str.starts_with(\"/experiments/\").alias(\"files\"))\n",
    "display(only_experiments)"
   ]
  },
  {
   "cell_type": "code",
   "execution_count": 40,
   "metadata": {},
   "outputs": [
    {
     "data": {
      "text/html": [
       "<div><style>\n",
       ".dataframe > thead > tr,\n",
       ".dataframe > tbody > tr {\n",
       "  text-align: right;\n",
       "  white-space: pre-wrap;\n",
       "}\n",
       "</style>\n",
       "<small>shape: (762_008, 44)</small><table border=\"1\" class=\"dataframe\"><thead><tr><th>@id</th><th>@type</th><th>accession</th><th>assay_term_name</th><th>audit</th><th>award</th><th>biological_replicates</th><th>biosample_ontology</th><th>dataset</th><th>date_created</th><th>file_format</th><th>file_size</th><th>file_type</th><th>href</th><th>index_of</th><th>lab</th><th>output_category</th><th>output_type</th><th>quality_metrics</th><th>read_length</th><th>read_length_units</th><th>replicate</th><th>run_type</th><th>simple_biosample_summary</th><th>status</th><th>technical_replicates</th><th>title</th><th>analysis_step_version</th><th>assembly</th><th>derived_from</th><th>file_format_type</th><th>genome_annotation</th><th>step_run</th><th>origin_batches</th><th>paired_end</th><th>paired_with</th><th>target</th><th>mapped_read_length</th><th>mapped_run_type</th><th>preferred_default</th><th>assay_title</th><th>biosample_summary</th><th>dbxrefs</th><th>description</th></tr><tr><td>str</td><td>str</td><td>str</td><td>str</td><td>str</td><td>str</td><td>str</td><td>str</td><td>str</td><td>str</td><td>str</td><td>i64</td><td>str</td><td>str</td><td>str</td><td>str</td><td>str</td><td>str</td><td>str</td><td>i64</td><td>str</td><td>str</td><td>str</td><td>str</td><td>str</td><td>str</td><td>str</td><td>str</td><td>str</td><td>str</td><td>str</td><td>str</td><td>str</td><td>str</td><td>str</td><td>str</td><td>str</td><td>i64</td><td>str</td><td>bool</td><td>str</td><td>str</td><td>str</td><td>str</td></tr></thead><tbody><tr><td>&quot;/files/ENCFF540BYK/&quot;</td><td>&quot;[&quot;File&quot;, &quot;Item&quot;]&quot;</td><td>&quot;ENCFF540BYK&quot;</td><td>&quot;PAS-seq&quot;</td><td>&quot;{&quot;INTERNAL_ACTION&quot;: [{&quot;path&quot;: …</td><td>&quot;{&quot;project&quot;: &quot;ENCODE&quot;}&quot;</td><td>&quot;[1]&quot;</td><td>&quot;{&quot;organ_slims&quot;: [&quot;brain&quot;], &quot;te…</td><td>&quot;/experiments/ENCSR432LIX/&quot;</td><td>&quot;2022-01-28T21:16:14.084277+00:…</td><td>&quot;bed&quot;</td><td>862868</td><td>&quot;bed bed3+&quot;</td><td>&quot;/files/ENCFF540BYK/@@download/…</td><td>null</td><td>&quot;{&quot;title&quot;: &quot;Ali Mortazavi, UCI&quot;…</td><td>&quot;annotation&quot;</td><td>&quot;polyA sites&quot;</td><td>&quot;[]&quot;</td><td>null</td><td>null</td><td>&quot;{&quot;library&quot;: {&quot;accession&quot;: &quot;ENC…</td><td>null</td><td>&quot;adult (6 months) strain B6NCrl…</td><td>&quot;released&quot;</td><td>&quot;[&quot;1_1&quot;]&quot;</td><td>&quot;ENCFF540BYK&quot;</td><td>&quot;{&quot;schema_version&quot;: &quot;4&quot;, &quot;alias…</td><td>&quot;mm10&quot;</td><td>&quot;[&quot;/files/ENCFF222ZEY/&quot;, &quot;/file…</td><td>&quot;bed3+&quot;</td><td>&quot;M21&quot;</td><td>&quot;{&quot;schema_version&quot;: &quot;5&quot;, &quot;alias…</td><td>null</td><td>null</td><td>null</td><td>null</td><td>null</td><td>null</td><td>null</td><td>&quot;PAS-seq&quot;</td><td>&quot;Mus musculus strain B6NCrl lef…</td><td>&quot;[&quot;GEO:GSE219823&quot;]&quot;</td><td>&quot;Mouse cortex QuantSeq&quot;</td></tr><tr><td>&quot;/files/ENCFF419EOR/&quot;</td><td>&quot;[&quot;File&quot;, &quot;Item&quot;]&quot;</td><td>&quot;ENCFF419EOR&quot;</td><td>&quot;DNase-seq&quot;</td><td>null</td><td>&quot;{&quot;project&quot;: &quot;ENCODE&quot;}&quot;</td><td>&quot;[2]&quot;</td><td>&quot;{&quot;organ_slims&quot;: [&quot;kidney&quot;], &quot;t…</td><td>&quot;/experiments/ENCSR788KLG/&quot;</td><td>&quot;2022-02-09T07:23:59.093431+00:…</td><td>&quot;bed&quot;</td><td>773284</td><td>&quot;bed narrowPeak&quot;</td><td>&quot;/files/ENCFF419EOR/@@download/…</td><td>null</td><td>&quot;{&quot;title&quot;: &quot;ENCODE Processing P…</td><td>&quot;annotation&quot;</td><td>&quot;peaks&quot;</td><td>&quot;[{&quot;tenth_of_one_percent_narrow…</td><td>null</td><td>null</td><td>null</td><td>null</td><td>&quot;female postnatal (36 days) str…</td><td>&quot;released&quot;</td><td>&quot;[&quot;2_1&quot;]&quot;</td><td>&quot;ENCFF419EOR&quot;</td><td>&quot;{&quot;schema_version&quot;: &quot;4&quot;, &quot;alias…</td><td>&quot;mm10&quot;</td><td>&quot;[&quot;/files/ENCFF843RGJ/&quot;, &quot;/file…</td><td>&quot;narrowPeak&quot;</td><td>null</td><td>&quot;{&quot;schema_version&quot;: &quot;5&quot;, &quot;award…</td><td>null</td><td>null</td><td>null</td><td>null</td><td>null</td><td>null</td><td>null</td><td>&quot;DNase-seq&quot;</td><td>&quot;Mus musculus strain B6CASTF1/J…</td><td>&quot;[&quot;GEO:GSE215736&quot;]&quot;</td><td>null</td></tr><tr><td>&quot;/files/ENCFF717ZXC/&quot;</td><td>&quot;[&quot;File&quot;, &quot;Item&quot;]&quot;</td><td>&quot;ENCFF717ZXC&quot;</td><td>&quot;Mint-ChIP-seq&quot;</td><td>&quot;{&quot;INTERNAL_ACTION&quot;: [{&quot;path&quot;: …</td><td>&quot;{&quot;project&quot;: &quot;ENCODE&quot;}&quot;</td><td>&quot;[1]&quot;</td><td>&quot;{&quot;organ_slims&quot;: [&quot;intestine&quot;, …</td><td>&quot;/experiments/ENCSR787WSK/&quot;</td><td>&quot;2022-02-10T21:33:07.978207+00:…</td><td>&quot;fastq&quot;</td><td>130776257</td><td>&quot;fastq&quot;</td><td>&quot;/files/ENCFF717ZXC/@@download/…</td><td>null</td><td>&quot;{&quot;title&quot;: &quot;Bradley Bernstein, …</td><td>&quot;raw data&quot;</td><td>&quot;reads&quot;</td><td>&quot;[]&quot;</td><td>58</td><td>&quot;nt&quot;</td><td>&quot;{&quot;library&quot;: {&quot;accession&quot;: &quot;ENC…</td><td>&quot;paired-ended&quot;</td><td>&quot;genetically modified (insertio…</td><td>&quot;released&quot;</td><td>&quot;[&quot;1_1&quot;]&quot;</td><td>&quot;ENCFF717ZXC&quot;</td><td>null</td><td>null</td><td>null</td><td>null</td><td>null</td><td>null</td><td>&quot;[&quot;/biosamples/ENCBS842OLG/&quot;]&quot;</td><td>&quot;2&quot;</td><td>&quot;/files/ENCFF812OOD/&quot;</td><td>&quot;{&quot;label&quot;: &quot;H3K4me3&quot;}&quot;</td><td>null</td><td>null</td><td>null</td><td>&quot;Mint-ChIP-seq&quot;</td><td>&quot;Homo sapiens HCT116 geneticall…</td><td>&quot;[&quot;GEO:GSE209137&quot;]&quot;</td><td>null</td></tr><tr><td>&quot;/files/ENCFF600XFR/&quot;</td><td>&quot;[&quot;File&quot;, &quot;Item&quot;]&quot;</td><td>&quot;ENCFF600XFR&quot;</td><td>&quot;Mint-ChIP-seq&quot;</td><td>&quot;{&quot;INTERNAL_ACTION&quot;: [{&quot;path&quot;: …</td><td>&quot;{&quot;project&quot;: &quot;ENCODE&quot;}&quot;</td><td>&quot;[1]&quot;</td><td>&quot;{&quot;organ_slims&quot;: [&quot;intestine&quot;, …</td><td>&quot;/experiments/ENCSR848XKY/&quot;</td><td>&quot;2022-02-10T22:04:26.201539+00:…</td><td>&quot;fastq&quot;</td><td>193816284</td><td>&quot;fastq&quot;</td><td>&quot;/files/ENCFF600XFR/@@download/…</td><td>null</td><td>&quot;{&quot;title&quot;: &quot;Bradley Bernstein, …</td><td>&quot;raw data&quot;</td><td>&quot;reads&quot;</td><td>&quot;[]&quot;</td><td>76</td><td>&quot;nt&quot;</td><td>&quot;{&quot;library&quot;: {&quot;accession&quot;: &quot;ENC…</td><td>&quot;paired-ended&quot;</td><td>&quot;genetically modified (insertio…</td><td>&quot;released&quot;</td><td>&quot;[&quot;1_1&quot;]&quot;</td><td>&quot;ENCFF600XFR&quot;</td><td>null</td><td>null</td><td>null</td><td>null</td><td>null</td><td>null</td><td>&quot;[&quot;/biosamples/ENCBS177ZJV/&quot;]&quot;</td><td>&quot;1&quot;</td><td>&quot;/files/ENCFF354OUK/&quot;</td><td>null</td><td>null</td><td>null</td><td>null</td><td>&quot;Control Mint-ChIP-seq&quot;</td><td>&quot;Homo sapiens HCT116 geneticall…</td><td>&quot;[&quot;GEO:GSE209350&quot;]&quot;</td><td>null</td></tr><tr><td>&quot;/files/ENCFF933TWA/&quot;</td><td>&quot;[&quot;File&quot;, &quot;Item&quot;]&quot;</td><td>&quot;ENCFF933TWA&quot;</td><td>&quot;DNase-seq&quot;</td><td>&quot;{&quot;INTERNAL_ACTION&quot;: [{&quot;path&quot;: …</td><td>&quot;{&quot;project&quot;: &quot;ENCODE&quot;}&quot;</td><td>&quot;[1]&quot;</td><td>&quot;{&quot;organ_slims&quot;: [&quot;blood&quot;, &quot;bod…</td><td>&quot;/experiments/ENCSR794KUS/&quot;</td><td>&quot;2022-02-08T00:21:16.276034+00:…</td><td>&quot;fastq&quot;</td><td>1010036136</td><td>&quot;fastq&quot;</td><td>&quot;/files/ENCFF933TWA/@@download/…</td><td>null</td><td>&quot;{&quot;title&quot;: &quot;John Stamatoyannopo…</td><td>&quot;raw data&quot;</td><td>&quot;reads&quot;</td><td>&quot;[]&quot;</td><td>151</td><td>&quot;nt&quot;</td><td>&quot;{&quot;library&quot;: {&quot;accession&quot;: &quot;ENC…</td><td>&quot;paired-ended&quot;</td><td>&quot;with multiple sclerosis&quot;</td><td>&quot;released&quot;</td><td>&quot;[&quot;1_1&quot;]&quot;</td><td>&quot;ENCFF933TWA&quot;</td><td>null</td><td>null</td><td>null</td><td>null</td><td>null</td><td>null</td><td>&quot;[&quot;/biosamples/ENCBS030NVK/&quot;]&quot;</td><td>&quot;2&quot;</td><td>&quot;/files/ENCFF091KZT/&quot;</td><td>null</td><td>null</td><td>null</td><td>null</td><td>&quot;DNase-seq&quot;</td><td>&quot;Homo sapiens with multiple scl…</td><td>&quot;[&quot;GEO:GSE215737&quot;]&quot;</td><td>null</td></tr><tr><td>&hellip;</td><td>&hellip;</td><td>&hellip;</td><td>&hellip;</td><td>&hellip;</td><td>&hellip;</td><td>&hellip;</td><td>&hellip;</td><td>&hellip;</td><td>&hellip;</td><td>&hellip;</td><td>&hellip;</td><td>&hellip;</td><td>&hellip;</td><td>&hellip;</td><td>&hellip;</td><td>&hellip;</td><td>&hellip;</td><td>&hellip;</td><td>&hellip;</td><td>&hellip;</td><td>&hellip;</td><td>&hellip;</td><td>&hellip;</td><td>&hellip;</td><td>&hellip;</td><td>&hellip;</td><td>&hellip;</td><td>&hellip;</td><td>&hellip;</td><td>&hellip;</td><td>&hellip;</td><td>&hellip;</td><td>&hellip;</td><td>&hellip;</td><td>&hellip;</td><td>&hellip;</td><td>&hellip;</td><td>&hellip;</td><td>&hellip;</td><td>&hellip;</td><td>&hellip;</td><td>&hellip;</td><td>&hellip;</td></tr><tr><td>&quot;/files/ENCFF843QSK/&quot;</td><td>&quot;[&quot;File&quot;, &quot;Item&quot;]&quot;</td><td>&quot;ENCFF843QSK&quot;</td><td>&quot;ChIP-seq&quot;</td><td>&quot;{&quot;INTERNAL_ACTION&quot;: [{&quot;path&quot;: …</td><td>&quot;{&quot;project&quot;: &quot;ENCODE&quot;}&quot;</td><td>&quot;[1]&quot;</td><td>&quot;{&quot;organ_slims&quot;: [&quot;epithelium&quot;,…</td><td>&quot;/experiments/ENCSR000AHD/&quot;</td><td>&quot;2020-09-26T08:07:23.714821+00:…</td><td>&quot;bed&quot;</td><td>795973</td><td>&quot;bed narrowPeak&quot;</td><td>&quot;/files/ENCFF843QSK/@@download/…</td><td>null</td><td>&quot;{&quot;title&quot;: &quot;ENCODE Processing P…</td><td>&quot;annotation&quot;</td><td>&quot;IDR thresholded peaks&quot;</td><td>&quot;[{&quot;aliases&quot;: [], &quot;frip&quot;: 0.134…</td><td>null</td><td>null</td><td>null</td><td>null</td><td>&quot;&quot;</td><td>&quot;released&quot;</td><td>&quot;[&quot;1_1&quot;]&quot;</td><td>&quot;ENCFF843QSK&quot;</td><td>&quot;{&quot;schema_version&quot;: &quot;4&quot;, &quot;alias…</td><td>&quot;GRCh38&quot;</td><td>&quot;[&quot;/files/ENCFF356LFX/&quot;, &quot;/file…</td><td>&quot;narrowPeak&quot;</td><td>null</td><td>&quot;{&quot;schema_version&quot;: &quot;5&quot;, &quot;alias…</td><td>&quot;[&quot;/biosamples/ENCBS000AAA/&quot;]&quot;</td><td>null</td><td>null</td><td>&quot;{&quot;label&quot;: &quot;CTCF&quot;}&quot;</td><td>null</td><td>null</td><td>null</td><td>&quot;TF ChIP-seq&quot;</td><td>&quot;Homo sapiens MCF-7&quot;</td><td>&quot;[&quot;FactorBook:ENCSR000AHD&quot;, &quot;GE…</td><td>&quot;HAIB ChIP CTCF&nbsp;&nbsp;in MCF-7&quot;</td></tr><tr><td>&quot;/files/ENCFF762LDF/&quot;</td><td>&quot;[&quot;File&quot;, &quot;Item&quot;]&quot;</td><td>&quot;ENCFF762LDF&quot;</td><td>&quot;ChIP-seq&quot;</td><td>&quot;{&quot;INTERNAL_ACTION&quot;: [{&quot;path&quot;: …</td><td>&quot;{&quot;project&quot;: &quot;ENCODE&quot;}&quot;</td><td>&quot;[2]&quot;</td><td>&quot;{&quot;organ_slims&quot;: [&quot;epithelium&quot;,…</td><td>&quot;/experiments/ENCSR000AHD/&quot;</td><td>&quot;2016-11-15T02:20:06.874942+00:…</td><td>&quot;bed&quot;</td><td>4135581</td><td>&quot;bed narrowPeak&quot;</td><td>&quot;/files/ENCFF762LDF/@@download/…</td><td>null</td><td>&quot;{&quot;title&quot;: &quot;ENCODE Processing P…</td><td>&quot;annotation&quot;</td><td>&quot;peaks and background as input …</td><td>&quot;[]&quot;</td><td>null</td><td>null</td><td>null</td><td>null</td><td>&quot;&quot;</td><td>&quot;released&quot;</td><td>&quot;[&quot;2_1&quot;]&quot;</td><td>&quot;ENCFF762LDF&quot;</td><td>&quot;{&quot;schema_version&quot;: &quot;4&quot;, &quot;alias…</td><td>&quot;hg19&quot;</td><td>&quot;[&quot;/files/ENCFF335UKS/&quot;, &quot;/file…</td><td>&quot;narrowPeak&quot;</td><td>null</td><td>&quot;{&quot;schema_version&quot;: &quot;5&quot;, &quot;alias…</td><td>&quot;[&quot;/biosamples/ENCBS001AAA/&quot;]&quot;</td><td>null</td><td>null</td><td>&quot;{&quot;label&quot;: &quot;CTCF&quot;}&quot;</td><td>null</td><td>null</td><td>null</td><td>&quot;TF ChIP-seq&quot;</td><td>&quot;Homo sapiens MCF-7&quot;</td><td>&quot;[&quot;FactorBook:ENCSR000AHD&quot;, &quot;GE…</td><td>&quot;HAIB ChIP CTCF&nbsp;&nbsp;in MCF-7&quot;</td></tr><tr><td>&quot;/files/ENCFF181YWG/&quot;</td><td>&quot;[&quot;File&quot;, &quot;Item&quot;]&quot;</td><td>&quot;ENCFF181YWG&quot;</td><td>&quot;ChIP-seq&quot;</td><td>&quot;{&quot;INTERNAL_ACTION&quot;: [{&quot;path&quot;: …</td><td>&quot;{&quot;project&quot;: &quot;ENCODE&quot;}&quot;</td><td>&quot;[1, 2]&quot;</td><td>&quot;{&quot;organ_slims&quot;: [&quot;epithelium&quot;,…</td><td>&quot;/experiments/ENCSR000AHD/&quot;</td><td>&quot;2016-11-15T02:20:40.615250+00:…</td><td>&quot;bigBed&quot;</td><td>1562444</td><td>&quot;bigBed narrowPeak&quot;</td><td>&quot;/files/ENCFF181YWG/@@download/…</td><td>null</td><td>&quot;{&quot;title&quot;: &quot;ENCODE Processing P…</td><td>&quot;annotation&quot;</td><td>&quot;conservative IDR thresholded p…</td><td>&quot;[{&quot;aliases&quot;: [], &quot;frip&quot;: 0.152…</td><td>null</td><td>null</td><td>null</td><td>null</td><td>&quot;&quot;</td><td>&quot;released&quot;</td><td>&quot;[&quot;1_1&quot;, &quot;2_1&quot;]&quot;</td><td>&quot;ENCFF181YWG&quot;</td><td>&quot;{&quot;schema_version&quot;: &quot;4&quot;, &quot;alias…</td><td>&quot;hg19&quot;</td><td>&quot;[&quot;/files/ENCFF444IOW/&quot;]&quot;</td><td>&quot;narrowPeak&quot;</td><td>null</td><td>&quot;{&quot;schema_version&quot;: &quot;5&quot;, &quot;alias…</td><td>&quot;[&quot;/biosamples/ENCBS001AAA/&quot;, &quot;…</td><td>null</td><td>null</td><td>&quot;{&quot;label&quot;: &quot;CTCF&quot;}&quot;</td><td>null</td><td>null</td><td>null</td><td>&quot;TF ChIP-seq&quot;</td><td>&quot;Homo sapiens MCF-7&quot;</td><td>&quot;[&quot;FactorBook:ENCSR000AHD&quot;, &quot;GE…</td><td>&quot;HAIB ChIP CTCF&nbsp;&nbsp;in MCF-7&quot;</td></tr><tr><td>&quot;/files/ENCFF572VGJ/&quot;</td><td>&quot;[&quot;File&quot;, &quot;Item&quot;]&quot;</td><td>&quot;ENCFF572VGJ&quot;</td><td>&quot;ChIP-seq&quot;</td><td>&quot;{&quot;INTERNAL_ACTION&quot;: [{&quot;path&quot;: …</td><td>&quot;{&quot;project&quot;: &quot;ENCODE&quot;}&quot;</td><td>&quot;[2]&quot;</td><td>&quot;{&quot;organ_slims&quot;: [&quot;epithelium&quot;,…</td><td>&quot;/experiments/ENCSR000AHD/&quot;</td><td>&quot;2020-09-26T08:07:07.130225+00:…</td><td>&quot;bam&quot;</td><td>1290288337</td><td>&quot;bam&quot;</td><td>&quot;/files/ENCFF572VGJ/@@download/…</td><td>null</td><td>&quot;{&quot;title&quot;: &quot;ENCODE Processing P…</td><td>&quot;alignment&quot;</td><td>&quot;unfiltered alignments&quot;</td><td>&quot;[{&quot;duplicate_reads&quot;: 0, &quot;diff_…</td><td>null</td><td>&quot;nt&quot;</td><td>null</td><td>null</td><td>&quot;&quot;</td><td>&quot;released&quot;</td><td>&quot;[&quot;2_1&quot;]&quot;</td><td>&quot;ENCFF572VGJ&quot;</td><td>&quot;{&quot;schema_version&quot;: &quot;4&quot;, &quot;alias…</td><td>&quot;GRCh38&quot;</td><td>&quot;[&quot;/files/ENCFF110MCL/&quot;, &quot;/file…</td><td>null</td><td>null</td><td>&quot;{&quot;schema_version&quot;: &quot;5&quot;, &quot;alias…</td><td>&quot;[&quot;/biosamples/ENCBS001AAA/&quot;]&quot;</td><td>null</td><td>null</td><td>&quot;{&quot;label&quot;: &quot;CTCF&quot;}&quot;</td><td>50</td><td>&quot;single-ended&quot;</td><td>null</td><td>&quot;TF ChIP-seq&quot;</td><td>&quot;Homo sapiens MCF-7&quot;</td><td>&quot;[&quot;FactorBook:ENCSR000AHD&quot;, &quot;GE…</td><td>&quot;HAIB ChIP CTCF&nbsp;&nbsp;in MCF-7&quot;</td></tr><tr><td>&quot;/files/ENCFF000QLT/&quot;</td><td>&quot;[&quot;File&quot;, &quot;Item&quot;]&quot;</td><td>&quot;ENCFF000QLT&quot;</td><td>&quot;ChIP-seq&quot;</td><td>&quot;{&quot;INTERNAL_ACTION&quot;: [{&quot;path&quot;: …</td><td>&quot;{&quot;project&quot;: &quot;ENCODE&quot;}&quot;</td><td>&quot;[2]&quot;</td><td>&quot;{&quot;organ_slims&quot;: [&quot;epithelium&quot;,…</td><td>&quot;/experiments/ENCSR000AHD/&quot;</td><td>&quot;2012-01-23T00:00:00.000000+00:…</td><td>&quot;fastq&quot;</td><td>1324143320</td><td>&quot;fastq&quot;</td><td>&quot;/files/ENCFF000QLT/@@download/…</td><td>null</td><td>&quot;{&quot;title&quot;: &quot;Richard Myers, HAIB…</td><td>&quot;raw data&quot;</td><td>&quot;reads&quot;</td><td>&quot;[]&quot;</td><td>50</td><td>&quot;nt&quot;</td><td>&quot;{&quot;library&quot;: {&quot;accession&quot;: &quot;ENC…</td><td>&quot;single-ended&quot;</td><td>&quot;&quot;</td><td>&quot;released&quot;</td><td>&quot;[&quot;2_1&quot;]&quot;</td><td>&quot;ENCFF000QLT&quot;</td><td>null</td><td>null</td><td>null</td><td>null</td><td>null</td><td>null</td><td>&quot;[&quot;/biosamples/ENCBS001AAA/&quot;]&quot;</td><td>null</td><td>null</td><td>&quot;{&quot;label&quot;: &quot;CTCF&quot;}&quot;</td><td>null</td><td>null</td><td>null</td><td>&quot;TF ChIP-seq&quot;</td><td>&quot;Homo sapiens MCF-7&quot;</td><td>&quot;[&quot;FactorBook:ENCSR000AHD&quot;, &quot;GE…</td><td>&quot;HAIB ChIP CTCF&nbsp;&nbsp;in MCF-7&quot;</td></tr></tbody></table></div>"
      ],
      "text/plain": [
       "shape: (762_008, 44)\n",
       "┌───────────┬───────────┬───────────┬───────────┬───┬───────────┬───────────┬───────────┬──────────┐\n",
       "│ @id       ┆ @type     ┆ accession ┆ assay_ter ┆ … ┆ assay_tit ┆ biosample ┆ dbxrefs   ┆ descript │\n",
       "│ ---       ┆ ---       ┆ ---       ┆ m_name    ┆   ┆ le        ┆ _summary  ┆ ---       ┆ ion      │\n",
       "│ str       ┆ str       ┆ str       ┆ ---       ┆   ┆ ---       ┆ ---       ┆ str       ┆ ---      │\n",
       "│           ┆           ┆           ┆ str       ┆   ┆ str       ┆ str       ┆           ┆ str      │\n",
       "╞═══════════╪═══════════╪═══════════╪═══════════╪═══╪═══════════╪═══════════╪═══════════╪══════════╡\n",
       "│ /files/EN ┆ [\"File\",  ┆ ENCFF540B ┆ PAS-seq   ┆ … ┆ PAS-seq   ┆ Mus       ┆ [\"GEO:GSE ┆ Mouse    │\n",
       "│ CFF540BYK ┆ \"Item\"]   ┆ YK        ┆           ┆   ┆           ┆ musculus  ┆ 219823\"]  ┆ cortex   │\n",
       "│ /         ┆           ┆           ┆           ┆   ┆           ┆ strain    ┆           ┆ QuantSeq │\n",
       "│           ┆           ┆           ┆           ┆   ┆           ┆ B6NCrl    ┆           ┆          │\n",
       "│           ┆           ┆           ┆           ┆   ┆           ┆ lef…      ┆           ┆          │\n",
       "│ /files/EN ┆ [\"File\",  ┆ ENCFF419E ┆ DNase-seq ┆ … ┆ DNase-seq ┆ Mus       ┆ [\"GEO:GSE ┆ null     │\n",
       "│ CFF419EOR ┆ \"Item\"]   ┆ OR        ┆           ┆   ┆           ┆ musculus  ┆ 215736\"]  ┆          │\n",
       "│ /         ┆           ┆           ┆           ┆   ┆           ┆ strain    ┆           ┆          │\n",
       "│           ┆           ┆           ┆           ┆   ┆           ┆ B6CASTF1/ ┆           ┆          │\n",
       "│           ┆           ┆           ┆           ┆   ┆           ┆ J…        ┆           ┆          │\n",
       "│ /files/EN ┆ [\"File\",  ┆ ENCFF717Z ┆ Mint-ChIP ┆ … ┆ Mint-ChIP ┆ Homo      ┆ [\"GEO:GSE ┆ null     │\n",
       "│ CFF717ZXC ┆ \"Item\"]   ┆ XC        ┆ -seq      ┆   ┆ -seq      ┆ sapiens   ┆ 209137\"]  ┆          │\n",
       "│ /         ┆           ┆           ┆           ┆   ┆           ┆ HCT116    ┆           ┆          │\n",
       "│           ┆           ┆           ┆           ┆   ┆           ┆ genetical ┆           ┆          │\n",
       "│           ┆           ┆           ┆           ┆   ┆           ┆ l…        ┆           ┆          │\n",
       "│ /files/EN ┆ [\"File\",  ┆ ENCFF600X ┆ Mint-ChIP ┆ … ┆ Control   ┆ Homo      ┆ [\"GEO:GSE ┆ null     │\n",
       "│ CFF600XFR ┆ \"Item\"]   ┆ FR        ┆ -seq      ┆   ┆ Mint-ChIP ┆ sapiens   ┆ 209350\"]  ┆          │\n",
       "│ /         ┆           ┆           ┆           ┆   ┆ -seq      ┆ HCT116    ┆           ┆          │\n",
       "│           ┆           ┆           ┆           ┆   ┆           ┆ genetical ┆           ┆          │\n",
       "│           ┆           ┆           ┆           ┆   ┆           ┆ l…        ┆           ┆          │\n",
       "│ /files/EN ┆ [\"File\",  ┆ ENCFF933T ┆ DNase-seq ┆ … ┆ DNase-seq ┆ Homo      ┆ [\"GEO:GSE ┆ null     │\n",
       "│ CFF933TWA ┆ \"Item\"]   ┆ WA        ┆           ┆   ┆           ┆ sapiens   ┆ 215737\"]  ┆          │\n",
       "│ /         ┆           ┆           ┆           ┆   ┆           ┆ with      ┆           ┆          │\n",
       "│           ┆           ┆           ┆           ┆   ┆           ┆ multiple  ┆           ┆          │\n",
       "│           ┆           ┆           ┆           ┆   ┆           ┆ scl…      ┆           ┆          │\n",
       "│ …         ┆ …         ┆ …         ┆ …         ┆ … ┆ …         ┆ …         ┆ …         ┆ …        │\n",
       "│ /files/EN ┆ [\"File\",  ┆ ENCFF843Q ┆ ChIP-seq  ┆ … ┆ TF        ┆ Homo      ┆ [\"FactorB ┆ HAIB     │\n",
       "│ CFF843QSK ┆ \"Item\"]   ┆ SK        ┆           ┆   ┆ ChIP-seq  ┆ sapiens   ┆ ook:ENCSR ┆ ChIP     │\n",
       "│ /         ┆           ┆           ┆           ┆   ┆           ┆ MCF-7     ┆ 000AHD\",  ┆ CTCF  in │\n",
       "│           ┆           ┆           ┆           ┆   ┆           ┆           ┆ \"GE…      ┆ MCF-7    │\n",
       "│ /files/EN ┆ [\"File\",  ┆ ENCFF762L ┆ ChIP-seq  ┆ … ┆ TF        ┆ Homo      ┆ [\"FactorB ┆ HAIB     │\n",
       "│ CFF762LDF ┆ \"Item\"]   ┆ DF        ┆           ┆   ┆ ChIP-seq  ┆ sapiens   ┆ ook:ENCSR ┆ ChIP     │\n",
       "│ /         ┆           ┆           ┆           ┆   ┆           ┆ MCF-7     ┆ 000AHD\",  ┆ CTCF  in │\n",
       "│           ┆           ┆           ┆           ┆   ┆           ┆           ┆ \"GE…      ┆ MCF-7    │\n",
       "│ /files/EN ┆ [\"File\",  ┆ ENCFF181Y ┆ ChIP-seq  ┆ … ┆ TF        ┆ Homo      ┆ [\"FactorB ┆ HAIB     │\n",
       "│ CFF181YWG ┆ \"Item\"]   ┆ WG        ┆           ┆   ┆ ChIP-seq  ┆ sapiens   ┆ ook:ENCSR ┆ ChIP     │\n",
       "│ /         ┆           ┆           ┆           ┆   ┆           ┆ MCF-7     ┆ 000AHD\",  ┆ CTCF  in │\n",
       "│           ┆           ┆           ┆           ┆   ┆           ┆           ┆ \"GE…      ┆ MCF-7    │\n",
       "│ /files/EN ┆ [\"File\",  ┆ ENCFF572V ┆ ChIP-seq  ┆ … ┆ TF        ┆ Homo      ┆ [\"FactorB ┆ HAIB     │\n",
       "│ CFF572VGJ ┆ \"Item\"]   ┆ GJ        ┆           ┆   ┆ ChIP-seq  ┆ sapiens   ┆ ook:ENCSR ┆ ChIP     │\n",
       "│ /         ┆           ┆           ┆           ┆   ┆           ┆ MCF-7     ┆ 000AHD\",  ┆ CTCF  in │\n",
       "│           ┆           ┆           ┆           ┆   ┆           ┆           ┆ \"GE…      ┆ MCF-7    │\n",
       "│ /files/EN ┆ [\"File\",  ┆ ENCFF000Q ┆ ChIP-seq  ┆ … ┆ TF        ┆ Homo      ┆ [\"FactorB ┆ HAIB     │\n",
       "│ CFF000QLT ┆ \"Item\"]   ┆ LT        ┆           ┆   ┆ ChIP-seq  ┆ sapiens   ┆ ook:ENCSR ┆ ChIP     │\n",
       "│ /         ┆           ┆           ┆           ┆   ┆           ┆ MCF-7     ┆ 000AHD\",  ┆ CTCF  in │\n",
       "│           ┆           ┆           ┆           ┆   ┆           ┆           ┆ \"GE…      ┆ MCF-7    │\n",
       "└───────────┴───────────┴───────────┴───────────┴───┴───────────┴───────────┴───────────┴──────────┘"
      ]
     },
     "metadata": {},
     "output_type": "display_data"
    }
   ],
   "source": [
    "joined = only_experiments.join(unpacked_files_shortened, on='@id', how='inner')\n",
    "display(joined)"
   ]
  },
  {
   "cell_type": "code",
   "execution_count": 67,
   "metadata": {},
   "outputs": [
    {
     "data": {
      "text/html": [
       "<div><style>\n",
       ".dataframe > thead > tr,\n",
       ".dataframe > tbody > tr {\n",
       "  text-align: right;\n",
       "  white-space: pre-wrap;\n",
       "}\n",
       "</style>\n",
       "<small>shape: (170, 44)</small><table border=\"1\" class=\"dataframe\"><thead><tr><th>@id</th><th>@type</th><th>accession</th><th>assay_term_name</th><th>audit</th><th>award</th><th>biological_replicates</th><th>biosample_ontology</th><th>dataset</th><th>date_created</th><th>file_format</th><th>file_size</th><th>file_type</th><th>href</th><th>index_of</th><th>lab</th><th>output_category</th><th>output_type</th><th>quality_metrics</th><th>read_length</th><th>read_length_units</th><th>replicate</th><th>run_type</th><th>simple_biosample_summary</th><th>status</th><th>technical_replicates</th><th>title</th><th>analysis_step_version</th><th>assembly</th><th>derived_from</th><th>file_format_type</th><th>genome_annotation</th><th>step_run</th><th>origin_batches</th><th>paired_end</th><th>paired_with</th><th>target</th><th>mapped_read_length</th><th>mapped_run_type</th><th>preferred_default</th><th>assay_title</th><th>biosample_summary</th><th>dbxrefs</th><th>description</th></tr><tr><td>str</td><td>str</td><td>str</td><td>str</td><td>str</td><td>str</td><td>str</td><td>str</td><td>str</td><td>str</td><td>str</td><td>i64</td><td>str</td><td>str</td><td>str</td><td>str</td><td>str</td><td>str</td><td>str</td><td>i64</td><td>str</td><td>str</td><td>str</td><td>str</td><td>str</td><td>str</td><td>str</td><td>str</td><td>str</td><td>str</td><td>str</td><td>str</td><td>str</td><td>str</td><td>str</td><td>str</td><td>str</td><td>i64</td><td>str</td><td>bool</td><td>str</td><td>str</td><td>str</td><td>str</td></tr></thead><tbody><tr><td>&quot;/files/ENCFF440DXU/&quot;</td><td>&quot;[&quot;File&quot;, &quot;Item&quot;]&quot;</td><td>&quot;ENCFF440DXU&quot;</td><td>&quot;RNA-seq&quot;</td><td>&quot;{&quot;INTERNAL_ACTION&quot;: [{&quot;path&quot;: …</td><td>&quot;{&quot;project&quot;: &quot;ENCODE&quot;}&quot;</td><td>&quot;[1]&quot;</td><td>&quot;{&quot;organ_slims&quot;: [&quot;blood&quot;, &quot;bod…</td><td>&quot;/experiments/ENCSR000AEL/&quot;</td><td>&quot;2016-02-04T02:15:58.486965+00:…</td><td>&quot;bigWig&quot;</td><td>122429375</td><td>&quot;bigWig&quot;</td><td>&quot;/files/ENCFF440DXU/@@download/…</td><td>null</td><td>&quot;{&quot;title&quot;: &quot;ENCODE Processing P…</td><td>&quot;signal&quot;</td><td>&quot;plus strand signal of unique r…</td><td>&quot;[]&quot;</td><td>null</td><td>null</td><td>null</td><td>null</td><td>&quot;&quot;</td><td>&quot;released&quot;</td><td>&quot;[&quot;1_1&quot;]&quot;</td><td>&quot;ENCFF440DXU&quot;</td><td>&quot;{&quot;schema_version&quot;: &quot;4&quot;, &quot;alias…</td><td>&quot;GRCh38&quot;</td><td>&quot;[&quot;/files/ENCFF796BVP/&quot;]&quot;</td><td>null</td><td>&quot;V24&quot;</td><td>&quot;{&quot;schema_version&quot;: &quot;5&quot;, &quot;alias…</td><td>&quot;[&quot;/biosamples/ENCBS087RNA/&quot;]&quot;</td><td>null</td><td>null</td><td>null</td><td>null</td><td>null</td><td>null</td><td>&quot;total RNA-seq&quot;</td><td>&quot;Homo sapiens K562&quot;</td><td>&quot;[&quot;GEO:GSE78556&quot;]&quot;</td><td>&quot;The libraries contained in thi…</td></tr><tr><td>&quot;/files/ENCFF886IDW/&quot;</td><td>&quot;[&quot;File&quot;, &quot;Item&quot;]&quot;</td><td>&quot;ENCFF886IDW&quot;</td><td>&quot;RNA-seq&quot;</td><td>&quot;{&quot;INTERNAL_ACTION&quot;: [{&quot;path&quot;: …</td><td>&quot;{&quot;project&quot;: &quot;ENCODE&quot;}&quot;</td><td>&quot;[2]&quot;</td><td>&quot;{&quot;organ_slims&quot;: [&quot;blood&quot;, &quot;bod…</td><td>&quot;/experiments/ENCSR000AEL/&quot;</td><td>&quot;2016-02-04T02:18:53.281031+00:…</td><td>&quot;bigWig&quot;</td><td>97062639</td><td>&quot;bigWig&quot;</td><td>&quot;/files/ENCFF886IDW/@@download/…</td><td>null</td><td>&quot;{&quot;title&quot;: &quot;ENCODE Processing P…</td><td>&quot;signal&quot;</td><td>&quot;minus strand signal of unique …</td><td>&quot;[]&quot;</td><td>null</td><td>null</td><td>null</td><td>null</td><td>&quot;&quot;</td><td>&quot;released&quot;</td><td>&quot;[&quot;2_1&quot;]&quot;</td><td>&quot;ENCFF886IDW&quot;</td><td>&quot;{&quot;schema_version&quot;: &quot;4&quot;, &quot;alias…</td><td>&quot;GRCh38&quot;</td><td>&quot;[&quot;/files/ENCFF340LGI/&quot;]&quot;</td><td>null</td><td>&quot;V24&quot;</td><td>&quot;{&quot;schema_version&quot;: &quot;5&quot;, &quot;alias…</td><td>&quot;[&quot;/biosamples/ENCBS088RNA/&quot;]&quot;</td><td>null</td><td>null</td><td>null</td><td>null</td><td>null</td><td>true</td><td>&quot;total RNA-seq&quot;</td><td>&quot;Homo sapiens K562&quot;</td><td>&quot;[&quot;GEO:GSE78556&quot;]&quot;</td><td>&quot;The libraries contained in thi…</td></tr><tr><td>&quot;/files/ENCFF710RYW/&quot;</td><td>&quot;[&quot;File&quot;, &quot;Item&quot;]&quot;</td><td>&quot;ENCFF710RYW&quot;</td><td>&quot;RNA-seq&quot;</td><td>&quot;{&quot;INTERNAL_ACTION&quot;: [{&quot;path&quot;: …</td><td>&quot;{&quot;project&quot;: &quot;ENCODE&quot;}&quot;</td><td>&quot;[2]&quot;</td><td>&quot;{&quot;organ_slims&quot;: [&quot;blood&quot;, &quot;bod…</td><td>&quot;/experiments/ENCSR000AEL/&quot;</td><td>&quot;2016-02-04T02:19:44.172006+00:…</td><td>&quot;bigWig&quot;</td><td>98822715</td><td>&quot;bigWig&quot;</td><td>&quot;/files/ENCFF710RYW/@@download/…</td><td>null</td><td>&quot;{&quot;title&quot;: &quot;ENCODE Processing P…</td><td>&quot;signal&quot;</td><td>&quot;plus strand signal of unique r…</td><td>&quot;[]&quot;</td><td>null</td><td>null</td><td>null</td><td>null</td><td>&quot;&quot;</td><td>&quot;released&quot;</td><td>&quot;[&quot;2_1&quot;]&quot;</td><td>&quot;ENCFF710RYW&quot;</td><td>&quot;{&quot;schema_version&quot;: &quot;4&quot;, &quot;alias…</td><td>&quot;GRCh38&quot;</td><td>&quot;[&quot;/files/ENCFF340LGI/&quot;]&quot;</td><td>null</td><td>&quot;V24&quot;</td><td>&quot;{&quot;schema_version&quot;: &quot;5&quot;, &quot;alias…</td><td>&quot;[&quot;/biosamples/ENCBS088RNA/&quot;]&quot;</td><td>null</td><td>null</td><td>null</td><td>null</td><td>null</td><td>true</td><td>&quot;total RNA-seq&quot;</td><td>&quot;Homo sapiens K562&quot;</td><td>&quot;[&quot;GEO:GSE78556&quot;]&quot;</td><td>&quot;The libraries contained in thi…</td></tr><tr><td>&quot;/files/ENCFF335LVS/&quot;</td><td>&quot;[&quot;File&quot;, &quot;Item&quot;]&quot;</td><td>&quot;ENCFF335LVS&quot;</td><td>&quot;RNA-seq&quot;</td><td>&quot;{&quot;INTERNAL_ACTION&quot;: [{&quot;path&quot;: …</td><td>&quot;{&quot;project&quot;: &quot;ENCODE&quot;}&quot;</td><td>&quot;[2]&quot;</td><td>&quot;{&quot;organ_slims&quot;: [&quot;blood&quot;, &quot;bod…</td><td>&quot;/experiments/ENCSR000AEL/&quot;</td><td>&quot;2021-04-06T00:00:52.399081+00:…</td><td>&quot;bigWig&quot;</td><td>98830937</td><td>&quot;bigWig&quot;</td><td>&quot;/files/ENCFF335LVS/@@download/…</td><td>null</td><td>&quot;{&quot;title&quot;: &quot;ENCODE Processing P…</td><td>&quot;signal&quot;</td><td>&quot;plus strand signal of unique r…</td><td>&quot;[]&quot;</td><td>null</td><td>null</td><td>null</td><td>null</td><td>&quot;&quot;</td><td>&quot;released&quot;</td><td>&quot;[&quot;2_1&quot;]&quot;</td><td>&quot;ENCFF335LVS&quot;</td><td>&quot;{&quot;schema_version&quot;: &quot;4&quot;, &quot;alias…</td><td>&quot;GRCh38&quot;</td><td>&quot;[&quot;/files/ENCFF724WTD/&quot;, &quot;/file…</td><td>null</td><td>&quot;V29&quot;</td><td>&quot;{&quot;schema_version&quot;: &quot;5&quot;, &quot;award…</td><td>&quot;[&quot;/biosamples/ENCBS088RNA/&quot;]&quot;</td><td>null</td><td>null</td><td>null</td><td>null</td><td>null</td><td>true</td><td>&quot;total RNA-seq&quot;</td><td>&quot;Homo sapiens K562&quot;</td><td>&quot;[&quot;GEO:GSE78556&quot;]&quot;</td><td>&quot;The libraries contained in thi…</td></tr><tr><td>&quot;/files/ENCFF980ZHM/&quot;</td><td>&quot;[&quot;File&quot;, &quot;Item&quot;]&quot;</td><td>&quot;ENCFF980ZHM&quot;</td><td>&quot;RNA-seq&quot;</td><td>&quot;{&quot;INTERNAL_ACTION&quot;: [{&quot;path&quot;: …</td><td>&quot;{&quot;project&quot;: &quot;ENCODE&quot;}&quot;</td><td>&quot;[1]&quot;</td><td>&quot;{&quot;organ_slims&quot;: [&quot;blood&quot;, &quot;bod…</td><td>&quot;/experiments/ENCSR000AEL/&quot;</td><td>&quot;2021-04-06T00:00:50.442045+00:…</td><td>&quot;bigWig&quot;</td><td>122878251</td><td>&quot;bigWig&quot;</td><td>&quot;/files/ENCFF980ZHM/@@download/…</td><td>null</td><td>&quot;{&quot;title&quot;: &quot;ENCODE Processing P…</td><td>&quot;signal&quot;</td><td>&quot;plus strand signal of unique r…</td><td>&quot;[]&quot;</td><td>null</td><td>null</td><td>null</td><td>null</td><td>&quot;&quot;</td><td>&quot;released&quot;</td><td>&quot;[&quot;1_1&quot;]&quot;</td><td>&quot;ENCFF980ZHM&quot;</td><td>&quot;{&quot;schema_version&quot;: &quot;4&quot;, &quot;alias…</td><td>&quot;GRCh38&quot;</td><td>&quot;[&quot;/files/ENCFF595XJM/&quot;, &quot;/file…</td><td>null</td><td>&quot;V29&quot;</td><td>&quot;{&quot;schema_version&quot;: &quot;5&quot;, &quot;award…</td><td>&quot;[&quot;/biosamples/ENCBS087RNA/&quot;]&quot;</td><td>null</td><td>null</td><td>null</td><td>null</td><td>null</td><td>null</td><td>&quot;total RNA-seq&quot;</td><td>&quot;Homo sapiens K562&quot;</td><td>&quot;[&quot;GEO:GSE78556&quot;]&quot;</td><td>&quot;The libraries contained in thi…</td></tr><tr><td>&hellip;</td><td>&hellip;</td><td>&hellip;</td><td>&hellip;</td><td>&hellip;</td><td>&hellip;</td><td>&hellip;</td><td>&hellip;</td><td>&hellip;</td><td>&hellip;</td><td>&hellip;</td><td>&hellip;</td><td>&hellip;</td><td>&hellip;</td><td>&hellip;</td><td>&hellip;</td><td>&hellip;</td><td>&hellip;</td><td>&hellip;</td><td>&hellip;</td><td>&hellip;</td><td>&hellip;</td><td>&hellip;</td><td>&hellip;</td><td>&hellip;</td><td>&hellip;</td><td>&hellip;</td><td>&hellip;</td><td>&hellip;</td><td>&hellip;</td><td>&hellip;</td><td>&hellip;</td><td>&hellip;</td><td>&hellip;</td><td>&hellip;</td><td>&hellip;</td><td>&hellip;</td><td>&hellip;</td><td>&hellip;</td><td>&hellip;</td><td>&hellip;</td><td>&hellip;</td><td>&hellip;</td><td>&hellip;</td></tr><tr><td>&quot;/files/ENCFF667CZO/&quot;</td><td>&quot;[&quot;File&quot;, &quot;Item&quot;]&quot;</td><td>&quot;ENCFF667CZO&quot;</td><td>&quot;RNA-seq&quot;</td><td>&quot;{&quot;INTERNAL_ACTION&quot;: [{&quot;path&quot;: …</td><td>&quot;{&quot;project&quot;: &quot;ENCODE&quot;}&quot;</td><td>&quot;[1]&quot;</td><td>&quot;{&quot;organ_slims&quot;: [&quot;blood&quot;, &quot;bod…</td><td>&quot;/experiments/ENCSR885DVH/&quot;</td><td>&quot;2016-02-19T18:31:39.476897+00:…</td><td>&quot;bigWig&quot;</td><td>121747822</td><td>&quot;bigWig&quot;</td><td>&quot;/files/ENCFF667CZO/@@download/…</td><td>null</td><td>&quot;{&quot;title&quot;: &quot;ENCODE Processing P…</td><td>&quot;signal&quot;</td><td>&quot;minus strand signal of unique …</td><td>&quot;[]&quot;</td><td>null</td><td>null</td><td>null</td><td>null</td><td>&quot;&quot;</td><td>&quot;released&quot;</td><td>&quot;[&quot;1_1&quot;]&quot;</td><td>&quot;ENCFF667CZO&quot;</td><td>&quot;{&quot;schema_version&quot;: &quot;4&quot;, &quot;alias…</td><td>&quot;GRCh38&quot;</td><td>&quot;[&quot;/files/ENCFF625ZBS/&quot;]&quot;</td><td>null</td><td>&quot;V24&quot;</td><td>&quot;{&quot;schema_version&quot;: &quot;5&quot;, &quot;alias…</td><td>&quot;[&quot;/biosamples/ENCBS036OIX/&quot;]&quot;</td><td>null</td><td>null</td><td>null</td><td>null</td><td>null</td><td>null</td><td>&quot;total RNA-seq&quot;</td><td>&quot;Homo sapiens K562&quot;</td><td>&quot;[&quot;GEO:GSE88622&quot;]&quot;</td><td>&quot;Initial total fractions on K56…</td></tr><tr><td>&quot;/files/ENCFF785VUS/&quot;</td><td>&quot;[&quot;File&quot;, &quot;Item&quot;]&quot;</td><td>&quot;ENCFF785VUS&quot;</td><td>&quot;BruUV-seq&quot;</td><td>&quot;{&quot;INTERNAL_ACTION&quot;: [{&quot;path&quot;: …</td><td>&quot;{&quot;project&quot;: &quot;ENCODE&quot;}&quot;</td><td>&quot;[5]&quot;</td><td>&quot;{&quot;organ_slims&quot;: [&quot;blood&quot;, &quot;bod…</td><td>&quot;/experiments/ENCSR974RZE/&quot;</td><td>&quot;2021-09-03T00:31:06.784167+00:…</td><td>&quot;bigWig&quot;</td><td>249042505</td><td>&quot;bigWig&quot;</td><td>&quot;/files/ENCFF785VUS/@@download/…</td><td>null</td><td>&quot;{&quot;title&quot;: &quot;Mats Ljungman, UMic…</td><td>&quot;signal&quot;</td><td>&quot;plus strand signal of unique r…</td><td>&quot;[]&quot;</td><td>null</td><td>null</td><td>null</td><td>null</td><td>&quot;&quot;</td><td>&quot;released&quot;</td><td>&quot;[&quot;5_1&quot;]&quot;</td><td>&quot;ENCFF785VUS&quot;</td><td>&quot;{&quot;schema_version&quot;: &quot;4&quot;, &quot;alias…</td><td>&quot;GRCh38&quot;</td><td>&quot;[&quot;/files/ENCFF591SQM/&quot;]&quot;</td><td>null</td><td>null</td><td>&quot;{&quot;schema_version&quot;: &quot;5&quot;, &quot;alias…</td><td>&quot;[&quot;/biosamples/ENCBS327ZDR/&quot;]&quot;</td><td>null</td><td>null</td><td>null</td><td>null</td><td>null</td><td>true</td><td>&quot;BruUV-seq&quot;</td><td>&quot;Homo sapiens K562&quot;</td><td>&quot;[&quot;GEO:GSE187894&quot;]&quot;</td><td>null</td></tr><tr><td>&quot;/files/ENCFF182BOL/&quot;</td><td>&quot;[&quot;File&quot;, &quot;Item&quot;]&quot;</td><td>&quot;ENCFF182BOL&quot;</td><td>&quot;BruUV-seq&quot;</td><td>&quot;{&quot;INTERNAL_ACTION&quot;: [{&quot;path&quot;: …</td><td>&quot;{&quot;project&quot;: &quot;ENCODE&quot;}&quot;</td><td>&quot;[5]&quot;</td><td>&quot;{&quot;organ_slims&quot;: [&quot;blood&quot;, &quot;bod…</td><td>&quot;/experiments/ENCSR974RZE/&quot;</td><td>&quot;2021-09-03T00:31:31.918547+00:…</td><td>&quot;bigWig&quot;</td><td>243840409</td><td>&quot;bigWig&quot;</td><td>&quot;/files/ENCFF182BOL/@@download/…</td><td>null</td><td>&quot;{&quot;title&quot;: &quot;Mats Ljungman, UMic…</td><td>&quot;signal&quot;</td><td>&quot;minus strand signal of unique …</td><td>&quot;[]&quot;</td><td>null</td><td>null</td><td>null</td><td>null</td><td>&quot;&quot;</td><td>&quot;released&quot;</td><td>&quot;[&quot;5_1&quot;]&quot;</td><td>&quot;ENCFF182BOL&quot;</td><td>&quot;{&quot;schema_version&quot;: &quot;4&quot;, &quot;alias…</td><td>&quot;GRCh38&quot;</td><td>&quot;[&quot;/files/ENCFF591SQM/&quot;]&quot;</td><td>null</td><td>null</td><td>&quot;{&quot;schema_version&quot;: &quot;5&quot;, &quot;alias…</td><td>&quot;[&quot;/biosamples/ENCBS327ZDR/&quot;]&quot;</td><td>null</td><td>null</td><td>null</td><td>null</td><td>null</td><td>true</td><td>&quot;BruUV-seq&quot;</td><td>&quot;Homo sapiens K562&quot;</td><td>&quot;[&quot;GEO:GSE187894&quot;]&quot;</td><td>null</td></tr><tr><td>&quot;/files/ENCFF300NKB/&quot;</td><td>&quot;[&quot;File&quot;, &quot;Item&quot;]&quot;</td><td>&quot;ENCFF300NKB&quot;</td><td>&quot;BruUV-seq&quot;</td><td>&quot;{&quot;INTERNAL_ACTION&quot;: [{&quot;path&quot;: …</td><td>&quot;{&quot;project&quot;: &quot;ENCODE&quot;}&quot;</td><td>&quot;[4]&quot;</td><td>&quot;{&quot;organ_slims&quot;: [&quot;blood&quot;, &quot;bod…</td><td>&quot;/experiments/ENCSR974RZE/&quot;</td><td>&quot;2021-09-03T00:17:32.840926+00:…</td><td>&quot;bigWig&quot;</td><td>184701519</td><td>&quot;bigWig&quot;</td><td>&quot;/files/ENCFF300NKB/@@download/…</td><td>null</td><td>&quot;{&quot;title&quot;: &quot;Mats Ljungman, UMic…</td><td>&quot;signal&quot;</td><td>&quot;plus strand signal of unique r…</td><td>&quot;[]&quot;</td><td>null</td><td>null</td><td>null</td><td>null</td><td>&quot;&quot;</td><td>&quot;released&quot;</td><td>&quot;[&quot;4_1&quot;]&quot;</td><td>&quot;ENCFF300NKB&quot;</td><td>&quot;{&quot;schema_version&quot;: &quot;4&quot;, &quot;alias…</td><td>&quot;GRCh38&quot;</td><td>&quot;[&quot;/files/ENCFF819ACA/&quot;]&quot;</td><td>null</td><td>null</td><td>&quot;{&quot;schema_version&quot;: &quot;5&quot;, &quot;alias…</td><td>&quot;[&quot;/biosamples/ENCBS708GCD/&quot;]&quot;</td><td>null</td><td>null</td><td>null</td><td>null</td><td>null</td><td>null</td><td>&quot;BruUV-seq&quot;</td><td>&quot;Homo sapiens K562&quot;</td><td>&quot;[&quot;GEO:GSE187894&quot;]&quot;</td><td>null</td></tr><tr><td>&quot;/files/ENCFF376HCW/&quot;</td><td>&quot;[&quot;File&quot;, &quot;Item&quot;]&quot;</td><td>&quot;ENCFF376HCW&quot;</td><td>&quot;BruUV-seq&quot;</td><td>&quot;{&quot;INTERNAL_ACTION&quot;: [{&quot;path&quot;: …</td><td>&quot;{&quot;project&quot;: &quot;ENCODE&quot;}&quot;</td><td>&quot;[4]&quot;</td><td>&quot;{&quot;organ_slims&quot;: [&quot;blood&quot;, &quot;bod…</td><td>&quot;/experiments/ENCSR974RZE/&quot;</td><td>&quot;2021-09-03T00:17:48.396472+00:…</td><td>&quot;bigWig&quot;</td><td>182750435</td><td>&quot;bigWig&quot;</td><td>&quot;/files/ENCFF376HCW/@@download/…</td><td>null</td><td>&quot;{&quot;title&quot;: &quot;Mats Ljungman, UMic…</td><td>&quot;signal&quot;</td><td>&quot;minus strand signal of unique …</td><td>&quot;[]&quot;</td><td>null</td><td>null</td><td>null</td><td>null</td><td>&quot;&quot;</td><td>&quot;released&quot;</td><td>&quot;[&quot;4_1&quot;]&quot;</td><td>&quot;ENCFF376HCW&quot;</td><td>&quot;{&quot;schema_version&quot;: &quot;4&quot;, &quot;alias…</td><td>&quot;GRCh38&quot;</td><td>&quot;[&quot;/files/ENCFF819ACA/&quot;]&quot;</td><td>null</td><td>null</td><td>&quot;{&quot;schema_version&quot;: &quot;5&quot;, &quot;alias…</td><td>&quot;[&quot;/biosamples/ENCBS708GCD/&quot;]&quot;</td><td>null</td><td>null</td><td>null</td><td>null</td><td>null</td><td>null</td><td>&quot;BruUV-seq&quot;</td><td>&quot;Homo sapiens K562&quot;</td><td>&quot;[&quot;GEO:GSE187894&quot;]&quot;</td><td>null</td></tr></tbody></table></div>"
      ],
      "text/plain": [
       "shape: (170, 44)\n",
       "┌───────────┬───────────┬───────────┬───────────┬───┬───────────┬───────────┬───────────┬──────────┐\n",
       "│ @id       ┆ @type     ┆ accession ┆ assay_ter ┆ … ┆ assay_tit ┆ biosample ┆ dbxrefs   ┆ descript │\n",
       "│ ---       ┆ ---       ┆ ---       ┆ m_name    ┆   ┆ le        ┆ _summary  ┆ ---       ┆ ion      │\n",
       "│ str       ┆ str       ┆ str       ┆ ---       ┆   ┆ ---       ┆ ---       ┆ str       ┆ ---      │\n",
       "│           ┆           ┆           ┆ str       ┆   ┆ str       ┆ str       ┆           ┆ str      │\n",
       "╞═══════════╪═══════════╪═══════════╪═══════════╪═══╪═══════════╪═══════════╪═══════════╪══════════╡\n",
       "│ /files/EN ┆ [\"File\",  ┆ ENCFF440D ┆ RNA-seq   ┆ … ┆ total     ┆ Homo      ┆ [\"GEO:GSE ┆ The libr │\n",
       "│ CFF440DXU ┆ \"Item\"]   ┆ XU        ┆           ┆   ┆ RNA-seq   ┆ sapiens   ┆ 78556\"]   ┆ aries    │\n",
       "│ /         ┆           ┆           ┆           ┆   ┆           ┆ K562      ┆           ┆ containe │\n",
       "│           ┆           ┆           ┆           ┆   ┆           ┆           ┆           ┆ d in     │\n",
       "│           ┆           ┆           ┆           ┆   ┆           ┆           ┆           ┆ thi…     │\n",
       "│ /files/EN ┆ [\"File\",  ┆ ENCFF886I ┆ RNA-seq   ┆ … ┆ total     ┆ Homo      ┆ [\"GEO:GSE ┆ The libr │\n",
       "│ CFF886IDW ┆ \"Item\"]   ┆ DW        ┆           ┆   ┆ RNA-seq   ┆ sapiens   ┆ 78556\"]   ┆ aries    │\n",
       "│ /         ┆           ┆           ┆           ┆   ┆           ┆ K562      ┆           ┆ containe │\n",
       "│           ┆           ┆           ┆           ┆   ┆           ┆           ┆           ┆ d in     │\n",
       "│           ┆           ┆           ┆           ┆   ┆           ┆           ┆           ┆ thi…     │\n",
       "│ /files/EN ┆ [\"File\",  ┆ ENCFF710R ┆ RNA-seq   ┆ … ┆ total     ┆ Homo      ┆ [\"GEO:GSE ┆ The libr │\n",
       "│ CFF710RYW ┆ \"Item\"]   ┆ YW        ┆           ┆   ┆ RNA-seq   ┆ sapiens   ┆ 78556\"]   ┆ aries    │\n",
       "│ /         ┆           ┆           ┆           ┆   ┆           ┆ K562      ┆           ┆ containe │\n",
       "│           ┆           ┆           ┆           ┆   ┆           ┆           ┆           ┆ d in     │\n",
       "│           ┆           ┆           ┆           ┆   ┆           ┆           ┆           ┆ thi…     │\n",
       "│ /files/EN ┆ [\"File\",  ┆ ENCFF335L ┆ RNA-seq   ┆ … ┆ total     ┆ Homo      ┆ [\"GEO:GSE ┆ The libr │\n",
       "│ CFF335LVS ┆ \"Item\"]   ┆ VS        ┆           ┆   ┆ RNA-seq   ┆ sapiens   ┆ 78556\"]   ┆ aries    │\n",
       "│ /         ┆           ┆           ┆           ┆   ┆           ┆ K562      ┆           ┆ containe │\n",
       "│           ┆           ┆           ┆           ┆   ┆           ┆           ┆           ┆ d in     │\n",
       "│           ┆           ┆           ┆           ┆   ┆           ┆           ┆           ┆ thi…     │\n",
       "│ /files/EN ┆ [\"File\",  ┆ ENCFF980Z ┆ RNA-seq   ┆ … ┆ total     ┆ Homo      ┆ [\"GEO:GSE ┆ The libr │\n",
       "│ CFF980ZHM ┆ \"Item\"]   ┆ HM        ┆           ┆   ┆ RNA-seq   ┆ sapiens   ┆ 78556\"]   ┆ aries    │\n",
       "│ /         ┆           ┆           ┆           ┆   ┆           ┆ K562      ┆           ┆ containe │\n",
       "│           ┆           ┆           ┆           ┆   ┆           ┆           ┆           ┆ d in     │\n",
       "│           ┆           ┆           ┆           ┆   ┆           ┆           ┆           ┆ thi…     │\n",
       "│ …         ┆ …         ┆ …         ┆ …         ┆ … ┆ …         ┆ …         ┆ …         ┆ …        │\n",
       "│ /files/EN ┆ [\"File\",  ┆ ENCFF667C ┆ RNA-seq   ┆ … ┆ total     ┆ Homo      ┆ [\"GEO:GSE ┆ Initial  │\n",
       "│ CFF667CZO ┆ \"Item\"]   ┆ ZO        ┆           ┆   ┆ RNA-seq   ┆ sapiens   ┆ 88622\"]   ┆ total    │\n",
       "│ /         ┆           ┆           ┆           ┆   ┆           ┆ K562      ┆           ┆ fraction │\n",
       "│           ┆           ┆           ┆           ┆   ┆           ┆           ┆           ┆ s on     │\n",
       "│           ┆           ┆           ┆           ┆   ┆           ┆           ┆           ┆ K56…     │\n",
       "│ /files/EN ┆ [\"File\",  ┆ ENCFF785V ┆ BruUV-seq ┆ … ┆ BruUV-seq ┆ Homo      ┆ [\"GEO:GSE ┆ null     │\n",
       "│ CFF785VUS ┆ \"Item\"]   ┆ US        ┆           ┆   ┆           ┆ sapiens   ┆ 187894\"]  ┆          │\n",
       "│ /         ┆           ┆           ┆           ┆   ┆           ┆ K562      ┆           ┆          │\n",
       "│ /files/EN ┆ [\"File\",  ┆ ENCFF182B ┆ BruUV-seq ┆ … ┆ BruUV-seq ┆ Homo      ┆ [\"GEO:GSE ┆ null     │\n",
       "│ CFF182BOL ┆ \"Item\"]   ┆ OL        ┆           ┆   ┆           ┆ sapiens   ┆ 187894\"]  ┆          │\n",
       "│ /         ┆           ┆           ┆           ┆   ┆           ┆ K562      ┆           ┆          │\n",
       "│ /files/EN ┆ [\"File\",  ┆ ENCFF300N ┆ BruUV-seq ┆ … ┆ BruUV-seq ┆ Homo      ┆ [\"GEO:GSE ┆ null     │\n",
       "│ CFF300NKB ┆ \"Item\"]   ┆ KB        ┆           ┆   ┆           ┆ sapiens   ┆ 187894\"]  ┆          │\n",
       "│ /         ┆           ┆           ┆           ┆   ┆           ┆ K562      ┆           ┆          │\n",
       "│ /files/EN ┆ [\"File\",  ┆ ENCFF376H ┆ BruUV-seq ┆ … ┆ BruUV-seq ┆ Homo      ┆ [\"GEO:GSE ┆ null     │\n",
       "│ CFF376HCW ┆ \"Item\"]   ┆ CW        ┆           ┆   ┆           ┆ sapiens   ┆ 187894\"]  ┆          │\n",
       "│ /         ┆           ┆           ┆           ┆   ┆           ┆ K562      ┆           ┆          │\n",
       "└───────────┴───────────┴───────────┴───────────┴───┴───────────┴───────────┴───────────┴──────────┘"
      ]
     },
     "metadata": {},
     "output_type": "display_data"
    }
   ],
   "source": [
    "# output_type_list = ['plus strand signal of unique reads', 'minus strand signal of unique reads', 'signal of unique reads']\n",
    "output_type_list = ['plus strand signal of unique reads', 'minus strand signal of unique reads']\n",
    "\n",
    "filter_by_assay = joined.filter(pl.col(\"assay_term_name\").is_in([\"RNA-seq\", \"RAMPAGE\", \"CAGE\", \"BruChase-seq\", \"PRO-cap\", \"BruUV-seq\", \"Bru-seq\"]))\n",
    "filter_by_biosample = filter_by_assay.filter(pl.col(\"biosample_ontology\").str.json_path_match(\"$.term_name\").str.contains(\"K562\"))\n",
    "filter_by_assembly = filter_by_biosample.filter(pl.col(\"assembly\").str.contains(\"GRCh38\"))\n",
    "filter_by_status = filter_by_assembly.filter(pl.col(\"status\").str.contains(\"released\"))\n",
    "filter_by_file_type = filter_by_status.filter(pl.col(\"file_type\").str.contains(\"bigWig\"))\n",
    "filter_by_output_type = filter_by_file_type.filter(pl.col(\"output_type\").is_in(output_type_list))\n",
    "\n",
    "display(filter_by_output_type.sort(\"dataset\"))"
   ]
  },
  {
   "cell_type": "code",
   "execution_count": 66,
   "metadata": {},
   "outputs": [
    {
     "name": "stdout",
     "output_type": "stream",
     "text": [
      "shape: (7, 2)\n",
      "┌───────────────┬───────┐\n",
      "│ assay_title   ┆ count │\n",
      "│ ---           ┆ ---   │\n",
      "│ str           ┆ u32   │\n",
      "╞═══════════════╪═══════╡\n",
      "│ Bru-seq       ┆ 8     │\n",
      "│ BruChase-seq  ┆ 8     │\n",
      "│ BruUV-seq     ┆ 4     │\n",
      "│ CAGE          ┆ 12    │\n",
      "│ PRO-cap       ┆ 40    │\n",
      "│ RAMPAGE       ┆ 4     │\n",
      "│ total RNA-seq ┆ 94    │\n",
      "└───────────────┴───────┘\n"
     ]
    }
   ],
   "source": [
    "print(filter_by_output_type[\"assay_title\"].sort().value_counts())"
   ]
  },
  {
   "cell_type": "code",
   "execution_count": null,
   "metadata": {},
   "outputs": [],
   "source": [
    "\"\"\"\n",
    "shape: (8, 2)\n",
    "┌───────────────────┬───────┐\n",
    "│ assay             ┆ count │\n",
    "│ ---               ┆ ---   │\n",
    "│ str               ┆ u32   │\n",
    "╞═══════════════════╪═══════╡\n",
    "│ BruUV-seq         ┆ 4     │\n",
    "│ RAMPAGE           ┆ 4     │\n",
    "│ Bru-seq           ┆ 8     │\n",
    "│ CAGE              ┆ 12    │\n",
    "│ PRO-cap           ┆ 40    │\n",
    "│ RNA-seq           ┆ 190   │\n",
    "│ BruChase-seq      ┆ 8     │\n",
    "│ long read RNA-seq ┆ 7     │\n",
    "└───────────────────┴───────┘\n",
    "\"\"\""
   ]
  },
  {
   "cell_type": "code",
   "execution_count": null,
   "metadata": {},
   "outputs": [],
   "source": [
    "formatted_time = only_experiments.with_columns(pl.col(\"date_created\").cast(pl.Datetime))\n",
    "print(formatted_time[\"date_created\"].max())\n",
    "print(formatted_time[\"date_created\"].min())"
   ]
  },
  {
   "cell_type": "code",
   "execution_count": null,
   "metadata": {},
   "outputs": [],
   "source": [
    "import pickle\n",
    "\n",
    "with open('../accessions.pkl', 'rb') as f:\n",
    "    accessions = pickle.load(f)\n",
    "    \n",
    "print(len(accessions))"
   ]
  },
  {
   "cell_type": "code",
   "execution_count": null,
   "metadata": {},
   "outputs": [],
   "source": [
    "encode = pl.read_parquet('../clean_encode.parquet')\n",
    "display(encode)\n",
    "# print(encode.select(\"biological_replicates\"))\n",
    "# display(encode)\n",
    "for column in encode.iter_columns():\n",
    "    display(encode.select(column).unique())\n",
    "    \n",
    "print(encode.select(\"output_type\").unique().to_list())\n"
   ]
  },
  {
   "cell_type": "code",
   "execution_count": null,
   "metadata": {},
   "outputs": [],
   "source": [
    "encode = pl.read_parquet('../clean_encode.parquet')"
   ]
  },
  {
   "cell_type": "code",
   "execution_count": null,
   "metadata": {},
   "outputs": [],
   "source": [
    "display(encode)"
   ]
  },
  {
   "cell_type": "code",
   "execution_count": null,
   "metadata": {},
   "outputs": [],
   "source": [
    "import json\n",
    "\n",
    "json_objects = []\n",
    "\n",
    "with open('../encode.jsonl') as f:\n",
    "    for line in f:\n",
    "        file = json.loads(line)\n",
    "        json_objects.append(file)\n",
    "\n",
    "json_string = json.dumps(json_objects)\n",
    "\n",
    "from io import StringIO\n",
    "json_file_obj = StringIO(json_string)\n",
    "\n",
    "encode_json = pl.read_json(json_file_obj)"
   ]
  },
  {
   "cell_type": "code",
   "execution_count": null,
   "metadata": {},
   "outputs": [],
   "source": [
    "import json \n",
    "\n",
    "url = \"https://www.encodeproject.org/experiments/?format=json&limit=1\"\n",
    "response = requests.get(url)\n",
    "data = response.json()\n",
    "experiment = data['@graph'][0]\n",
    "with open('encode_experiment_example.json', 'w') as outfile:\n",
    "    json.dump(experiment, outfile, indent=4)\n"
   ]
  },
  {
   "cell_type": "code",
   "execution_count": null,
   "metadata": {},
   "outputs": [],
   "source": [
    "\"/experiments/ENCSR220XSM/\".split('/')"
   ]
  }
 ],
 "metadata": {
  "kernelspec": {
   "display_name": ".venv",
   "language": "python",
   "name": "python3"
  },
  "language_info": {
   "codemirror_mode": {
    "name": "ipython",
    "version": 3
   },
   "file_extension": ".py",
   "mimetype": "text/x-python",
   "name": "python",
   "nbconvert_exporter": "python",
   "pygments_lexer": "ipython3",
   "version": "3.10.12"
  }
 },
 "nbformat": 4,
 "nbformat_minor": 2
}
