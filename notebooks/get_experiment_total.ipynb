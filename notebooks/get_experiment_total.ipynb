{
 "cells": [
  {
   "cell_type": "code",
   "execution_count": null,
   "metadata": {},
   "outputs": [],
   "source": [
    "import requests\n",
    "import polars as pl\n",
    "import json\n",
    "from box import Box"
   ]
  },
  {
   "cell_type": "code",
   "execution_count": null,
   "metadata": {},
   "outputs": [],
   "source": [
    "def get_size_of_encode():\n",
    "    url = 'https://www.encodeproject.org/search/?type=Experiment&format=json&limit=all'\n",
    "    headers = {'accept': 'application/json'}\n",
    "    \n",
    "    response = requests.get(url, headers=headers)\n",
    "    data = response.json()\n",
    "    experiment_graph = data.get('@graph', [])\n",
    "    number_of_experiments = len(experiment_graph)\n",
    "    number_of_files = 0\n",
    "    \n",
    "    for experiment in experiment_graph:\n",
    "        experiment_files = experiment.get('files', [])\n",
    "        experiment_file_count = len(experiment_files)\n",
    "        number_of_files += experiment_file_count\n",
    "    \n",
    "    return number_of_experiments, number_of_files"
   ]
  },
  {
   "cell_type": "code",
   "execution_count": 17,
   "metadata": {},
   "outputs": [
    {
     "name": "stdout",
     "output_type": "stream",
     "text": [
      "Total number of experiments on ENCODE: 25150\n",
      "Total number of files ENCODE: 762008\n"
     ]
    }
   ],
   "source": [
    "number_of_experiments, number_of_files = get_size_of_encode()\n",
    "print(f\"Total number of experiments on ENCODE: {number_of_experiments}\")\n",
    "print(f\"Total number of files ENCODE: {number_of_files}\")"
   ]
  },
  {
   "cell_type": "code",
   "execution_count": null,
   "metadata": {},
   "outputs": [],
   "source": [
    "## Le broken ...\n",
    "\n",
    "def all_files_to_static_json():\n",
    "    url = 'https://www.encodeproject.org/search/?type=File&format=json&limit=all'\n",
    "    headers = {'accept': 'application/json'}\n",
    "    response = requests.get(url, headers=headers)\n",
    "    data = response.json()\n",
    "    file_graph = data.get('@graph', [])\n",
    "    with open('encode_files.json', 'w') as f:\n",
    "        json.dump(file_graph, f)\n",
    "        \n",
    "    print('File graph saved to encode_files.json')"
   ]
  },
  {
   "cell_type": "code",
   "execution_count": null,
   "metadata": {},
   "outputs": [],
   "source": []
  }
 ],
 "metadata": {
  "kernelspec": {
   "display_name": ".venv",
   "language": "python",
   "name": "python3"
  },
  "language_info": {
   "codemirror_mode": {
    "name": "ipython",
    "version": 3
   },
   "file_extension": ".py",
   "mimetype": "text/x-python",
   "name": "python",
   "nbconvert_exporter": "python",
   "pygments_lexer": "ipython3",
   "version": "3.10.16"
  }
 },
 "nbformat": 4,
 "nbformat_minor": 2
}
