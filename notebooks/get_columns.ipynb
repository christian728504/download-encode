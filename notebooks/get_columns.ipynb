{
 "cells": [
  {
   "cell_type": "code",
   "execution_count": 9,
   "metadata": {},
   "outputs": [],
   "source": [
    "import json\n",
    "from box import Box"
   ]
  },
  {
   "cell_type": "code",
   "execution_count": null,
   "metadata": {},
   "outputs": [
    {
     "ename": "SyntaxError",
     "evalue": "incomplete input (1212364324.py, line 5)",
     "output_type": "error",
     "traceback": [
      "\u001b[0;36m  Cell \u001b[0;32mIn[35], line 5\u001b[0;36m\u001b[0m\n\u001b[0;31m    print(schema.columns.biosample_ontology.term_name.get(self)\u001b[0m\n\u001b[0m                                                               ^\u001b[0m\n\u001b[0;31mSyntaxError\u001b[0m\u001b[0;31m:\u001b[0m incomplete input\n"
     ]
    }
   ],
   "source": [
    "with open('/Users/anonmacintosh/dev/encode-matrix/encode_file_schema.json') as f:\n",
    "    schema = json.load(f)\n",
    "schema = Box(schema, default_box_none_transform=True)\n",
    "\n",
    "print()"
   ]
  },
  {
   "cell_type": "code",
   "execution_count": 42,
   "metadata": {},
   "outputs": [
    {
     "name": "stdout",
     "output_type": "stream",
     "text": [
      "title = str(file.get('title', 'NA'))\n",
      "accession = str(file.get('accession', 'NA'))\n",
      "dataset = str(file.get('dataset', 'NA'))\n",
      "assembly = str(file.get('assembly', 'NA'))\n",
      "technical_replicates = str(file.get('technical_replicates', 'NA'))\n",
      "biological_replicates = str(file.get('biological_replicates', 'NA'))\n",
      "file_format = str(file.get('file_format', 'NA'))\n",
      "file_type = str(file.get('file_type', 'NA'))\n",
      "file_format_type = str(file.get('file_format_type', 'NA'))\n",
      "file_size = str(file.get('file_size', 'NA'))\n",
      "assay_term_name = str(file.get('assay_term_name', 'NA'))\n",
      "term_name = str(file.get('biosample_ontology').get('term_name', 'NA'))\n",
      "organ_slims = str(file.get('biosample_ontology').get('organ_slims', 'NA'))\n",
      "simple_biosample_summary = str(file.get('simple_biosample_summary', 'NA'))\n",
      "origin_batches = str(file.get('origin_batches', 'NA'))\n",
      "label = str(file.get('target').get('label', 'NA'))\n",
      "href = str(file.get('href', 'NA'))\n",
      "derived_from = str(file.get('derived_from', 'NA'))\n",
      "genome_annotation = str(file.get('genome_annotation', 'NA'))\n",
      "accession = str(file.get('replicate.library').get('accession', 'NA'))\n",
      "paired_end = str(file.get('paired_end', 'NA'))\n",
      "paired_with = str(file.get('paired_with', 'NA'))\n",
      "preferred_default = str(file.get('preferred_default', 'NA'))\n",
      "run_type = str(file.get('run_type', 'NA'))\n",
      "read_length = str(file.get('read_length', 'NA'))\n",
      "mapped_read_length = str(file.get('mapped_read_length', 'NA'))\n",
      "cropped_read_length = str(file.get('cropped_read_length', 'NA'))\n",
      "cropped_read_length_tolerance = str(file.get('cropped_read_length_tolerance', 'NA'))\n",
      "mapped_run_type = str(file.get('mapped_run_type', 'NA'))\n",
      "read_length_units = str(file.get('read_length_units', 'NA'))\n",
      "output_category = str(file.get('output_category', 'NA'))\n",
      "output_type = str(file.get('output_type', 'NA'))\n",
      "index_of = str(file.get('index_of', 'NA'))\n",
      "quality_metrics = str(file.get('quality_metrics', 'NA'))\n",
      "title = str(file.get('lab').get('title', 'NA'))\n",
      "project = str(file.get('award').get('project', 'NA'))\n",
      "step_run = str(file.get('step_run', 'NA'))\n",
      "date_created = str(file.get('date_created', 'NA'))\n",
      "analysis_step_version = str(file.get('analysis_step_version', 'NA'))\n",
      "restricted = str(file.get('restricted', 'NA'))\n",
      "submitter_comment = str(file.get('submitter_comment', 'NA'))\n",
      "status = str(file.get('status', 'NA'))\n",
      "annotation_type = str(file.get('annotation_type', 'NA'))\n",
      "annotation_subtype = str(file.get('annotation_subtype', 'NA'))\n",
      "biochemical_inputs = str(file.get('biochemical_inputs', 'NA'))\n",
      "encyclopedia_version = str(file.get('encyclopedia_version', 'NA'))\n"
     ]
    }
   ],
   "source": [
    "for k in schema.columns.keys():\n",
    "    if len(k.split('.')) > 1:\n",
    "        get_value= k.split('.')[-1]\n",
    "        keys = k.split('.')[:-1]\n",
    "        joined_keys = '.'.join(keys)\n",
    "        print(f\"{get_value} = str(file.get('{joined_keys}').get('{get_value}', 'NA'))\")\n",
    "    else:\n",
    "        print(f\"{k} = str(file.get('{k}', 'NA'))\")"
   ]
  },
  {
   "cell_type": "code",
   "execution_count": 15,
   "metadata": {},
   "outputs": [
    {
     "name": "stdout",
     "output_type": "stream",
     "text": [
      "['title', 'accession', 'dataset', 'assembly', 'technical_replicates', 'biological_replicates', 'file_format', 'file_type', 'file_format_type', 'file_size', 'assay_term_name', 'term_name', 'organ_slims', 'simple_biosample_summary', 'origin_batches', 'label', 'href', 'derived_from', 'genome_annotation', 'accession', 'paired_end', 'paired_with', 'preferred_default', 'run_type', 'read_length', 'mapped_read_length', 'cropped_read_length', 'cropped_read_length_tolerance', 'mapped_run_type', 'read_length_units', 'output_category', 'output_type', 'index_of', 'quality_metrics', 'title', 'project', 'step_run', 'date_created', 'analysis_step_version', 'restricted', 'submitter_comment', 'status', 'annotation_type', 'annotation_subtype', 'biochemical_inputs', 'encyclopedia_version']\n"
     ]
    }
   ],
   "source": [
    "column_titles = []\n",
    "for k in schema.columns.keys():\n",
    "    column_title = k.split('.')[-1]\n",
    "    column_titles.append(column_title)\n",
    "print(column_titles)"
   ]
  },
  {
   "cell_type": "code",
   "execution_count": null,
   "metadata": {},
   "outputs": [],
   "source": []
  }
 ],
 "metadata": {
  "kernelspec": {
   "display_name": ".venv",
   "language": "python",
   "name": "python3"
  },
  "language_info": {
   "codemirror_mode": {
    "name": "ipython",
    "version": 3
   },
   "file_extension": ".py",
   "mimetype": "text/x-python",
   "name": "python",
   "nbconvert_exporter": "python",
   "pygments_lexer": "ipython3",
   "version": "3.10.16"
  }
 },
 "nbformat": 4,
 "nbformat_minor": 2
}
