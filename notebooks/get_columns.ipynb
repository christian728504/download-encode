{
 "cells": [
  {
   "cell_type": "code",
   "execution_count": null,
   "metadata": {},
   "outputs": [],
   "source": [
    "import json\n",
    "from box import Box"
   ]
  },
  {
   "cell_type": "code",
   "execution_count": null,
   "metadata": {},
   "outputs": [],
   "source": [
    "with open('/Users/anonmacintosh/dev/encode-matrix/encode_file_schema.json') as f:\n",
    "    schema = json.load(f)\n",
    "schema = Box(schema, default_box_none_transform=True)"
   ]
  },
  {
   "cell_type": "code",
   "execution_count": null,
   "metadata": {},
   "outputs": [],
   "source": [
    "column_titles = []\n",
    "for k in schema.columns.keys():\n",
    "    column_title = k.split('.')[-1]\n",
    "    column_titles.append(column_title)\n",
    "print(column_titles)"
   ]
  },
  {
   "cell_type": "code",
   "execution_count": 1,
   "metadata": {},
   "outputs": [
    {
     "name": "stdout",
     "output_type": "stream",
     "text": [
      "{'Server': 'nginx/1.18.0 (Ubuntu)', 'Date': 'Sat, 05 Apr 2025 22:46:18 GMT', 'Content-Type': 'application/json', 'Transfer-Encoding': 'chunked', 'Connection': 'keep-alive', 'Access-Control-Allow-Origin': '*', 'Access-Control-Allow-Methods': 'GET, HEAD', 'Access-Control-Allow-Headers': 'Accept, Origin, Range, X-Requested-With', 'Access-Control-Expose-Headers': 'Content-Length, Content-Range, Content-Type', 'X-Request-URL': 'https://www.encodeproject.org/files/?format=json&limit=1', 'X-Stats': 'db_count=1&db_time=1490&es_count=2&es_time=1726719&queue_begin=1743893177101495&queue_time=658&rss_begin=495611904&rss_change=1937408&rss_end=497549312&wsgi_begin=1743893177102153&wsgi_end=1743893178861150&wsgi_time=1758997', 'Vary': 'Accept-Encoding', 'Content-Encoding': 'gzip', 'Strict-Transport-Security': 'max-age=15768000'}\n"
     ]
    }
   ],
   "source": [
    "import requests\n",
    "\n",
    "response = requests.get('https://www.encodeproject.org/files/?format=json&limit=1')\n",
    "\n",
    "print(dict(response.headers))"
   ]
  },
  {
   "cell_type": "code",
   "execution_count": null,
   "metadata": {},
   "outputs": [],
   "source": []
  }
 ],
 "metadata": {
  "kernelspec": {
   "display_name": ".venv",
   "language": "python",
   "name": "python3"
  },
  "language_info": {
   "codemirror_mode": {
    "name": "ipython",
    "version": 3
   },
   "file_extension": ".py",
   "mimetype": "text/x-python",
   "name": "python",
   "nbconvert_exporter": "python",
   "pygments_lexer": "ipython3",
   "version": "3.10.12"
  }
 },
 "nbformat": 4,
 "nbformat_minor": 2
}
