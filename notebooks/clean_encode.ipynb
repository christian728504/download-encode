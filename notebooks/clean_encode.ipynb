{
 "cells": [
  {
   "cell_type": "code",
   "execution_count": 1,
   "metadata": {},
   "outputs": [],
   "source": [
    "import polars as pl\n",
    "from IPython.display import display\n",
    "import json\n",
    "import ast"
   ]
  },
  {
   "cell_type": "code",
   "execution_count": null,
   "metadata": {},
   "outputs": [],
   "source": [
    "encode_df = pl.read_parquet('../encode_files.parquet')"
   ]
  },
  {
   "cell_type": "code",
   "execution_count": null,
   "metadata": {},
   "outputs": [],
   "source": [
    "for column in encode_df.iter_columns():\n",
    "    display(column.unique())"
   ]
  },
  {
   "cell_type": "code",
   "execution_count": null,
   "metadata": {},
   "outputs": [],
   "source": [
    "display(encode_df)"
   ]
  },
  {
   "cell_type": "code",
   "execution_count": null,
   "metadata": {},
   "outputs": [],
   "source": [
    "# Convert \"NA\" to None\n",
    "\n",
    "encode_df = pl.DataFrame([column.replace({\"NA\": None}) for column in encode_df.iter_columns()])\n",
    "display(encode_df.head())"
   ]
  },
  {
   "cell_type": "code",
   "execution_count": null,
   "metadata": {},
   "outputs": [],
   "source": [
    "# Drop last 4 columns (contain no information)\n",
    "\n",
    "encode_df = encode_df.drop(pl.col(\"annotation_type\", \"annotation_subtype\", \"biochemical_inputs\", \"encyclopedia_version\"))\n",
    "display(encode_df.head())"
   ]
  },
  {
   "cell_type": "code",
   "execution_count": null,
   "metadata": {},
   "outputs": [],
   "source": [
    "# Convert select columns to numeric\n",
    "\n",
    "\n",
    "encode_df = encode_df.with_columns(pl.col(\"file_size\", \"read_length\", \"mapped_read_length\", \"cropped_read_length\", \"cropped_read_length_tolerance\").cast(pl.Float64))\n",
    "display(encode_df)"
   ]
  },
  {
   "cell_type": "code",
   "execution_count": null,
   "metadata": {},
   "outputs": [],
   "source": [
    "# Convert select columns to boolean\n",
    "\n",
    "encode_df = encode_df.with_columns(\n",
    "    pl.col(\"preferred_default\", \"restricted\").map_elements(\n",
    "        lambda x: True if x.lower() in [\"true\"] else \n",
    "                  False if x.lower() in [\"false\"] else None, return_dtype=pl.Boolean)\n",
    ")\n",
    "display(encode_df)"
   ]
  },
  {
   "cell_type": "code",
   "execution_count": null,
   "metadata": {},
   "outputs": [],
   "source": [
    "# Convert select columns to datetime\n",
    "\n",
    "encode_df = encode_df.with_columns(pl.col(\"date_created\").cast(pl.Datetime))\n",
    "display(encode_df)\n"
   ]
  },
  {
   "cell_type": "code",
   "execution_count": null,
   "metadata": {},
   "outputs": [],
   "source": [
    "# Test ast.literal_eval\n",
    "\n",
    "example = \"[]\"\n",
    "result = ast.literal_eval(example)\n",
    "print(result)\n",
    "print(type(result))"
   ]
  },
  {
   "cell_type": "code",
   "execution_count": null,
   "metadata": {},
   "outputs": [],
   "source": [
    "# Convert select columns to valid JSON\n",
    "\n",
    "encode_df = encode_df.with_columns(pl.col(\"technical_replicates\", \"biological_replicates\", \"organ_slims\", \"origin_batches\", \"derived_from\").map_elements(lambda x: json.loads(x.replace(\"'\", '\"'))))\n",
    "display(encode_df)"
   ]
  },
  {
   "cell_type": "code",
   "execution_count": null,
   "metadata": {},
   "outputs": [],
   "source": []
  },
  {
   "cell_type": "code",
   "execution_count": null,
   "metadata": {},
   "outputs": [],
   "source": [
    "# Inspect data\n",
    "\n",
    "for column in encode_df[\"quality_metrics\", \"step_run\", \"analysis_step_version\"].iter_columns():\n",
    "    display(column.to_list())"
   ]
  },
  {
   "cell_type": "code",
   "execution_count": null,
   "metadata": {},
   "outputs": [],
   "source": [
    "# Convert select columns to valid JSON\n",
    "\n",
    "encode_df = encode_df.drop(pl.col(\"quality_metrics\", \"step_run\", \"analysis_step_version\")) # json not playing nice with parser, opting to drop it\n",
    "display(encode_df)"
   ]
  },
  {
   "cell_type": "code",
   "execution_count": null,
   "metadata": {},
   "outputs": [],
   "source": [
    "# Done\n",
    "\n",
    "clean_encode = encode_df"
   ]
  },
  {
   "cell_type": "code",
   "execution_count": 3,
   "metadata": {},
   "outputs": [
    {
     "data": {
      "text/html": [
       "<div><style>\n",
       ".dataframe > thead > tr,\n",
       ".dataframe > tbody > tr {\n",
       "  text-align: right;\n",
       "  white-space: pre-wrap;\n",
       "}\n",
       "</style>\n",
       "<small>shape: (5, 38)</small><table border=\"1\" class=\"dataframe\"><thead><tr><th>title</th><th>accession</th><th>dataset</th><th>assembly</th><th>technical_replicates</th><th>biological_replicates</th><th>file_format</th><th>file_type</th><th>file_format_type</th><th>file_size</th><th>assay_term_name</th><th>term_name</th><th>organ_slims</th><th>simple_biosample_summary</th><th>origin_batches</th><th>label</th><th>download_url</th><th>derived_from</th><th>genome_annotation</th><th>paired_end</th><th>paired_with</th><th>preferred_default</th><th>run_type</th><th>read_length</th><th>mapped_read_length</th><th>cropped_read_length</th><th>cropped_read_length_tolerance</th><th>mapped_run_type</th><th>read_length_units</th><th>output_category</th><th>output_type</th><th>index_of</th><th>lab_title</th><th>project</th><th>date_created</th><th>restricted</th><th>submitter_comment</th><th>status</th></tr><tr><td>str</td><td>str</td><td>str</td><td>str</td><td>list[str]</td><td>list[i64]</td><td>str</td><td>str</td><td>str</td><td>f64</td><td>str</td><td>str</td><td>list[str]</td><td>str</td><td>list[str]</td><td>str</td><td>str</td><td>list[str]</td><td>str</td><td>str</td><td>str</td><td>bool</td><td>str</td><td>f64</td><td>f64</td><td>f64</td><td>f64</td><td>str</td><td>str</td><td>str</td><td>str</td><td>str</td><td>str</td><td>str</td><td>datetime[μs]</td><td>bool</td><td>str</td><td>str</td></tr></thead><tbody><tr><td>&quot;ENCFF566NGG&quot;</td><td>&quot;ENCFF566NGG&quot;</td><td>&quot;/experiments/ENCSR369MDF/&quot;</td><td>&quot;GRCh38&quot;</td><td>[&quot;1_1&quot;]</td><td>[1]</td><td>&quot;bam&quot;</td><td>&quot;bam&quot;</td><td>null</td><td>3.9361e9</td><td>&quot;RNA-seq&quot;</td><td>&quot;K562&quot;</td><td>[&quot;blood&quot;, &quot;bodily fluid&quot;]</td><td>&quot;treated with 5 μM JQ1 for 4 ho…</td><td>[&quot;/biosamples/ENCBS291NHT/&quot;]</td><td>null</td><td>&quot;https://encodeproject.org/file…</td><td>[&quot;/files/ENCFF598IDH/&quot;, &quot;/files/ENCFF146IQN/&quot;, &quot;/files/ENCFF967MFO/&quot;]</td><td>&quot;V29&quot;</td><td>null</td><td>null</td><td>null</td><td>null</td><td>null</td><td>150.0</td><td>null</td><td>null</td><td>&quot;paired-ended&quot;</td><td>&quot;nt&quot;</td><td>&quot;alignment&quot;</td><td>&quot;transcriptome alignments&quot;</td><td>null</td><td>&quot;ENCODE Processing Pipeline&quot;</td><td>&quot;ENCODE&quot;</td><td>2021-12-31 08:51:07.433754</td><td>null</td><td>null</td><td>&quot;released&quot;</td></tr><tr><td>&quot;ENCFF642UFR&quot;</td><td>&quot;ENCFF642UFR&quot;</td><td>&quot;/experiments/ENCSR250SCW/&quot;</td><td>&quot;mm10&quot;</td><td>[&quot;2_1&quot;]</td><td>[2]</td><td>&quot;tar&quot;</td><td>&quot;tar&quot;</td><td>null</td><td>4.117922e6</td><td>&quot;single-cell RNA sequencing ass…</td><td>&quot;left cerebral cortex&quot;</td><td>[&quot;brain&quot;]</td><td>&quot;male adult (2 months) strain B…</td><td>null</td><td>null</td><td>&quot;https://encodeproject.org/file…</td><td>[&quot;/files/ENCFF723SJO/&quot;, &quot;/files/ENCFF192SYW/&quot;]</td><td>&quot;M21&quot;</td><td>null</td><td>null</td><td>true</td><td>null</td><td>null</td><td>null</td><td>null</td><td>null</td><td>null</td><td>null</td><td>&quot;quantification&quot;</td><td>&quot;unfiltered sparse gene count m…</td><td>null</td><td>&quot;Barbara Wold, Caltech&quot;</td><td>&quot;ENCODE&quot;</td><td>2022-01-30 04:31:33.614985</td><td>null</td><td>null</td><td>&quot;released&quot;</td></tr><tr><td>&quot;ENCFF094MID&quot;</td><td>&quot;ENCFF094MID&quot;</td><td>&quot;/experiments/ENCSR414JJE/&quot;</td><td>null</td><td>[&quot;1_2&quot;]</td><td>[1]</td><td>&quot;fastq&quot;</td><td>&quot;fastq&quot;</td><td>null</td><td>2.63567745e8</td><td>&quot;Mint-ChIP-seq&quot;</td><td>&quot;naive B cell&quot;</td><td>[&quot;blood&quot;, &quot;bodily fluid&quot;]</td><td>&quot;female adult (39 years)&quot;</td><td>[&quot;/biosamples/ENCBS517ZRS/&quot;]</td><td>&quot;H3K27me3&quot;</td><td>&quot;https://encodeproject.org/file…</td><td>null</td><td>null</td><td>&quot;2&quot;</td><td>&quot;/files/ENCFF481AOK/&quot;</td><td>null</td><td>&quot;paired-ended&quot;</td><td>58.0</td><td>null</td><td>null</td><td>null</td><td>null</td><td>&quot;nt&quot;</td><td>&quot;raw data&quot;</td><td>&quot;reads&quot;</td><td>null</td><td>&quot;Bradley Bernstein, Broad&quot;</td><td>&quot;ENCODE&quot;</td><td>2022-02-11 14:58:17.561304</td><td>null</td><td>null</td><td>&quot;released&quot;</td></tr><tr><td>&quot;ENCFF506TJN&quot;</td><td>&quot;ENCFF506TJN&quot;</td><td>&quot;/experiments/ENCSR369MDF/&quot;</td><td>&quot;GRCh38&quot;</td><td>[&quot;2_1&quot;]</td><td>[2]</td><td>&quot;bigWig&quot;</td><td>&quot;bigWig&quot;</td><td>null</td><td>1.20998658e8</td><td>&quot;RNA-seq&quot;</td><td>&quot;K562&quot;</td><td>[&quot;blood&quot;, &quot;bodily fluid&quot;]</td><td>&quot;treated with 5 μM JQ1 for 4 ho…</td><td>[&quot;/biosamples/ENCBS798JQV/&quot;]</td><td>null</td><td>&quot;https://encodeproject.org/file…</td><td>[&quot;/files/ENCFF124OPS/&quot;, &quot;/files/GRCh38_EBV.chrom.sizes/&quot;]</td><td>&quot;V29&quot;</td><td>null</td><td>null</td><td>null</td><td>null</td><td>null</td><td>null</td><td>null</td><td>null</td><td>null</td><td>null</td><td>&quot;signal&quot;</td><td>&quot;signal of all reads&quot;</td><td>null</td><td>&quot;ENCODE Processing Pipeline&quot;</td><td>&quot;ENCODE&quot;</td><td>2021-12-31 08:51:14.572055</td><td>null</td><td>null</td><td>&quot;released&quot;</td></tr><tr><td>&quot;ENCFF174IGS&quot;</td><td>&quot;ENCFF174IGS&quot;</td><td>&quot;/experiments/ENCSR040TXN/&quot;</td><td>null</td><td>[&quot;1_2&quot;]</td><td>[1]</td><td>&quot;fastq&quot;</td><td>&quot;fastq&quot;</td><td>null</td><td>4.580196e7</td><td>&quot;Mint-ChIP-seq&quot;</td><td>&quot;central memory CD8-positive, a…</td><td>[]</td><td>&quot;male adult (36 years)&quot;</td><td>[&quot;/biosamples/ENCBS181QGR/&quot;]</td><td>&quot;H3K4me3&quot;</td><td>&quot;https://encodeproject.org/file…</td><td>null</td><td>null</td><td>&quot;2&quot;</td><td>&quot;/files/ENCFF066EBL/&quot;</td><td>null</td><td>&quot;paired-ended&quot;</td><td>58.0</td><td>null</td><td>null</td><td>null</td><td>null</td><td>&quot;nt&quot;</td><td>&quot;raw data&quot;</td><td>&quot;reads&quot;</td><td>null</td><td>&quot;Bradley Bernstein, Broad&quot;</td><td>&quot;ENCODE&quot;</td><td>2022-02-11 15:54:31.696914</td><td>null</td><td>null</td><td>&quot;released&quot;</td></tr></tbody></table></div>"
      ],
      "text/plain": [
       "shape: (5, 38)\n",
       "┌────────────┬───────────┬───────────┬──────────┬───┬───────────┬───────────┬───────────┬──────────┐\n",
       "│ title      ┆ accession ┆ dataset   ┆ assembly ┆ … ┆ date_crea ┆ restricte ┆ submitter ┆ status   │\n",
       "│ ---        ┆ ---       ┆ ---       ┆ ---      ┆   ┆ ted       ┆ d         ┆ _comment  ┆ ---      │\n",
       "│ str        ┆ str       ┆ str       ┆ str      ┆   ┆ ---       ┆ ---       ┆ ---       ┆ str      │\n",
       "│            ┆           ┆           ┆          ┆   ┆ datetime[ ┆ bool      ┆ str       ┆          │\n",
       "│            ┆           ┆           ┆          ┆   ┆ μs]       ┆           ┆           ┆          │\n",
       "╞════════════╪═══════════╪═══════════╪══════════╪═══╪═══════════╪═══════════╪═══════════╪══════════╡\n",
       "│ ENCFF566NG ┆ ENCFF566N ┆ /experime ┆ GRCh38   ┆ … ┆ 2021-12-3 ┆ null      ┆ null      ┆ released │\n",
       "│ G          ┆ GG        ┆ nts/ENCSR ┆          ┆   ┆ 1 08:51:0 ┆           ┆           ┆          │\n",
       "│            ┆           ┆ 369MDF/   ┆          ┆   ┆ 7.433754  ┆           ┆           ┆          │\n",
       "│ ENCFF642UF ┆ ENCFF642U ┆ /experime ┆ mm10     ┆ … ┆ 2022-01-3 ┆ null      ┆ null      ┆ released │\n",
       "│ R          ┆ FR        ┆ nts/ENCSR ┆          ┆   ┆ 0 04:31:3 ┆           ┆           ┆          │\n",
       "│            ┆           ┆ 250SCW/   ┆          ┆   ┆ 3.614985  ┆           ┆           ┆          │\n",
       "│ ENCFF094MI ┆ ENCFF094M ┆ /experime ┆ null     ┆ … ┆ 2022-02-1 ┆ null      ┆ null      ┆ released │\n",
       "│ D          ┆ ID        ┆ nts/ENCSR ┆          ┆   ┆ 1 14:58:1 ┆           ┆           ┆          │\n",
       "│            ┆           ┆ 414JJE/   ┆          ┆   ┆ 7.561304  ┆           ┆           ┆          │\n",
       "│ ENCFF506TJ ┆ ENCFF506T ┆ /experime ┆ GRCh38   ┆ … ┆ 2021-12-3 ┆ null      ┆ null      ┆ released │\n",
       "│ N          ┆ JN        ┆ nts/ENCSR ┆          ┆   ┆ 1 08:51:1 ┆           ┆           ┆          │\n",
       "│            ┆           ┆ 369MDF/   ┆          ┆   ┆ 4.572055  ┆           ┆           ┆          │\n",
       "│ ENCFF174IG ┆ ENCFF174I ┆ /experime ┆ null     ┆ … ┆ 2022-02-1 ┆ null      ┆ null      ┆ released │\n",
       "│ S          ┆ GS        ┆ nts/ENCSR ┆          ┆   ┆ 1 15:54:3 ┆           ┆           ┆          │\n",
       "│            ┆           ┆ 040TXN/   ┆          ┆   ┆ 1.696914  ┆           ┆           ┆          │\n",
       "└────────────┴───────────┴───────────┴──────────┴───┴───────────┴───────────┴───────────┴──────────┘"
      ]
     },
     "metadata": {},
     "output_type": "display_data"
    }
   ],
   "source": [
    "inspect = pl.read_parquet('../clean_encode_files.parquet')\n",
    "display(inspect.head())"
   ]
  },
  {
   "cell_type": "code",
   "execution_count": null,
   "metadata": {},
   "outputs": [],
   "source": []
  }
 ],
 "metadata": {
  "kernelspec": {
   "display_name": ".venv",
   "language": "python",
   "name": "python3"
  },
  "language_info": {
   "codemirror_mode": {
    "name": "ipython",
    "version": 3
   },
   "file_extension": ".py",
   "mimetype": "text/x-python",
   "name": "python",
   "nbconvert_exporter": "python",
   "pygments_lexer": "ipython3",
   "version": "3.10.12"
  }
 },
 "nbformat": 4,
 "nbformat_minor": 2
}
